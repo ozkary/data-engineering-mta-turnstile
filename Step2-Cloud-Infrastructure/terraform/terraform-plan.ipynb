{
 "cells": [
  {
   "cell_type": "markdown",
   "metadata": {},
   "source": [
    "# Terraform Commands\n",
    "\n",
    "This list outlines the essential Terraform commands for a typical workflow, presented in markdown format:\n",
    "\n",
    "* **Initialization:**\n",
    "    * `terraform init` - Initializes the Terraform configuration in the current directory. Downloads required providers and plugins.\n",
    "\n",
    "* **Validate Configuration:**\n",
    "    * `terraform validate` - Validates the Terraform configuration syntax and checks for potential errors.\n",
    "\n",
    "* **Plan Changes:**\n",
    "    * `terraform plan` - Generates an execution plan outlining the changes Terraform will make to your infrastructure based on the current configuration. Displays resources that will be created, updated, or destroyed.\n",
    "    * `terraform plan -out plan.out` - Saves the execution plan to a file named `plan.out` for later review.\n",
    "\n",
    "* **Apply Changes (Deployment):**\n",
    "    * `terraform apply` - Executes the changes outlined in the plan and provisions your infrastructure based on the Terraform configuration.\n",
    "    * `terraform apply plan.out` - Applies the changes from a previously saved plan file (e.g., `plan.out`). Use this after reviewing a saved plan.\n",
    "    * `terraform apply -auto-approve` - Applies the plan without prompting for confirmation (use with caution!).\n",
    "\n",
    "* **Destroy Infrastructure:**\n",
    "    * `terraform destroy` - Generates a plan to destroy all resources managed by Terraform in the current state.\n",
    "    * `terraform destroy -force` - Forces the destruction of resources even if errors occur (use with extreme caution!).\n",
    "\n",
    "* **State Management:**\n",
    "    * `terraform state list` - Lists all resources currently managed by Terraform in the state file.\n",
    "    * `terraform show <resource_type>.<resource_name>` - Displays detailed information about a specific resource.\n",
    "    * `terraform refresh` - Refreshes the Terraform state with the latest information from the infrastructure provider.\n",
    "\n",
    "* **Additional Commands:**\n",
    "    * `terraform doc <resource_type>` - Generates documentation for a specific Terraform resource type.\n",
    "\n"
   ]
  },
  {
   "cell_type": "code",
   "execution_count": 18,
   "metadata": {},
   "outputs": [],
   "source": [
    "import os"
   ]
  },
  {
   "cell_type": "code",
   "execution_count": 17,
   "metadata": {},
   "outputs": [
    {
     "name": "stdout",
     "output_type": "stream",
     "text": [
      "None\n"
     ]
    }
   ],
   "source": [
    "# these commands can be executed from the CLI use ! when running on Jupyter notebooks\n",
    "!terraform init"
   ]
  },
  {
   "cell_type": "code",
   "execution_count": 20,
   "metadata": {},
   "outputs": [],
   "source": [
    "project_name =  os.getenv(\"GOOGLE_PROJECT_NAME\")\n",
    "# show a plan based on the current .tf files\n",
    "!terraform plan -var=\"project={project_name}\""
   ]
  }
 ],
 "metadata": {
  "kernelspec": {
   "display_name": "Python 3",
   "language": "python",
   "name": "python3"
  },
  "language_info": {
   "codemirror_mode": {
    "name": "ipython",
    "version": 3
   },
   "file_extension": ".py",
   "mimetype": "text/x-python",
   "name": "python",
   "nbconvert_exporter": "python",
   "pygments_lexer": "ipython3",
   "version": "3.8.10"
  }
 },
 "nbformat": 4,
 "nbformat_minor": 2
}
