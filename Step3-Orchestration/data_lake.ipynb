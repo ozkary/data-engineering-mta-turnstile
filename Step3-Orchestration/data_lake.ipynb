{
 "cells": [
  {
   "cell_type": "markdown",
   "metadata": {},
   "source": [
    "# Interacting with the Data Lake files\n",
    "\n",
    "### Install the cloud provider Python libraries\n",
    "\n",
    "```bash\n",
    "\n",
    "pip install gcsfs\n",
    "\n",
    "```"
   ]
  },
  {
   "cell_type": "code",
   "execution_count": 1,
   "metadata": {},
   "outputs": [],
   "source": [
    "import os\n",
    "import pandas as pd"
   ]
  },
  {
   "cell_type": "code",
   "execution_count": 3,
   "metadata": {},
   "outputs": [],
   "source": [
    "# Specify the GCS bucket and path\n",
    "PROJECT = os.getenv('GOOGLE_PROJECT_NAME')\n",
    "BUCKET = 'gs://ozkary_data_lake_ozkary-de-101'\n",
    "CONTAINER = 'turnstile'"
   ]
  },
  {
   "cell_type": "markdown",
   "metadata": {},
   "source": [
    "## Use the Google Cloud API"
   ]
  },
  {
   "cell_type": "code",
   "execution_count": 7,
   "metadata": {},
   "outputs": [
    {
     "name": "stdout",
     "output_type": "stream",
     "text": [
      "turnstile/240302.csv.gz 2717306\n",
      "turnstile/240309.csv.gz 2756893\n",
      "turnstile/240316.csv.gz 2698860\n",
      "turnstile/batch_23_20240722_210838.csv.gz 372\n",
      "turnstile/batch_24_20240722_211013.csv.gz 1231\n",
      "turnstile/batch_26_20240724_124515.csv.gz 738\n"
     ]
    }
   ],
   "source": [
    "# query the bucket using GCS API and display the file names and sizes\n",
    "from google.cloud import storage\n",
    "def files_in_storage():\n",
    "    storage_client = storage.Client(project=PROJECT)\n",
    "    bucket = storage_client.get_bucket(BUCKET.split('/')[-1])\n",
    "    files = bucket.list_blobs()\n",
    "    for file in files:    \n",
    "        print(file.name, file.size)\n",
    "\n",
    "files_in_storage()"
   ]
  },
  {
   "cell_type": "markdown",
   "metadata": {},
   "source": [
    "## View a data sample"
   ]
  },
  {
   "cell_type": "code",
   "execution_count": 5,
   "metadata": {},
   "outputs": [
    {
     "name": "stdout",
     "output_type": "stream",
     "text": [
      "gs://ozkary_data_lake_ozkary-de-101/turnstile/240309.csv.gz\n",
      "     CA  UNIT       SCP STATION LINENAME DIVISION        DATE      TIME  \\\n",
      "0  A002  R051  02-00-00   59 ST  NQR456W      BMT  03/02/2024  03:00:00   \n",
      "1  A002  R051  02-00-00   59 ST  NQR456W      BMT  03/02/2024  07:00:00   \n",
      "2  A002  R051  02-00-00   59 ST  NQR456W      BMT  03/02/2024  11:00:00   \n",
      "3  A002  R051  02-00-00   59 ST  NQR456W      BMT  03/02/2024  15:00:00   \n",
      "4  A002  R051  02-00-00   59 ST  NQR456W      BMT  03/02/2024  19:00:00   \n",
      "5  A002  R051  02-00-00   59 ST  NQR456W      BMT  03/02/2024  23:00:00   \n",
      "6  A002  R051  02-00-00   59 ST  NQR456W      BMT  03/03/2024  03:00:00   \n",
      "7  A002  R051  02-00-00   59 ST  NQR456W      BMT  03/03/2024  07:00:00   \n",
      "8  A002  R051  02-00-00   59 ST  NQR456W      BMT  03/03/2024  11:00:00   \n",
      "9  A002  R051  02-00-00   59 ST  NQR456W      BMT  03/03/2024  15:00:00   \n",
      "\n",
      "      DESC  ENTRIES  EXITS  \n",
      "0  REGULAR   131997  97773  \n",
      "1  REGULAR   131999  97789  \n",
      "2  REGULAR   132025  97859  \n",
      "3  REGULAR   132085  97963  \n",
      "4  REGULAR   132184  98016  \n",
      "5  REGULAR   132263  98037  \n",
      "6  REGULAR   132276  98048  \n",
      "7  REGULAR   132279  98059  \n",
      "8  REGULAR   132304  98120  \n",
      "9  REGULAR   132366  98166  \n"
     ]
    }
   ],
   "source": [
    "def show_data(path: str):\n",
    "    # Specify the GCS URL with the path to your file in your GCS bucket\n",
    "    gcs_url = f'{BUCKET}/{path}'\n",
    "    print(gcs_url)\n",
    "\n",
    "    # Use Pandas to read data from the GCS URL\n",
    "    df = pd.read_csv(gcs_url, iterator=False,compression=\"gzip\", index_col=0)\n",
    "\n",
    "    # Now you can work with the DataFrame 'df' as usual\n",
    "    print(df.head(10))  # Example: Display the first few rows of the DataFrame\n",
    "\n",
    "PATH = f'{CONTAINER}/240309.csv.gz'\n",
    "show_data(PATH)"
   ]
  },
  {
   "cell_type": "markdown",
   "metadata": {},
   "source": [
    "## Monitor your orchestration system\n"
   ]
  },
  {
   "cell_type": "code",
   "execution_count": 8,
   "metadata": {},
   "outputs": [
    {
     "name": "stdout",
     "output_type": "stream",
     "text": [
      "/usr/lib/python3/dist-packages/paramiko/transport.py:219: CryptographyDeprecationWarning: Blowfish has been deprecated\n",
      "  \"class\": algorithms.Blowfish,\n",
      "\u001b[32mNo flow runs found.\u001b[0m\n",
      "/usr/lib/python3/dist-packages/paramiko/transport.py:219: CryptographyDeprecationWarning: Blowfish has been deprecated\n",
      "  \"class\": algorithms.Blowfish,\n",
      "\u001b[3m                                  Deployments                                  \u001b[0m\n",
      "┏━━━━━━━━━━━━━━━━━━━━━━━━━━━━━━━━━━━━━━┳━━━━━━━━━━━━━━━━━━━━━━━━━━━━━━━━━━━━━━┓\n",
      "┃\u001b[1m \u001b[0m\u001b[1mName                                \u001b[0m\u001b[1m \u001b[0m┃\u001b[1m \u001b[0m\u001b[1mID                                  \u001b[0m\u001b[1m \u001b[0m┃\n",
      "┡━━━━━━━━━━━━━━━━━━━━━━━━━━━━━━━━━━━━━━╇━━━━━━━━━━━━━━━━━━━━━━━━━━━━━━━━━━━━━━┩\n",
      "│\u001b[34m \u001b[0m\u001b[34mMTA Batch flow/\u001b[0m\u001b[1;34mdep-docker-mta-de-101\u001b[0m\u001b[34m \u001b[0m│\u001b[36m \u001b[0m\u001b[36m32f03a73-ebee-47d4-96af-405c20b7b76d\u001b[0m\u001b[36m \u001b[0m│\n",
      "│\u001b[34m \u001b[0m\u001b[34mMTA Test/\u001b[0m\u001b[1;34mprefect-test-deployment\u001b[0m\u001b[34m    \u001b[0m\u001b[34m \u001b[0m│\u001b[36m \u001b[0m\u001b[36mfe26904d-f3a0-40af-bead-863320ad5cad\u001b[0m\u001b[36m \u001b[0m│\n",
      "└──────────────────────────────────────┴──────────────────────────────────────┘\n",
      "/usr/lib/python3/dist-packages/paramiko/transport.py:219: CryptographyDeprecationWarning: Blowfish has been deprecated\n",
      "  \"class\": algorithms.Blowfish,\n",
      "\u001b[3m                                     Blocks                                     \u001b[0m\n",
      "┏━━━━━━━━━━━━━━━━━━━━━━━━━━━┳━━━━━━━┳━━━━━━━━━━━━┳━━━━━━━━━━━━━━━━━━━━━━━━━━━━━┓\n",
      "┃\u001b[1m \u001b[0m\u001b[1mID                       \u001b[0m\u001b[1m \u001b[0m┃\u001b[1m \u001b[0m\u001b[1mType \u001b[0m\u001b[1m \u001b[0m┃\u001b[1m \u001b[0m\u001b[1mName      \u001b[0m\u001b[1m \u001b[0m┃\u001b[1m \u001b[0m\u001b[1mSlug                       \u001b[0m\u001b[1m \u001b[0m┃\n",
      "┡━━━━━━━━━━━━━━━━━━━━━━━━━━━╇━━━━━━━╇━━━━━━━━━━━━╇━━━━━━━━━━━━━━━━━━━━━━━━━━━━━┩\n",
      "│\u001b[36m \u001b[0m\u001b[36m91bfa2ac-2ce5-4023-a002-…\u001b[0m\u001b[36m \u001b[0m│\u001b[34m \u001b[0m\u001b[34mDock…\u001b[0m\u001b[34m \u001b[0m│\u001b[34m \u001b[0m\u001b[34mblk-docke…\u001b[0m\u001b[34m \u001b[0m│\u001b[34m \u001b[0m\u001b[34mdocker-container/blk-docke…\u001b[0m\u001b[34m \u001b[0m│\n",
      "│\u001b[36m \u001b[0m\u001b[36m6873aef3-0c03-440d-8d1e-…\u001b[0m\u001b[36m \u001b[0m│\u001b[34m \u001b[0m\u001b[34mEmail\u001b[0m\u001b[34m \u001b[0m│\u001b[34m \u001b[0m\u001b[34mblk-email…\u001b[0m\u001b[34m \u001b[0m│\u001b[34m \u001b[0m\u001b[34memail/blk-email-notificati…\u001b[0m\u001b[34m \u001b[0m│\n",
      "│\u001b[36m \u001b[0m\u001b[36m080f1b24-2d70-470b-a16e-…\u001b[0m\u001b[36m \u001b[0m│\u001b[34m \u001b[0m\u001b[34mGCP …\u001b[0m\u001b[34m \u001b[0m│\u001b[34m \u001b[0m\u001b[34mblk-gcp-s…\u001b[0m\u001b[34m \u001b[0m│\u001b[34m \u001b[0m\u001b[34mgcp-credentials/blk-gcp-sv…\u001b[0m\u001b[34m \u001b[0m│\n",
      "│\u001b[36m \u001b[0m\u001b[36m359d6d62-8888-4c81-ba1a-…\u001b[0m\u001b[36m \u001b[0m│\u001b[34m \u001b[0m\u001b[34mGCS …\u001b[0m\u001b[34m \u001b[0m│\u001b[34m \u001b[0m\u001b[34mblk-gcs-n…\u001b[0m\u001b[34m \u001b[0m│\u001b[34m \u001b[0m\u001b[34mgcs-bucket/blk-gcs-name    \u001b[0m\u001b[34m \u001b[0m│\n",
      "│\u001b[36m \u001b[0m\u001b[36m83e0c693-0004-48d2-99cb-…\u001b[0m\u001b[36m \u001b[0m│\u001b[34m \u001b[0m\u001b[34mSecr…\u001b[0m\u001b[34m \u001b[0m│\u001b[34m \u001b[0m\u001b[34mblk-githu…\u001b[0m\u001b[34m \u001b[0m│\u001b[34m \u001b[0m\u001b[34msecret/blk-github-secret   \u001b[0m\u001b[34m \u001b[0m│\n",
      "│\u001b[36m \u001b[0m\u001b[36m0c51fae7-65bf-4309-a159-…\u001b[0m\u001b[36m \u001b[0m│\u001b[34m \u001b[0m\u001b[34mSlac…\u001b[0m\u001b[34m \u001b[0m│\u001b[34m \u001b[0m\u001b[34mblk-slack…\u001b[0m\u001b[34m \u001b[0m│\u001b[34m \u001b[0m\u001b[34mslack-webhook/blk-slack-no…\u001b[0m\u001b[34m \u001b[0m│\n",
      "└───────────────────────────┴───────┴────────────┴─────────────────────────────┘\n",
      "\u001b[2;3m                 List Block Types using `prefect block type ls`                 \u001b[0m\n"
     ]
    }
   ],
   "source": [
    "# check the prefect system\n",
    "!prefect flow-run ls\n",
    "\n",
    "!prefect deployment ls\n",
    "\n",
    "!prefect block ls\n"
   ]
  },
  {
   "cell_type": "markdown",
   "metadata": {},
   "source": [
    "## Run the data pipeline process locally\n",
    "\n",
    "```bash\n",
    "python3 ./flows/etl_web_to_gcs.py --year 2024 --month 2 --day 24\n",
    "```"
   ]
  },
  {
   "cell_type": "code",
   "execution_count": 6,
   "metadata": {},
   "outputs": [
    {
     "name": "stdout",
     "output_type": "stream",
     "text": [
      "/usr/lib/python3/dist-packages/paramiko/transport.py:219: CryptographyDeprecationWarning: Blowfish has been deprecated\n",
      "  \"class\": algorithms.Blowfish,\n",
      "\u001b[3m                                   Flow Runs                                    \u001b[0m\n",
      "┏━━━━━━━━━━━━━━━━━━━━━━━━━━━━━━━━┳━━━━━━━━━━━━━━━━━━┳━━━━━━━━━━━━┳━━━┳━━━━━━━━━┓\n",
      "┃\u001b[1m \u001b[0m\u001b[1m                            ID\u001b[0m\u001b[1m \u001b[0m┃\u001b[1m \u001b[0m\u001b[1mFlow            \u001b[0m\u001b[1m \u001b[0m┃\u001b[1m \u001b[0m\u001b[1mName      \u001b[0m\u001b[1m \u001b[0m┃\u001b[1m \u001b[0m\u001b[1m…\u001b[0m\u001b[1m \u001b[0m┃\u001b[1m \u001b[0m\u001b[1mWhen   \u001b[0m\u001b[1m \u001b[0m┃\n",
      "┡━━━━━━━━━━━━━━━━━━━━━━━━━━━━━━━━╇━━━━━━━━━━━━━━━━━━╇━━━━━━━━━━━━╇━━━╇━━━━━━━━━┩\n",
      "│\u001b[36m \u001b[0m\u001b[36mbb930f81-576c-4e93-9a76-9a945…\u001b[0m\u001b[36m \u001b[0m│\u001b[34m \u001b[0m\u001b[34mMTA : etl_web_t…\u001b[0m\u001b[34m \u001b[0m│\u001b[32m \u001b[0m\u001b[32mdivergent…\u001b[0m\u001b[32m \u001b[0m│ … │\u001b[1m \u001b[0m\u001b[1m36 sec…\u001b[0m\u001b[1m \u001b[0m│\n",
      "│\u001b[36m \u001b[0m\u001b[36mc8f3cdea-b1ca-490f-878e-69955…\u001b[0m\u001b[36m \u001b[0m│\u001b[34m \u001b[0m\u001b[34mMTA Batch flow  \u001b[0m\u001b[34m \u001b[0m│\u001b[32m \u001b[0m\u001b[32mspeedy-pu…\u001b[0m\u001b[32m \u001b[0m│ … │\u001b[1m \u001b[0m\u001b[1m38 sec…\u001b[0m\u001b[1m \u001b[0m│\n",
      "└────────────────────────────────┴──────────────────┴────────────┴───┴─────────┘\n"
     ]
    }
   ],
   "source": [
    "#check the active flows\n",
    "!prefect flow-run ls\n"
   ]
  },
  {
   "cell_type": "code",
   "execution_count": 10,
   "metadata": {},
   "outputs": [
    {
     "name": "stdout",
     "output_type": "stream",
     "text": [
      "turnstile/240217.csv.gz 2715438\n",
      "turnstile/240224.csv.gz 2693738\n",
      "turnstile/240302.csv.gz 2717306\n"
     ]
    }
   ],
   "source": [
    "# check the files in the data lake\n",
    "files_in_storage()"
   ]
  },
  {
   "cell_type": "code",
   "execution_count": 11,
   "metadata": {},
   "outputs": [
    {
     "name": "stdout",
     "output_type": "stream",
     "text": [
      "gs://ozkary_data_lake_ozkary-de-101/turnstile/240302.csv.gz\n",
      "     CA  UNIT       SCP STATION LINENAME DIVISION        DATE      TIME  \\\n",
      "0  A002  R051  02-00-00   59 ST  NQR456W      BMT  02/24/2024  03:00:00   \n",
      "1  A002  R051  02-00-00   59 ST  NQR456W      BMT  02/24/2024  07:00:00   \n",
      "2  A002  R051  02-00-00   59 ST  NQR456W      BMT  02/24/2024  11:00:00   \n",
      "3  A002  R051  02-00-00   59 ST  NQR456W      BMT  02/24/2024  15:00:00   \n",
      "4  A002  R051  02-00-00   59 ST  NQR456W      BMT  02/24/2024  19:00:00   \n",
      "5  A002  R051  02-00-00   59 ST  NQR456W      BMT  02/24/2024  23:00:00   \n",
      "6  A002  R051  02-00-00   59 ST  NQR456W      BMT  02/25/2024  03:00:00   \n",
      "7  A002  R051  02-00-00   59 ST  NQR456W      BMT  02/25/2024  07:00:00   \n",
      "8  A002  R051  02-00-00   59 ST  NQR456W      BMT  02/25/2024  11:00:00   \n",
      "9  A002  R051  02-00-00   59 ST  NQR456W      BMT  02/25/2024  15:00:00   \n",
      "\n",
      "      DESC  ENTRIES  EXITS  \n",
      "0  REGULAR   128436  94650  \n",
      "1  REGULAR   128443  94666  \n",
      "2  REGULAR   128479  94733  \n",
      "3  REGULAR   128551  94798  \n",
      "4  REGULAR   128671  94871  \n",
      "5  REGULAR   128753  94906  \n",
      "6  REGULAR   128769  94923  \n",
      "7  REGULAR   128773  94935  \n",
      "8  REGULAR   128815  94977  \n",
      "9  REGULAR   128869  95036  \n"
     ]
    }
   ],
   "source": [
    "# show new file content\n",
    "file_path = f'{CONTAINER}/240302.csv.gz'\n",
    "show_data(file_path)"
   ]
  }
 ],
 "metadata": {
  "kernelspec": {
   "display_name": "Python 3",
   "language": "python",
   "name": "python3"
  },
  "language_info": {
   "codemirror_mode": {
    "name": "ipython",
    "version": 3
   },
   "file_extension": ".py",
   "mimetype": "text/x-python",
   "name": "python",
   "nbconvert_exporter": "python",
   "pygments_lexer": "ipython3",
   "version": "3.8.10"
  }
 },
 "nbformat": 4,
 "nbformat_minor": 2
}
