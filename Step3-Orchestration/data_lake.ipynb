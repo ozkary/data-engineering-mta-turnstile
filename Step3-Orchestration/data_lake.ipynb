{
 "cells": [
  {
   "cell_type": "markdown",
   "metadata": {},
   "source": [
    "# Interacting with the Data Lake files\n",
    "\n",
    "### Install the cloud provider Python libraries\n",
    "\n",
    "```bash\n",
    "\n",
    "pip install gcsfs\n",
    "\n",
    "```"
   ]
  },
  {
   "cell_type": "code",
   "execution_count": null,
   "metadata": {},
   "outputs": [],
   "source": [
    "import os\n",
    "import pandas as pd"
   ]
  },
  {
   "cell_type": "code",
   "execution_count": 9,
   "metadata": {},
   "outputs": [],
   "source": [
    "# Specify the GCS bucket and path\n",
    "PROJECT = 'ozkary-de-101'\n",
    "BUCKET = 'gs://ozkary_data_lake_ozkary-de-101'\n",
    "PATH = 'turnstile/230930.csv.gz'"
   ]
  },
  {
   "cell_type": "code",
   "execution_count": 13,
   "metadata": {},
   "outputs": [
    {
     "name": "stdout",
     "output_type": "stream",
     "text": [
      "   2756245  2023-08-25T13:59:47Z  gs://ozkary_data_lake_ozkary-de-101/turnstile/230805.csv.gz\n",
      "   2742272  2023-08-25T14:01:25Z  gs://ozkary_data_lake_ozkary-de-101/turnstile/230812.csv.gz\n",
      "   2722456  2023-08-25T14:02:46Z  gs://ozkary_data_lake_ozkary-de-101/turnstile/230819.csv.gz\n",
      "   2694682  2023-10-23T16:35:00Z  gs://ozkary_data_lake_ozkary-de-101/turnstile/230902.csv.gz\n",
      "   2706608  2023-10-23T16:36:08Z  gs://ozkary_data_lake_ozkary-de-101/turnstile/230909.csv.gz\n",
      "   2732408  2023-10-23T16:37:15Z  gs://ozkary_data_lake_ozkary-de-101/turnstile/230916.csv.gz\n",
      "   2743126  2023-10-23T16:38:18Z  gs://ozkary_data_lake_ozkary-de-101/turnstile/230923.csv.gz\n",
      "   2711959  2023-10-23T16:39:23Z  gs://ozkary_data_lake_ozkary-de-101/turnstile/230930.csv.gz\n",
      "TOTAL: 8 objects, 21809756 bytes (20.8 MiB)\n"
     ]
    }
   ],
   "source": [
    "# show the files in the bucket\n",
    "!gsutil ls -l $BUCKET/turnstile"
   ]
  },
  {
   "cell_type": "code",
   "execution_count": 17,
   "metadata": {},
   "outputs": [
    {
     "name": "stdout",
     "output_type": "stream",
     "text": [
      "turnstile/230805.csv.gz 2756245\n",
      "turnstile/230812.csv.gz 2742272\n",
      "turnstile/230819.csv.gz 2722456\n",
      "turnstile/230902.csv.gz 2694682\n",
      "turnstile/230909.csv.gz 2706608\n",
      "turnstile/230916.csv.gz 2732408\n",
      "turnstile/230923.csv.gz 2743126\n",
      "turnstile/230930.csv.gz 2711959\n"
     ]
    }
   ],
   "source": [
    "# query the bucket using GCS API and display the file names and sizes\n",
    "from google.cloud import storage\n",
    "storage_client = storage.Client(project=PROJECT)\n",
    "bucket = storage_client.get_bucket(BUCKET.split('/')[-1])\n",
    "files = bucket.list_blobs()\n",
    "for file in files:\n",
    "    print(file.name, file.size)"
   ]
  },
  {
   "cell_type": "code",
   "execution_count": 10,
   "metadata": {},
   "outputs": [
    {
     "name": "stdout",
     "output_type": "stream",
     "text": [
      "gs://ozkary_data_lake_ozkary-de-101/turnstile/230930.csv.gz\n",
      "    Unnamed: 0    CA  UNIT       SCP STATION LINENAME DIVISION        DATE  \\\n",
      "0            0  A002  R051  02-00-00   59 ST  NQR456W      BMT  09/23/2023   \n",
      "1            1  A002  R051  02-00-00   59 ST  NQR456W      BMT  09/23/2023   \n",
      "2            2  A002  R051  02-00-00   59 ST  NQR456W      BMT  09/23/2023   \n",
      "3            3  A002  R051  02-00-00   59 ST  NQR456W      BMT  09/23/2023   \n",
      "4            4  A002  R051  02-00-00   59 ST  NQR456W      BMT  09/23/2023   \n",
      "5            5  A002  R051  02-00-00   59 ST  NQR456W      BMT  09/23/2023   \n",
      "6            6  A002  R051  02-00-00   59 ST  NQR456W      BMT  09/24/2023   \n",
      "7            7  A002  R051  02-00-00   59 ST  NQR456W      BMT  09/24/2023   \n",
      "8            8  A002  R051  02-00-00   59 ST  NQR456W      BMT  09/24/2023   \n",
      "9            9  A002  R051  02-00-00   59 ST  NQR456W      BMT  09/24/2023   \n",
      "10          10  A002  R051  02-00-00   59 ST  NQR456W      BMT  09/24/2023   \n",
      "11          11  A002  R051  02-00-00   59 ST  NQR456W      BMT  09/24/2023   \n",
      "12          12  A002  R051  02-00-00   59 ST  NQR456W      BMT  09/25/2023   \n",
      "13          13  A002  R051  02-00-00   59 ST  NQR456W      BMT  09/25/2023   \n",
      "14          14  A002  R051  02-00-00   59 ST  NQR456W      BMT  09/25/2023   \n",
      "15          15  A002  R051  02-00-00   59 ST  NQR456W      BMT  09/25/2023   \n",
      "16          16  A002  R051  02-00-00   59 ST  NQR456W      BMT  09/25/2023   \n",
      "17          17  A002  R051  02-00-00   59 ST  NQR456W      BMT  09/25/2023   \n",
      "18          18  A002  R051  02-00-00   59 ST  NQR456W      BMT  09/26/2023   \n",
      "19          19  A002  R051  02-00-00   59 ST  NQR456W      BMT  09/26/2023   \n",
      "\n",
      "        TIME     DESC  ENTRIES  EXITS  \n",
      "0   00:00:00  REGULAR    53148  37172  \n",
      "1   04:00:00  REGULAR    53161  37190  \n",
      "2   08:00:00  REGULAR    53176  37231  \n",
      "3   12:00:00  REGULAR    53210  37294  \n",
      "4   16:00:00  REGULAR    53279  37357  \n",
      "5   20:00:00  REGULAR    53368  37395  \n",
      "6   00:00:00  REGULAR    53410  37427  \n",
      "7   04:00:00  REGULAR    53417  37434  \n",
      "8   08:00:00  REGULAR    53419  37458  \n",
      "9   12:00:00  REGULAR    53447  37511  \n",
      "10  16:00:00  REGULAR    53501  37570  \n",
      "11  20:00:00  REGULAR    53598  37621  \n",
      "12  00:00:00  REGULAR    53627  37648  \n",
      "13  04:00:00  REGULAR    53628  37654  \n",
      "14  08:00:00  REGULAR    53643  37727  \n",
      "15  12:00:00  REGULAR    53690  37893  \n",
      "16  16:00:00  REGULAR    53800  37968  \n",
      "17  20:00:00  REGULAR    54030  38044  \n",
      "18  00:00:00  REGULAR    54097  38083  \n",
      "19  04:00:00  REGULAR    54103  38090  \n"
     ]
    }
   ],
   "source": [
    "\n",
    "# Specify the GCS URL with the path to your file in your GCS bucket\n",
    "gcs_url = f'{BUCKET}/{PATH}'\n",
    "print(gcs_url)\n",
    "\n",
    "# Use Pandas to read data from the GCS URL\n",
    "df = pd.read_csv(gcs_url, iterator=False,compression=\"gzip\")\n",
    "\n",
    "# Now you can work with the DataFrame 'df' as usual\n",
    "print(df.head(20))  # Example: Display the first few rows of the DataFrame\n"
   ]
  }
 ],
 "metadata": {
  "kernelspec": {
   "display_name": "Python 3",
   "language": "python",
   "name": "python3"
  },
  "language_info": {
   "codemirror_mode": {
    "name": "ipython",
    "version": 3
   },
   "file_extension": ".py",
   "mimetype": "text/x-python",
   "name": "python",
   "nbconvert_exporter": "python",
   "pygments_lexer": "ipython3",
   "version": "3.8.10"
  }
 },
 "nbformat": 4,
 "nbformat_minor": 2
}
