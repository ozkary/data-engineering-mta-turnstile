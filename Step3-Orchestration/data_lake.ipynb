{
 "cells": [
  {
   "cell_type": "markdown",
   "metadata": {},
   "source": [
    "# Interacting with the Data Lake files\n",
    "\n",
    "### Install the cloud provider Python libraries\n",
    "\n",
    "```bash\n",
    "\n",
    "pip install gcsfs\n",
    "\n",
    "```"
   ]
  },
  {
   "cell_type": "code",
   "execution_count": 2,
   "metadata": {},
   "outputs": [],
   "source": [
    "import os\n",
    "import pandas as pd"
   ]
  },
  {
   "cell_type": "code",
   "execution_count": 3,
   "metadata": {},
   "outputs": [],
   "source": [
    "# Specify the GCS bucket and path\n",
    "PROJECT = os.getenv('GOOGLE_PROJECT_NAME')\n",
    "BUCKET = 'gs://ozkary_data_lake_ozkary-de-101'\n",
    "CONTAINER = 'turnstile'"
   ]
  },
  {
   "cell_type": "code",
   "execution_count": 3,
   "metadata": {},
   "outputs": [
    {
     "name": "stdout",
     "output_type": "stream",
     "text": [
      "\n",
      "\n",
      "Updates are available for some Google Cloud CLI components.  To install them,\n",
      "please run:\n",
      "  $ gcloud components update\n",
      "\n",
      "   2733534  2024-01-30T16:03:09Z  gs://ozkary_data_lake_ozkary-de-101/turnstile/231104.csv.gz\n",
      "   2766446  2024-01-30T16:04:16Z  gs://ozkary_data_lake_ozkary-de-101/turnstile/231111.csv.gz\n",
      "   2739833  2024-01-30T16:05:17Z  gs://ozkary_data_lake_ozkary-de-101/turnstile/231118.csv.gz\n",
      "   2697420  2024-01-30T16:06:19Z  gs://ozkary_data_lake_ozkary-de-101/turnstile/231125.csv.gz\n",
      "   2716923  2024-01-30T16:35:34Z  gs://ozkary_data_lake_ozkary-de-101/turnstile/231202.csv.gz\n",
      "   2727822  2024-01-30T16:37:01Z  gs://ozkary_data_lake_ozkary-de-101/turnstile/231209.csv.gz\n",
      "   2714129  2024-01-30T16:38:09Z  gs://ozkary_data_lake_ozkary-de-101/turnstile/231216.csv.gz\n",
      "   2718102  2024-01-30T16:39:08Z  gs://ozkary_data_lake_ozkary-de-101/turnstile/231223.csv.gz\n",
      "   2709209  2024-01-30T16:40:17Z  gs://ozkary_data_lake_ozkary-de-101/turnstile/231230.csv.gz\n",
      "   2704536  2024-03-01T21:41:15Z  gs://ozkary_data_lake_ozkary-de-101/turnstile/240106.csv.gz\n",
      "   2714553  2024-03-06T17:30:45Z  gs://ozkary_data_lake_ozkary-de-101/turnstile/240113.csv.gz\n",
      "       250  2024-01-30T20:58:47Z  gs://ozkary_data_lake_ozkary-de-101/turnstile/batch_19_20240130_155844.csv.gz\n",
      "       415  2024-01-30T21:00:12Z  gs://ozkary_data_lake_ozkary-de-101/turnstile/batch_20_20240130_160006.csv.gz\n",
      "       250  2024-01-30T21:17:01Z  gs://ozkary_data_lake_ozkary-de-101/turnstile/batch_22_20240130_161658.csv.gz\n",
      "TOTAL: 14 objects, 29943422 bytes (28.56 MiB)\n"
     ]
    }
   ],
   "source": [
    "# show the files in the bucket\n",
    "!gsutil ls -l $BUCKET/turnstile"
   ]
  },
  {
   "cell_type": "markdown",
   "metadata": {},
   "source": [
    "## Use the Google Cloud API"
   ]
  },
  {
   "cell_type": "code",
   "execution_count": 4,
   "metadata": {},
   "outputs": [
    {
     "name": "stdout",
     "output_type": "stream",
     "text": [
      "turnstile/240217.csv.gz 2715438\n",
      "turnstile/240224.csv.gz 2693738\n"
     ]
    }
   ],
   "source": [
    "# query the bucket using GCS API and display the file names and sizes\n",
    "from google.cloud import storage\n",
    "def files_in_storage():\n",
    "    storage_client = storage.Client(project=PROJECT)\n",
    "    bucket = storage_client.get_bucket(BUCKET.split('/')[-1])\n",
    "    files = bucket.list_blobs()\n",
    "    for file in files:    \n",
    "        print(file.name, file.size)\n",
    "\n",
    "files_in_storage()"
   ]
  },
  {
   "cell_type": "markdown",
   "metadata": {},
   "source": [
    "## View a data sample"
   ]
  },
  {
   "cell_type": "code",
   "execution_count": 5,
   "metadata": {},
   "outputs": [
    {
     "name": "stdout",
     "output_type": "stream",
     "text": [
      "gs://ozkary_data_lake_ozkary-de-101/turnstile/240224.csv.gz\n",
      "     CA  UNIT       SCP STATION LINENAME DIVISION        DATE      TIME  \\\n",
      "0  A002  R051  02-00-00   59 ST  NQR456W      BMT  02/17/2024  03:00:00   \n",
      "1  A002  R051  02-00-00   59 ST  NQR456W      BMT  02/17/2024  07:00:00   \n",
      "2  A002  R051  02-00-00   59 ST  NQR456W      BMT  02/17/2024  11:00:00   \n",
      "3  A002  R051  02-00-00   59 ST  NQR456W      BMT  02/17/2024  15:00:00   \n",
      "4  A002  R051  02-00-00   59 ST  NQR456W      BMT  02/17/2024  19:00:00   \n",
      "5  A002  R051  02-00-00   59 ST  NQR456W      BMT  02/17/2024  23:00:00   \n",
      "6  A002  R051  02-00-00   59 ST  NQR456W      BMT  02/18/2024  03:00:00   \n",
      "7  A002  R051  02-00-00   59 ST  NQR456W      BMT  02/18/2024  07:00:00   \n",
      "8  A002  R051  02-00-00   59 ST  NQR456W      BMT  02/18/2024  11:00:00   \n",
      "9  A002  R051  02-00-00   59 ST  NQR456W      BMT  02/18/2024  15:00:00   \n",
      "\n",
      "      DESC  ENTRIES  EXITS  \n",
      "0  REGULAR   125307  92102  \n",
      "1  REGULAR   125311  92112  \n",
      "2  REGULAR   125341  92181  \n",
      "3  REGULAR   125401  92235  \n",
      "4  REGULAR   125515  92308  \n",
      "5  REGULAR   125573  92351  \n",
      "6  REGULAR   125585  92357  \n",
      "7  REGULAR   125588  92368  \n",
      "8  REGULAR   125618  92421  \n",
      "9  REGULAR   125679  92484  \n"
     ]
    }
   ],
   "source": [
    "def show_data(path: str):\n",
    "    # Specify the GCS URL with the path to your file in your GCS bucket\n",
    "    gcs_url = f'{BUCKET}/{path}'\n",
    "    print(gcs_url)\n",
    "\n",
    "    # Use Pandas to read data from the GCS URL\n",
    "    df = pd.read_csv(gcs_url, iterator=False,compression=\"gzip\", index_col=0)\n",
    "\n",
    "    # Now you can work with the DataFrame 'df' as usual\n",
    "    print(df.head(10))  # Example: Display the first few rows of the DataFrame\n",
    "\n",
    "PATH = f'{CONTAINER}/240224.csv.gz'\n",
    "show_data(PATH)"
   ]
  },
  {
   "cell_type": "markdown",
   "metadata": {},
   "source": [
    "## Monitor your orchestration system\n"
   ]
  },
  {
   "cell_type": "code",
   "execution_count": 8,
   "metadata": {},
   "outputs": [
    {
     "name": "stdout",
     "output_type": "stream",
     "text": [
      "/usr/lib/python3/dist-packages/paramiko/transport.py:219: CryptographyDeprecationWarning: Blowfish has been deprecated\n",
      "  \"class\": algorithms.Blowfish,\n",
      "\u001b[32mNo flow runs found.\u001b[0m\n",
      "/usr/lib/python3/dist-packages/paramiko/transport.py:219: CryptographyDeprecationWarning: Blowfish has been deprecated\n",
      "  \"class\": algorithms.Blowfish,\n",
      "\u001b[3m                                  Deployments                                  \u001b[0m\n",
      "┏━━━━━━━━━━━━━━━━━━━━━━━━━━━━━━━━━━━━━━┳━━━━━━━━━━━━━━━━━━━━━━━━━━━━━━━━━━━━━━┓\n",
      "┃\u001b[1m \u001b[0m\u001b[1mName                                \u001b[0m\u001b[1m \u001b[0m┃\u001b[1m \u001b[0m\u001b[1mID                                  \u001b[0m\u001b[1m \u001b[0m┃\n",
      "┡━━━━━━━━━━━━━━━━━━━━━━━━━━━━━━━━━━━━━━╇━━━━━━━━━━━━━━━━━━━━━━━━━━━━━━━━━━━━━━┩\n",
      "│\u001b[34m \u001b[0m\u001b[34mMTA Batch flow/\u001b[0m\u001b[1;34mdep-docker-mta-de-101\u001b[0m\u001b[34m \u001b[0m│\u001b[36m \u001b[0m\u001b[36m32f03a73-ebee-47d4-96af-405c20b7b76d\u001b[0m\u001b[36m \u001b[0m│\n",
      "│\u001b[34m \u001b[0m\u001b[34mMTA Test/\u001b[0m\u001b[1;34mprefect-test-deployment\u001b[0m\u001b[34m    \u001b[0m\u001b[34m \u001b[0m│\u001b[36m \u001b[0m\u001b[36mfe26904d-f3a0-40af-bead-863320ad5cad\u001b[0m\u001b[36m \u001b[0m│\n",
      "└──────────────────────────────────────┴──────────────────────────────────────┘\n",
      "/usr/lib/python3/dist-packages/paramiko/transport.py:219: CryptographyDeprecationWarning: Blowfish has been deprecated\n",
      "  \"class\": algorithms.Blowfish,\n",
      "\u001b[3m                                     Blocks                                     \u001b[0m\n",
      "┏━━━━━━━━━━━━━━━━━━━━━━━━━━━┳━━━━━━━┳━━━━━━━━━━━━┳━━━━━━━━━━━━━━━━━━━━━━━━━━━━━┓\n",
      "┃\u001b[1m \u001b[0m\u001b[1mID                       \u001b[0m\u001b[1m \u001b[0m┃\u001b[1m \u001b[0m\u001b[1mType \u001b[0m\u001b[1m \u001b[0m┃\u001b[1m \u001b[0m\u001b[1mName      \u001b[0m\u001b[1m \u001b[0m┃\u001b[1m \u001b[0m\u001b[1mSlug                       \u001b[0m\u001b[1m \u001b[0m┃\n",
      "┡━━━━━━━━━━━━━━━━━━━━━━━━━━━╇━━━━━━━╇━━━━━━━━━━━━╇━━━━━━━━━━━━━━━━━━━━━━━━━━━━━┩\n",
      "│\u001b[36m \u001b[0m\u001b[36m91bfa2ac-2ce5-4023-a002-…\u001b[0m\u001b[36m \u001b[0m│\u001b[34m \u001b[0m\u001b[34mDock…\u001b[0m\u001b[34m \u001b[0m│\u001b[34m \u001b[0m\u001b[34mblk-docke…\u001b[0m\u001b[34m \u001b[0m│\u001b[34m \u001b[0m\u001b[34mdocker-container/blk-docke…\u001b[0m\u001b[34m \u001b[0m│\n",
      "│\u001b[36m \u001b[0m\u001b[36m6873aef3-0c03-440d-8d1e-…\u001b[0m\u001b[36m \u001b[0m│\u001b[34m \u001b[0m\u001b[34mEmail\u001b[0m\u001b[34m \u001b[0m│\u001b[34m \u001b[0m\u001b[34mblk-email…\u001b[0m\u001b[34m \u001b[0m│\u001b[34m \u001b[0m\u001b[34memail/blk-email-notificati…\u001b[0m\u001b[34m \u001b[0m│\n",
      "│\u001b[36m \u001b[0m\u001b[36m080f1b24-2d70-470b-a16e-…\u001b[0m\u001b[36m \u001b[0m│\u001b[34m \u001b[0m\u001b[34mGCP …\u001b[0m\u001b[34m \u001b[0m│\u001b[34m \u001b[0m\u001b[34mblk-gcp-s…\u001b[0m\u001b[34m \u001b[0m│\u001b[34m \u001b[0m\u001b[34mgcp-credentials/blk-gcp-sv…\u001b[0m\u001b[34m \u001b[0m│\n",
      "│\u001b[36m \u001b[0m\u001b[36m359d6d62-8888-4c81-ba1a-…\u001b[0m\u001b[36m \u001b[0m│\u001b[34m \u001b[0m\u001b[34mGCS …\u001b[0m\u001b[34m \u001b[0m│\u001b[34m \u001b[0m\u001b[34mblk-gcs-n…\u001b[0m\u001b[34m \u001b[0m│\u001b[34m \u001b[0m\u001b[34mgcs-bucket/blk-gcs-name    \u001b[0m\u001b[34m \u001b[0m│\n",
      "│\u001b[36m \u001b[0m\u001b[36m83e0c693-0004-48d2-99cb-…\u001b[0m\u001b[36m \u001b[0m│\u001b[34m \u001b[0m\u001b[34mSecr…\u001b[0m\u001b[34m \u001b[0m│\u001b[34m \u001b[0m\u001b[34mblk-githu…\u001b[0m\u001b[34m \u001b[0m│\u001b[34m \u001b[0m\u001b[34msecret/blk-github-secret   \u001b[0m\u001b[34m \u001b[0m│\n",
      "│\u001b[36m \u001b[0m\u001b[36m0c51fae7-65bf-4309-a159-…\u001b[0m\u001b[36m \u001b[0m│\u001b[34m \u001b[0m\u001b[34mSlac…\u001b[0m\u001b[34m \u001b[0m│\u001b[34m \u001b[0m\u001b[34mblk-slack…\u001b[0m\u001b[34m \u001b[0m│\u001b[34m \u001b[0m\u001b[34mslack-webhook/blk-slack-no…\u001b[0m\u001b[34m \u001b[0m│\n",
      "└───────────────────────────┴───────┴────────────┴─────────────────────────────┘\n",
      "\u001b[2;3m                 List Block Types using `prefect block type ls`                 \u001b[0m\n"
     ]
    }
   ],
   "source": [
    "# check the prefect system\n",
    "!prefect flow-run ls\n",
    "\n",
    "!prefect deployment ls\n",
    "\n",
    "!prefect block ls\n"
   ]
  },
  {
   "cell_type": "markdown",
   "metadata": {},
   "source": [
    "## Run the data pipeline process locally\n",
    "\n",
    "```bash\n",
    "python3 ./flows/etl_web_to_gcs.py --year 2024 --month 2 --day 24\n",
    "```"
   ]
  },
  {
   "cell_type": "code",
   "execution_count": 9,
   "metadata": {},
   "outputs": [
    {
     "name": "stdout",
     "output_type": "stream",
     "text": [
      "/usr/lib/python3/dist-packages/paramiko/transport.py:219: CryptographyDeprecationWarning: Blowfish has been deprecated\n",
      "  \"class\": algorithms.Blowfish,\n",
      "\u001b[3m                                   Flow Runs                                    \u001b[0m\n",
      "┏━━━━━━━━━━━━━━━━━━━━━━━━━━━━━━━━┳━━━━━━━━━━━━━━━━━━┳━━━━━━━━━━━┳━━━┳━━━━━━━━━━┓\n",
      "┃\u001b[1m \u001b[0m\u001b[1m                            ID\u001b[0m\u001b[1m \u001b[0m┃\u001b[1m \u001b[0m\u001b[1mFlow            \u001b[0m\u001b[1m \u001b[0m┃\u001b[1m \u001b[0m\u001b[1mName     \u001b[0m\u001b[1m \u001b[0m┃\u001b[1m \u001b[0m\u001b[1m…\u001b[0m\u001b[1m \u001b[0m┃\u001b[1m \u001b[0m\u001b[1mWhen    \u001b[0m\u001b[1m \u001b[0m┃\n",
      "┡━━━━━━━━━━━━━━━━━━━━━━━━━━━━━━━━╇━━━━━━━━━━━━━━━━━━╇━━━━━━━━━━━╇━━━╇━━━━━━━━━━┩\n",
      "│\u001b[36m \u001b[0m\u001b[36m58309890-9999-4149-96e7-0936d…\u001b[0m\u001b[36m \u001b[0m│\u001b[34m \u001b[0m\u001b[34mMTA : etl_web_t…\u001b[0m\u001b[34m \u001b[0m│\u001b[32m \u001b[0m\u001b[32mjumping-…\u001b[0m\u001b[32m \u001b[0m│ … │\u001b[1m \u001b[0m\u001b[1m42 seco…\u001b[0m\u001b[1m \u001b[0m│\n",
      "│\u001b[36m \u001b[0m\u001b[36ma5303819-1299-4557-9d33-a4c46…\u001b[0m\u001b[36m \u001b[0m│\u001b[34m \u001b[0m\u001b[34mMTA Batch flow  \u001b[0m\u001b[34m \u001b[0m│\u001b[32m \u001b[0m\u001b[32mdaft-wasp\u001b[0m\u001b[32m \u001b[0m│ … │\u001b[1m \u001b[0m\u001b[1m44 seco…\u001b[0m\u001b[1m \u001b[0m│\n",
      "└────────────────────────────────┴──────────────────┴───────────┴───┴──────────┘\n"
     ]
    }
   ],
   "source": [
    "#check the active flows\n",
    "!prefect flow-run ls\n"
   ]
  },
  {
   "cell_type": "code",
   "execution_count": 10,
   "metadata": {},
   "outputs": [
    {
     "name": "stdout",
     "output_type": "stream",
     "text": [
      "turnstile/240217.csv.gz 2715438\n",
      "turnstile/240224.csv.gz 2693738\n",
      "turnstile/240302.csv.gz 2717306\n"
     ]
    }
   ],
   "source": [
    "# check the files in the data lake\n",
    "files_in_storage()"
   ]
  },
  {
   "cell_type": "code",
   "execution_count": 11,
   "metadata": {},
   "outputs": [
    {
     "name": "stdout",
     "output_type": "stream",
     "text": [
      "gs://ozkary_data_lake_ozkary-de-101/turnstile/240302.csv.gz\n",
      "     CA  UNIT       SCP STATION LINENAME DIVISION        DATE      TIME  \\\n",
      "0  A002  R051  02-00-00   59 ST  NQR456W      BMT  02/24/2024  03:00:00   \n",
      "1  A002  R051  02-00-00   59 ST  NQR456W      BMT  02/24/2024  07:00:00   \n",
      "2  A002  R051  02-00-00   59 ST  NQR456W      BMT  02/24/2024  11:00:00   \n",
      "3  A002  R051  02-00-00   59 ST  NQR456W      BMT  02/24/2024  15:00:00   \n",
      "4  A002  R051  02-00-00   59 ST  NQR456W      BMT  02/24/2024  19:00:00   \n",
      "5  A002  R051  02-00-00   59 ST  NQR456W      BMT  02/24/2024  23:00:00   \n",
      "6  A002  R051  02-00-00   59 ST  NQR456W      BMT  02/25/2024  03:00:00   \n",
      "7  A002  R051  02-00-00   59 ST  NQR456W      BMT  02/25/2024  07:00:00   \n",
      "8  A002  R051  02-00-00   59 ST  NQR456W      BMT  02/25/2024  11:00:00   \n",
      "9  A002  R051  02-00-00   59 ST  NQR456W      BMT  02/25/2024  15:00:00   \n",
      "\n",
      "      DESC  ENTRIES  EXITS  \n",
      "0  REGULAR   128436  94650  \n",
      "1  REGULAR   128443  94666  \n",
      "2  REGULAR   128479  94733  \n",
      "3  REGULAR   128551  94798  \n",
      "4  REGULAR   128671  94871  \n",
      "5  REGULAR   128753  94906  \n",
      "6  REGULAR   128769  94923  \n",
      "7  REGULAR   128773  94935  \n",
      "8  REGULAR   128815  94977  \n",
      "9  REGULAR   128869  95036  \n"
     ]
    }
   ],
   "source": [
    "# show new file content\n",
    "file_path = f'{CONTAINER}/240302.csv.gz'\n",
    "show_data(file_path)"
   ]
  }
 ],
 "metadata": {
  "kernelspec": {
   "display_name": "Python 3",
   "language": "python",
   "name": "python3"
  },
  "language_info": {
   "codemirror_mode": {
    "name": "ipython",
    "version": 3
   },
   "file_extension": ".py",
   "mimetype": "text/x-python",
   "name": "python",
   "nbconvert_exporter": "python",
   "pygments_lexer": "ipython3",
   "version": "3.8.10"
  }
 },
 "nbformat": 4,
 "nbformat_minor": 2
}
