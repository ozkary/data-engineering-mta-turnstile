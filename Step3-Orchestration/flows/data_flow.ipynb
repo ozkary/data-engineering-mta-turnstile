{
 "cells": [
  {
   "cell_type": "markdown",
   "metadata": {},
   "source": [
    "## How to run the main batch flow manually\n",
    "\n",
    "This flow is part of the batch data pipeline process. Its purpose is to download a file from the MTA and copy it to the data lake.\n",
    "\n",
    "- Link files have this format\n",
    "    - http://web.mta.info/developers/data/nyct/turnstile/turnstile_230318.txt\n",
    "    - files are published every Saturday format turnstile_yyMMdd.txt\n",
    "- Run this command from the CLI\n",
    "    `python3 etl_web_to_gcs.py --year 2024 --month 3 --day 18`\n",
    "- View the files in the data lake\n",
    "    - check files in gcs gs://ozkary-mta-data/mta/turnstile/ \n",
    "    - Use the data_lake.ipynb file to query the data lake\n",
    "- Check flow Execution:\n",
    "    `$ prefect flow-run ls`"
   ]
  },
  {
   "cell_type": "code",
   "execution_count": 2,
   "metadata": {},
   "outputs": [
    {
     "name": "stdout",
     "output_type": "stream",
     "text": [
      "An error occurred: module 'importlib.metadata' has no attribute 'packages_distributions'\n",
      "/home/ozkary/.local/share/virtualenvs/de-mta-8Vm7nBsw/lib/python3.9/site-packages/google/api_core/_python_version_support.py:252: FutureWarning: You are using a Python version (3.9.5) past its end of life. Google will update google.api_core with critical bug fixes on a best-effort basis, but not with any other fixes or features. Please upgrade to the latest Python version, or at least Python 3.10, and then update google.api_core.\n",
      "  warnings.warn(message, FutureWarning)\n",
      "\u001b[H\u001b[2JProcessing data load\n",
      "21:41:52.346 | \u001b[36mINFO\u001b[0m    | Flow run\u001b[35m 'pristine-mammoth'\u001b[0m - Beginning flow run\u001b[35m 'pristine-mammoth'\u001b[0m for flow\u001b[1;35m 'MTA Batch flow'\u001b[0m\n",
      "21:41:52.352 | \u001b[36mINFO\u001b[0m    | Flow run\u001b[35m 'pristine-mammoth'\u001b[0m - View at \u001b[94mhttps://app.prefect.cloud/account/88ecdd73-84e7-4f0f-be91-f73099cd2f1b/workspace/68e01036-7285-440c-803a-14048dbb73c6/runs/flow-run/0690170e-06ee-7c3f-8000-c0b86ce6f8a2\u001b[0m\n",
      "task request status True input 2024-1\n",
      "21:41:52.400 | \u001b[36mINFO\u001b[0m    | Task run 'valid_task-ca9' - Finished in state \u001b[32mCompleted\u001b[0m()\n",
      "21:41:52.428 | \u001b[36mINFO\u001b[0m    | Task run 'get_the_file_dates-d7c' - Finished in state \u001b[32mCompleted\u001b[0m()\n",
      "240106\n",
      "21:41:53.515 | \u001b[36mINFO\u001b[0m    | Flow run\u001b[35m 'tunneling-sambar'\u001b[0m - Beginning subflow run\u001b[35m 'tunneling-sambar'\u001b[0m for flow\u001b[1;35m 'MTA : etl_web_to_local'\u001b[0m\n",
      "21:41:53.516 | \u001b[36mINFO\u001b[0m    | Flow run\u001b[35m 'tunneling-sambar'\u001b[0m - View at \u001b[94mhttps://app.prefect.cloud/account/88ecdd73-84e7-4f0f-be91-f73099cd2f1b/workspace/68e01036-7285-440c-803a-14048dbb73c6/runs/flow-run/0690170e-19d8-7d3a-8000-cb40b269ba86\u001b[0m\n",
      "240106 already processed\n",
      "21:41:53.769 | \u001b[36mINFO\u001b[0m    | Flow run\u001b[35m 'tunneling-sambar'\u001b[0m - Finished in state \u001b[32mCompleted\u001b[0m()\n",
      "blk-gcs-name ../../data/240106.csv.gz turnstile/240106.csv.gz\n",
      "21:41:54.128 | \u001b[36mINFO\u001b[0m    | Task run 'write_gcs-93f' - Getting bucket 'ozkary_data_lake_ozkary-de-101'.\n",
      "21:41:54.755 | \u001b[36mINFO\u001b[0m    | Task run 'write_gcs-93f' - Uploading from PosixPath('../../data/240106.csv.gz') to the bucket 'ozkary_data_lake_ozkary-de-101' path 'turnstile/240106.csv.gz'.\n",
      "21:41:59.874 | \u001b[36mINFO\u001b[0m    | Task run 'write_gcs-93f' - Finished in state \u001b[32mCompleted\u001b[0m()\n",
      "240113\n",
      "21:42:00.739 | \u001b[36mINFO\u001b[0m    | Flow run\u001b[35m 'rose-sloth'\u001b[0m - Beginning subflow run\u001b[35m 'rose-sloth'\u001b[0m for flow\u001b[1;35m 'MTA : etl_web_to_local'\u001b[0m\n",
      "21:42:00.740 | \u001b[36mINFO\u001b[0m    | Flow run\u001b[35m 'rose-sloth'\u001b[0m - View at \u001b[94mhttps://app.prefect.cloud/account/88ecdd73-84e7-4f0f-be91-f73099cd2f1b/workspace/68e01036-7285-440c-803a-14048dbb73c6/runs/flow-run/0690170e-8e95-7d94-8000-63492f719e93\u001b[0m\n",
      "240113 already processed\n",
      "21:42:00.929 | \u001b[36mINFO\u001b[0m    | Flow run\u001b[35m 'rose-sloth'\u001b[0m - Finished in state \u001b[32mCompleted\u001b[0m()\n",
      "blk-gcs-name ../../data/240113.csv.gz turnstile/240113.csv.gz\n",
      "21:42:01.173 | \u001b[36mINFO\u001b[0m    | Task run 'write_gcs-1bd' - Getting bucket 'ozkary_data_lake_ozkary-de-101'.\n",
      "21:42:01.731 | \u001b[36mINFO\u001b[0m    | Task run 'write_gcs-1bd' - Uploading from PosixPath('../../data/240113.csv.gz') to the bucket 'ozkary_data_lake_ozkary-de-101' path 'turnstile/240113.csv.gz'.\n",
      "21:42:07.452 | \u001b[36mINFO\u001b[0m    | Task run 'write_gcs-1bd' - Finished in state \u001b[32mCompleted\u001b[0m()\n",
      "240120\n",
      "21:42:08.324 | \u001b[36mINFO\u001b[0m    | Flow run\u001b[35m 'nimble-teal'\u001b[0m - Beginning subflow run\u001b[35m 'nimble-teal'\u001b[0m for flow\u001b[1;35m 'MTA : etl_web_to_local'\u001b[0m\n",
      "21:42:08.325 | \u001b[36mINFO\u001b[0m    | Flow run\u001b[35m 'nimble-teal'\u001b[0m - View at \u001b[94mhttps://app.prefect.cloud/account/88ecdd73-84e7-4f0f-be91-f73099cd2f1b/workspace/68e01036-7285-440c-803a-14048dbb73c6/runs/flow-run/0690170f-0859-7008-8000-1f13bdb4ff49\u001b[0m\n",
      "240120 already processed\n",
      "21:42:08.511 | \u001b[36mINFO\u001b[0m    | Flow run\u001b[35m 'nimble-teal'\u001b[0m - Finished in state \u001b[32mCompleted\u001b[0m()\n",
      "blk-gcs-name ../../data/240120.csv.gz turnstile/240120.csv.gz\n",
      "21:42:08.770 | \u001b[36mINFO\u001b[0m    | Task run 'write_gcs-d51' - Getting bucket 'ozkary_data_lake_ozkary-de-101'.\n",
      "21:42:09.320 | \u001b[36mINFO\u001b[0m    | Task run 'write_gcs-d51' - Uploading from PosixPath('../../data/240120.csv.gz') to the bucket 'ozkary_data_lake_ozkary-de-101' path 'turnstile/240120.csv.gz'.\n",
      "21:42:12.015 | \u001b[36mINFO\u001b[0m    | Task run 'write_gcs-d51' - Finished in state \u001b[32mCompleted\u001b[0m()\n",
      "240127\n",
      "21:42:13.368 | \u001b[36mINFO\u001b[0m    | Flow run\u001b[35m 'tuscan-ladybug'\u001b[0m - Beginning subflow run\u001b[35m 'tuscan-ladybug'\u001b[0m for flow\u001b[1;35m 'MTA : etl_web_to_local'\u001b[0m\n",
      "21:42:13.369 | \u001b[36mINFO\u001b[0m    | Flow run\u001b[35m 'tuscan-ladybug'\u001b[0m - View at \u001b[94mhttps://app.prefect.cloud/account/88ecdd73-84e7-4f0f-be91-f73099cd2f1b/workspace/68e01036-7285-440c-803a-14048dbb73c6/runs/flow-run/0690170f-57d6-7203-8000-c3d1fd582df9\u001b[0m\n",
      "240127 already processed\n",
      "21:42:13.576 | \u001b[36mINFO\u001b[0m    | Flow run\u001b[35m 'tuscan-ladybug'\u001b[0m - Finished in state \u001b[32mCompleted\u001b[0m()\n",
      "blk-gcs-name ../../data/240127.csv.gz turnstile/240127.csv.gz\n",
      "21:42:14.230 | \u001b[36mINFO\u001b[0m    | Task run 'write_gcs-223' - Getting bucket 'ozkary_data_lake_ozkary-de-101'.\n",
      "21:42:14.772 | \u001b[36mINFO\u001b[0m    | Task run 'write_gcs-223' - Uploading from PosixPath('../../data/240127.csv.gz') to the bucket 'ozkary_data_lake_ozkary-de-101' path 'turnstile/240127.csv.gz'.\n",
      "21:42:17.533 | \u001b[36mINFO\u001b[0m    | Task run 'write_gcs-223' - Finished in state \u001b[32mCompleted\u001b[0m()\n",
      "21:42:17.943 | \u001b[36mINFO\u001b[0m    | Flow run\u001b[35m 'pristine-mammoth'\u001b[0m - Finished in state \u001b[32mCompleted\u001b[0m()\n"
     ]
    }
   ],
   "source": [
    "!python3 etl_web_to_gcs.py --year 2024 --month 1 "
   ]
  }
 ],
 "metadata": {
  "kernelspec": {
   "display_name": "de-mta-8Vm7nBsw",
   "language": "python",
   "name": "python3"
  },
  "language_info": {
   "codemirror_mode": {
    "name": "ipython",
    "version": 3
   },
   "file_extension": ".py",
   "mimetype": "text/x-python",
   "name": "python",
   "nbconvert_exporter": "python",
   "pygments_lexer": "ipython3",
   "version": "3.9.5"
  }
 },
 "nbformat": 4,
 "nbformat_minor": 2
}
