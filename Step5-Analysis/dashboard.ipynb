{
 "cells": [
  {
   "cell_type": "code",
   "execution_count": 8,
   "metadata": {},
   "outputs": [],
   "source": [
    "import os\n",
    "import argparse\n",
    "from time import time\n",
    "from pathlib import Path\n",
    "import pandas as pd     \n",
    "import numpy as np\n",
    "import plotly.figure_factory as plotly_ff\n",
    "import plotly.express as plotly_x\n",
    "import plotly.graph_objects as go\n",
    "from plotly.subplots import make_subplots\n",
    "import matplotlib.pyplot as plt\n",
    "from scipy.stats import pearsonr"
   ]
  },
  {
   "cell_type": "code",
   "execution_count": 5,
   "metadata": {},
   "outputs": [
    {
     "name": "stdout",
     "output_type": "stream",
     "text": [
      "<class 'pandas.core.frame.DataFrame'>\n",
      "RangeIndex: 100000 entries, 0 to 99999\n",
      "Data columns (total 4 columns):\n",
      " #   Column      Non-Null Count   Dtype \n",
      "---  ------      --------------   ----- \n",
      " 0   station     100000 non-null  object\n",
      " 1   created_dt  100000 non-null  object\n",
      " 2   entries     100000 non-null  int64 \n",
      " 3   exits       100000 non-null  int64 \n",
      "dtypes: int64(2), object(2)\n",
      "memory usage: 3.1+ MB\n"
     ]
    }
   ],
   "source": [
    "# Load data from the provided URL\n",
    "df = pd.read_csv('./analysis_data.csv', iterator=False)\n",
    "\n",
    "# Rename the 'station_name' column to 'station'\n",
    "df = df.rename(columns={'station_name': 'station'})\n",
    "df.info()"
   ]
  },
  {
   "cell_type": "code",
   "execution_count": 11,
   "metadata": {},
   "outputs": [
    {
     "ename": "ValueError",
     "evalue": "Trace type 'pie' is not compatible with subplot type 'xy'\nat grid position (1, 1)\n\nSee the docstring for the specs argument to plotly.subplots.make_subplots\nfor more information on subplot types",
     "output_type": "error",
     "traceback": [
      "\u001b[0;31m---------------------------------------------------------------------------\u001b[0m",
      "\u001b[0;31mValueError\u001b[0m                                Traceback (most recent call last)",
      "\u001b[1;32m/home/ozkary/workspace/de-mta/Step5-Analysis/dashboard.ipynb Cell 3\u001b[0m line \u001b[0;36m5\n\u001b[1;32m     <a href='vscode-notebook-cell://wsl%2Bubuntu-20.04/home/ozkary/workspace/de-mta/Step5-Analysis/dashboard.ipynb#W2sdnNjb2RlLXJlbW90ZQ%3D%3D?line=48'>49</a>\u001b[0m \u001b[39m# Add traces to the subplot layout\u001b[39;00m\n\u001b[1;32m     <a href='vscode-notebook-cell://wsl%2Bubuntu-20.04/home/ozkary/workspace/de-mta/Step5-Analysis/dashboard.ipynb#W2sdnNjb2RlLXJlbW90ZQ%3D%3D?line=49'>50</a>\u001b[0m \u001b[39mfor\u001b[39;00m trace \u001b[39min\u001b[39;00m donut_chart_data:\n\u001b[0;32m---> <a href='vscode-notebook-cell://wsl%2Bubuntu-20.04/home/ozkary/workspace/de-mta/Step5-Analysis/dashboard.ipynb#W2sdnNjb2RlLXJlbW90ZQ%3D%3D?line=50'>51</a>\u001b[0m     dashboard_layout\u001b[39m.\u001b[39;49madd_trace(trace, row\u001b[39m=\u001b[39;49m\u001b[39m1\u001b[39;49m, col\u001b[39m=\u001b[39;49m\u001b[39m1\u001b[39;49m)\n\u001b[1;32m     <a href='vscode-notebook-cell://wsl%2Bubuntu-20.04/home/ozkary/workspace/de-mta/Step5-Analysis/dashboard.ipynb#W2sdnNjb2RlLXJlbW90ZQ%3D%3D?line=51'>52</a>\u001b[0m \u001b[39mfor\u001b[39;00m trace \u001b[39min\u001b[39;00m pie_chart_data:\n\u001b[1;32m     <a href='vscode-notebook-cell://wsl%2Bubuntu-20.04/home/ozkary/workspace/de-mta/Step5-Analysis/dashboard.ipynb#W2sdnNjb2RlLXJlbW90ZQ%3D%3D?line=52'>53</a>\u001b[0m     dashboard_layout\u001b[39m.\u001b[39madd_trace(trace, row\u001b[39m=\u001b[39m\u001b[39m1\u001b[39m, col\u001b[39m=\u001b[39m\u001b[39m2\u001b[39m)\n",
      "File \u001b[0;32m~/.local/lib/python3.8/site-packages/plotly/graph_objs/_figure.py:900\u001b[0m, in \u001b[0;36mFigure.add_trace\u001b[0;34m(self, trace, row, col, secondary_y, exclude_empty_subplots)\u001b[0m\n\u001b[1;32m    825\u001b[0m \u001b[39mdef\u001b[39;00m \u001b[39madd_trace\u001b[39m(\n\u001b[1;32m    826\u001b[0m     \u001b[39mself\u001b[39m, trace, row\u001b[39m=\u001b[39m\u001b[39mNone\u001b[39;00m, col\u001b[39m=\u001b[39m\u001b[39mNone\u001b[39;00m, secondary_y\u001b[39m=\u001b[39m\u001b[39mNone\u001b[39;00m, exclude_empty_subplots\u001b[39m=\u001b[39m\u001b[39mFalse\u001b[39;00m\n\u001b[1;32m    827\u001b[0m ) \u001b[39m-\u001b[39m\u001b[39m>\u001b[39m \u001b[39m\"\u001b[39m\u001b[39mFigure\u001b[39m\u001b[39m\"\u001b[39m:\n\u001b[1;32m    828\u001b[0m \u001b[39m    \u001b[39m\u001b[39m\"\"\"\u001b[39;00m\n\u001b[1;32m    829\u001b[0m \n\u001b[1;32m    830\u001b[0m \u001b[39m    Add a trace to the figure\u001b[39;00m\n\u001b[0;32m   (...)\u001b[0m\n\u001b[1;32m    898\u001b[0m \n\u001b[1;32m    899\u001b[0m \u001b[39m    \"\"\"\u001b[39;00m\n\u001b[0;32m--> 900\u001b[0m     \u001b[39mreturn\u001b[39;00m \u001b[39msuper\u001b[39;49m(Figure, \u001b[39mself\u001b[39;49m)\u001b[39m.\u001b[39;49madd_trace(\n\u001b[1;32m    901\u001b[0m         trace, row, col, secondary_y, exclude_empty_subplots\n\u001b[1;32m    902\u001b[0m     )\n",
      "File \u001b[0;32m~/.local/lib/python3.8/site-packages/plotly/basedatatypes.py:2089\u001b[0m, in \u001b[0;36mBaseFigure.add_trace\u001b[0;34m(self, trace, row, col, secondary_y, exclude_empty_subplots)\u001b[0m\n\u001b[1;32m   2080\u001b[0m         \u001b[39mself\u001b[39m\u001b[39m.\u001b[39madd_trace(\n\u001b[1;32m   2081\u001b[0m             trace,\n\u001b[1;32m   2082\u001b[0m             row\u001b[39m=\u001b[39mr,\n\u001b[0;32m   (...)\u001b[0m\n\u001b[1;32m   2085\u001b[0m             exclude_empty_subplots\u001b[39m=\u001b[39mexclude_empty_subplots,\n\u001b[1;32m   2086\u001b[0m         )\n\u001b[1;32m   2087\u001b[0m     \u001b[39mreturn\u001b[39;00m \u001b[39mself\u001b[39m\n\u001b[0;32m-> 2089\u001b[0m \u001b[39mreturn\u001b[39;00m \u001b[39mself\u001b[39;49m\u001b[39m.\u001b[39;49madd_traces(\n\u001b[1;32m   2090\u001b[0m     data\u001b[39m=\u001b[39;49m[trace],\n\u001b[1;32m   2091\u001b[0m     rows\u001b[39m=\u001b[39;49m[row] \u001b[39mif\u001b[39;49;00m row \u001b[39mis\u001b[39;49;00m \u001b[39mnot\u001b[39;49;00m \u001b[39mNone\u001b[39;49;00m \u001b[39melse\u001b[39;49;00m \u001b[39mNone\u001b[39;49;00m,\n\u001b[1;32m   2092\u001b[0m     cols\u001b[39m=\u001b[39;49m[col] \u001b[39mif\u001b[39;49;00m col \u001b[39mis\u001b[39;49;00m \u001b[39mnot\u001b[39;49;00m \u001b[39mNone\u001b[39;49;00m \u001b[39melse\u001b[39;49;00m \u001b[39mNone\u001b[39;49;00m,\n\u001b[1;32m   2093\u001b[0m     secondary_ys\u001b[39m=\u001b[39;49m[secondary_y] \u001b[39mif\u001b[39;49;00m secondary_y \u001b[39mis\u001b[39;49;00m \u001b[39mnot\u001b[39;49;00m \u001b[39mNone\u001b[39;49;00m \u001b[39melse\u001b[39;49;00m \u001b[39mNone\u001b[39;49;00m,\n\u001b[1;32m   2094\u001b[0m     exclude_empty_subplots\u001b[39m=\u001b[39;49mexclude_empty_subplots,\n\u001b[1;32m   2095\u001b[0m )\n",
      "File \u001b[0;32m~/.local/lib/python3.8/site-packages/plotly/graph_objs/_figure.py:980\u001b[0m, in \u001b[0;36mFigure.add_traces\u001b[0;34m(self, data, rows, cols, secondary_ys, exclude_empty_subplots)\u001b[0m\n\u001b[1;32m    904\u001b[0m \u001b[39mdef\u001b[39;00m \u001b[39madd_traces\u001b[39m(\n\u001b[1;32m    905\u001b[0m     \u001b[39mself\u001b[39m,\n\u001b[1;32m    906\u001b[0m     data,\n\u001b[0;32m   (...)\u001b[0m\n\u001b[1;32m    910\u001b[0m     exclude_empty_subplots\u001b[39m=\u001b[39m\u001b[39mFalse\u001b[39;00m,\n\u001b[1;32m    911\u001b[0m ) \u001b[39m-\u001b[39m\u001b[39m>\u001b[39m \u001b[39m\"\u001b[39m\u001b[39mFigure\u001b[39m\u001b[39m\"\u001b[39m:\n\u001b[1;32m    912\u001b[0m \u001b[39m    \u001b[39m\u001b[39m\"\"\"\u001b[39;00m\n\u001b[1;32m    913\u001b[0m \n\u001b[1;32m    914\u001b[0m \u001b[39m    Add traces to the figure\u001b[39;00m\n\u001b[0;32m   (...)\u001b[0m\n\u001b[1;32m    978\u001b[0m \n\u001b[1;32m    979\u001b[0m \u001b[39m    \"\"\"\u001b[39;00m\n\u001b[0;32m--> 980\u001b[0m     \u001b[39mreturn\u001b[39;00m \u001b[39msuper\u001b[39;49m(Figure, \u001b[39mself\u001b[39;49m)\u001b[39m.\u001b[39;49madd_traces(\n\u001b[1;32m    981\u001b[0m         data, rows, cols, secondary_ys, exclude_empty_subplots\n\u001b[1;32m    982\u001b[0m     )\n",
      "File \u001b[0;32m~/.local/lib/python3.8/site-packages/plotly/basedatatypes.py:2219\u001b[0m, in \u001b[0;36mBaseFigure.add_traces\u001b[0;34m(self, data, rows, cols, secondary_ys, exclude_empty_subplots)\u001b[0m\n\u001b[1;32m   2217\u001b[0m \u001b[39mif\u001b[39;00m rows \u001b[39mis\u001b[39;00m \u001b[39mnot\u001b[39;00m \u001b[39mNone\u001b[39;00m:\n\u001b[1;32m   2218\u001b[0m     \u001b[39mfor\u001b[39;00m trace, row, col, secondary_y \u001b[39min\u001b[39;00m \u001b[39mzip\u001b[39m(data, rows, cols, secondary_ys):\n\u001b[0;32m-> 2219\u001b[0m         \u001b[39mself\u001b[39;49m\u001b[39m.\u001b[39;49m_set_trace_grid_position(trace, row, col, secondary_y)\n\u001b[1;32m   2221\u001b[0m \u001b[39mif\u001b[39;00m exclude_empty_subplots:\n\u001b[1;32m   2222\u001b[0m     data \u001b[39m=\u001b[39m \u001b[39mlist\u001b[39m(\n\u001b[1;32m   2223\u001b[0m         \u001b[39mfilter\u001b[39m(\n\u001b[1;32m   2224\u001b[0m             \u001b[39mlambda\u001b[39;00m trace: \u001b[39mself\u001b[39m\u001b[39m.\u001b[39m_subplot_not_empty(\n\u001b[0;32m   (...)\u001b[0m\n\u001b[1;32m   2228\u001b[0m         )\n\u001b[1;32m   2229\u001b[0m     )\n",
      "File \u001b[0;32m~/.local/lib/python3.8/site-packages/plotly/basedatatypes.py:2311\u001b[0m, in \u001b[0;36mBaseFigure._set_trace_grid_position\u001b[0;34m(self, trace, row, col, secondary_y)\u001b[0m\n\u001b[1;32m   2308\u001b[0m \u001b[39mfrom\u001b[39;00m \u001b[39mplotly\u001b[39;00m\u001b[39m.\u001b[39;00m\u001b[39m_subplots\u001b[39;00m \u001b[39mimport\u001b[39;00m _set_trace_grid_reference\n\u001b[1;32m   2310\u001b[0m grid_ref \u001b[39m=\u001b[39m \u001b[39mself\u001b[39m\u001b[39m.\u001b[39m_validate_get_grid_ref()\n\u001b[0;32m-> 2311\u001b[0m \u001b[39mreturn\u001b[39;00m _set_trace_grid_reference(\n\u001b[1;32m   2312\u001b[0m     trace, \u001b[39mself\u001b[39;49m\u001b[39m.\u001b[39;49mlayout, grid_ref, row, col, secondary_y\n\u001b[1;32m   2313\u001b[0m )\n",
      "File \u001b[0;32m~/.local/lib/python3.8/site-packages/plotly/_subplots.py:1383\u001b[0m, in \u001b[0;36m_set_trace_grid_reference\u001b[0;34m(trace, layout, grid_ref, row, col, secondary_y)\u001b[0m\n\u001b[1;32m   1381\u001b[0m     \u001b[39mfor\u001b[39;00m k \u001b[39min\u001b[39;00m trace_kwargs:\n\u001b[1;32m   1382\u001b[0m         \u001b[39mif\u001b[39;00m k \u001b[39mnot\u001b[39;00m \u001b[39min\u001b[39;00m trace:\n\u001b[0;32m-> 1383\u001b[0m             \u001b[39mraise\u001b[39;00m \u001b[39mValueError\u001b[39;00m(\n\u001b[1;32m   1384\u001b[0m \u001b[39m                \u001b[39m\u001b[39m\"\"\"\\\u001b[39;00m\n\u001b[1;32m   1385\u001b[0m \u001b[39mTrace type '{typ}' is not compatible with subplot type '{subplot_type}'\u001b[39;00m\n\u001b[1;32m   1386\u001b[0m \u001b[39mat grid position ({row}, {col})\u001b[39;00m\n\u001b[1;32m   1387\u001b[0m \n\u001b[1;32m   1388\u001b[0m \u001b[39mSee the docstring for the specs argument to plotly.subplots.make_subplots\u001b[39;00m\n\u001b[1;32m   1389\u001b[0m \u001b[39mfor more information on subplot types\"\"\"\u001b[39;00m\u001b[39m.\u001b[39mformat(\n\u001b[1;32m   1390\u001b[0m                     typ\u001b[39m=\u001b[39mtrace\u001b[39m.\u001b[39mtype,\n\u001b[1;32m   1391\u001b[0m                     subplot_type\u001b[39m=\u001b[39msubplot_refs[\u001b[39m0\u001b[39m]\u001b[39m.\u001b[39msubplot_type,\n\u001b[1;32m   1392\u001b[0m                     row\u001b[39m=\u001b[39mrow,\n\u001b[1;32m   1393\u001b[0m                     col\u001b[39m=\u001b[39mcol,\n\u001b[1;32m   1394\u001b[0m                 )\n\u001b[1;32m   1395\u001b[0m             )\n\u001b[1;32m   1397\u001b[0m     \u001b[39m# Update trace reference\u001b[39;00m\n\u001b[1;32m   1398\u001b[0m     trace\u001b[39m.\u001b[39mupdate(trace_kwargs)\n",
      "\u001b[0;31mValueError\u001b[0m: Trace type 'pie' is not compatible with subplot type 'xy'\nat grid position (1, 1)\n\nSee the docstring for the specs argument to plotly.subplots.make_subplots\nfor more information on subplot types"
     ]
    }
   ],
   "source": [
    "\n",
    "# Create a donut chart\n",
    "donut_chart = go.Figure(go.Pie(labels=df['station'], values=df['entries'], hole=0.3, name='Entries'))\n",
    "\n",
    "# Create a pie chart\n",
    "pie_chart = go.Figure(go.Pie(labels=df['station'], values=df['exits'], name='Exits'))\n",
    "\n",
    "# Create a bar chart\n",
    "bar_chart = go.Figure()\n",
    "bar_chart.add_trace(go.Bar(x=df['station'], y=df['entries'], name='Entries'))\n",
    "bar_chart.add_trace(go.Bar(x=df['station'], y=df['exits'], name='Exits'))\n",
    "\n",
    "# Create scatter charts\n",
    "scatter_chart = go.Figure()\n",
    "scatter_chart.add_trace(go.Scatter(x=df['station'], y=df['entries'], mode='markers', name='Entries'))\n",
    "scatter_chart.add_trace(go.Scatter(x=df['station'], y=df['exits'], mode='markers', name='Exits'))\n",
    "\n",
    "# Create a table\n",
    "table = go.Figure(go.FigureWidget(\n",
    "    data=[\n",
    "        go.Table(\n",
    "            header=dict(values=[\"Station\", \"Entries\", \"Exits\"]),\n",
    "            cells=dict(values=[df['station'], df['entries'], df['exits']])\n",
    "        )\n",
    "    ]\n",
    "))\n",
    "\n",
    "# Arrange the charts in a grid layout\n",
    "# donut_chart.update_layout(title='Donut Chart')\n",
    "# pie_chart.update_layout(title='Pie Chart')\n",
    "# bar_chart.update_layout(title='Bar Chart')\n",
    "# scatter_chart.update_layout(title='Scatter Charts')\n",
    "# table.update_layout(title='Table')\n",
    "\n",
    "# Create a dashboard layout with 3 rows and 2 cells in each row\n",
    "dashboard_layout = make_subplots(rows=3, cols=2, subplot_titles=['', ''])\n",
    "\n",
    "# Add charts to the dashboard layout\n",
    "dashboard_layout.add_trace(donut_chart, row=1, col=1)\n",
    "dashboard_layout.add_trace(pie_chart, row=1, col=2)\n",
    "dashboard_layout.add_trace(bar_chart, row=2, col=1)\n",
    "dashboard_layout.add_trace(scatter_chart, row=2, col=2)\n",
    "dashboard_layout.add_trace(table, row=3, col=1)\n",
    "\n",
    "# Update layout settings for better visualization\n",
    "dashboard_layout.update_layout(height=600, width=1000, showlegend=False)\n",
    "\n",
    "# Show the dashboard\n",
    "dashboard_layout.show()"
   ]
  }
 ],
 "metadata": {
  "kernelspec": {
   "display_name": "Python 3",
   "language": "python",
   "name": "python3"
  },
  "language_info": {
   "codemirror_mode": {
    "name": "ipython",
    "version": 3
   },
   "file_extension": ".py",
   "mimetype": "text/x-python",
   "name": "python",
   "nbconvert_exporter": "python",
   "pygments_lexer": "ipython3",
   "version": "3.8.10"
  }
 },
 "nbformat": 4,
 "nbformat_minor": 2
}
