{
 "cells": [
  {
   "cell_type": "markdown",
   "metadata": {},
   "source": [
    "# Jupyter Notebook with BigQuery"
   ]
  },
  {
   "cell_type": "code",
   "execution_count": 11,
   "metadata": {},
   "outputs": [],
   "source": [
    "import google.cloud.bigquery\n",
    "import pandas as pd\n",
    "\n",
    "PROJECT = 'ozkary-de-101'\n",
    "DATASET = 'mta_data'"
   ]
  },
  {
   "cell_type": "markdown",
   "metadata": {},
   "source": [
    "## Query the current records"
   ]
  },
  {
   "cell_type": "code",
   "execution_count": 12,
   "metadata": {},
   "outputs": [
    {
     "name": "stdout",
     "output_type": "stream",
     "text": [
      "dim_booth\n",
      "dim_station\n",
      "ext_turnstile\n",
      "fact_stats\n",
      "fact_turnstile\n",
      "remote_booth_station\n",
      "rpt_turnstile\n",
      "stg_booth\n",
      "stg_station\n",
      "stg_turnstile\n"
     ]
    }
   ],
   "source": [
    "# using the bigquery client library read a list of tables \n",
    "# in the bigquery-public-data:samples dataset\n",
    "client = google.cloud.bigquery.Client()\n",
    "dataset_ref = client.dataset(DATASET, project=PROJECT)\n",
    "tables = list(client.list_tables(dataset_ref))\n",
    "for table in tables:\n",
    "    print(table.table_id)"
   ]
  },
  {
   "cell_type": "code",
   "execution_count": 13,
   "metadata": {},
   "outputs": [
    {
     "name": "stdout",
     "output_type": "stream",
     "text": [
      "[SchemaField('booth_id', 'STRING', 'NULLABLE', None, None, (), None), SchemaField('remote', 'STRING', 'NULLABLE', None, None, (), None), SchemaField('booth_name', 'STRING', 'NULLABLE', None, None, (), None), SchemaField('station_id', 'STRING', 'NULLABLE', None, None, (), None)]\n",
      "[SchemaField('station_id', 'STRING', 'NULLABLE', None, None, (), None), SchemaField('station_name', 'STRING', 'NULLABLE', None, None, (), None)]\n",
      "[SchemaField('int64_field_0', 'INTEGER', 'NULLABLE', None, None, (), None), SchemaField('CA', 'STRING', 'NULLABLE', None, None, (), None), SchemaField('UNIT', 'STRING', 'NULLABLE', None, None, (), None), SchemaField('SCP', 'STRING', 'NULLABLE', None, None, (), None), SchemaField('STATION', 'STRING', 'NULLABLE', None, None, (), None), SchemaField('LINENAME', 'STRING', 'NULLABLE', None, None, (), None), SchemaField('DIVISION', 'STRING', 'NULLABLE', None, None, (), None), SchemaField('DATE', 'DATE', 'NULLABLE', None, None, (), None), SchemaField('TIME', 'TIME', 'NULLABLE', None, None, (), None), SchemaField('DESC', 'STRING', 'NULLABLE', None, None, (), None), SchemaField('ENTRIES', 'INTEGER', 'NULLABLE', None, None, (), None), SchemaField('EXITS', 'INTEGER', 'NULLABLE', None, None, (), None)]\n",
      "[SchemaField('name', 'STRING', 'NULLABLE', None, None, (), None), SchemaField('total', 'INTEGER', 'NULLABLE', None, None, (), None), SchemaField('created', 'DATETIME', 'NULLABLE', 'CURRENT_DATETIME()', None, (), None)]\n",
      "[SchemaField('log_id', 'STRING', 'NULLABLE', None, None, (), None), SchemaField('station_id', 'STRING', 'NULLABLE', None, None, (), None), SchemaField('booth_id', 'STRING', 'NULLABLE', None, None, (), None), SchemaField('scp', 'STRING', 'NULLABLE', None, None, (), None), SchemaField('line_name', 'STRING', 'NULLABLE', None, None, (), None), SchemaField('division', 'STRING', 'NULLABLE', None, None, (), None), SchemaField('created_dt', 'TIMESTAMP', 'NULLABLE', None, None, (), None), SchemaField('entries', 'INTEGER', 'NULLABLE', None, None, (), None), SchemaField('exits', 'INTEGER', 'NULLABLE', None, None, (), None)]\n",
      "[SchemaField('Remote', 'STRING', 'NULLABLE', None, None, (), None), SchemaField('Booth', 'STRING', 'NULLABLE', None, None, (), None), SchemaField('Station', 'STRING', 'NULLABLE', None, None, (), None), SchemaField('Line Name', 'STRING', 'NULLABLE', None, None, (), None), SchemaField('Division', 'STRING', 'NULLABLE', None, None, (), None)]\n",
      "[SchemaField('log_id', 'STRING', 'NULLABLE', None, None, (), None), SchemaField('station_name', 'STRING', 'NULLABLE', None, None, (), None), SchemaField('booth_name', 'STRING', 'NULLABLE', None, None, (), None), SchemaField('scp', 'STRING', 'NULLABLE', None, None, (), None), SchemaField('line_name', 'STRING', 'NULLABLE', None, None, (), None), SchemaField('division', 'STRING', 'NULLABLE', None, None, (), None), SchemaField('created_dt', 'TIMESTAMP', 'NULLABLE', None, None, (), None), SchemaField('entries', 'INTEGER', 'NULLABLE', None, None, (), None), SchemaField('exits', 'INTEGER', 'NULLABLE', None, None, (), None), SchemaField('reported_dt', 'DATE', 'NULLABLE', None, None, (), None)]\n",
      "[SchemaField('booth_id', 'STRING', 'NULLABLE', None, None, (), None), SchemaField('remote', 'STRING', 'NULLABLE', None, None, (), None), SchemaField('booth_name', 'STRING', 'NULLABLE', None, None, (), None), SchemaField('station_name', 'STRING', 'NULLABLE', None, None, (), None)]\n",
      "[SchemaField('station_id', 'STRING', 'NULLABLE', None, None, (), None), SchemaField('station_name', 'STRING', 'NULLABLE', None, None, (), None)]\n",
      "[SchemaField('log_id', 'STRING', 'NULLABLE', None, None, (), None), SchemaField('booth', 'STRING', 'NULLABLE', None, None, (), None), SchemaField('remote', 'STRING', 'NULLABLE', None, None, (), None), SchemaField('station', 'STRING', 'NULLABLE', None, None, (), None), SchemaField('scp', 'STRING', 'NULLABLE', None, None, (), None), SchemaField('line_name', 'STRING', 'NULLABLE', None, None, (), None), SchemaField('division', 'STRING', 'NULLABLE', None, None, (), None), SchemaField('created_dt', 'TIMESTAMP', 'NULLABLE', None, None, (), None), SchemaField('entries', 'INTEGER', 'NULLABLE', None, None, (), None), SchemaField('exits', 'INTEGER', 'NULLABLE', None, None, (), None)]\n",
      "dim_booth 796\n",
      "dim_station 584\n",
      "ext_turnstile 0\n",
      "fact_stats 3\n",
      "fact_turnstile 2024695\n",
      "remote_booth_station 768\n",
      "rpt_turnstile 0\n",
      "stg_booth 0\n",
      "stg_station 0\n",
      "stg_turnstile 0\n"
     ]
    }
   ],
   "source": [
    "# get the tables in the system and for each table get the schema\n",
    "# and print the table name and row count\n",
    "for table in tables:\n",
    "    table_ref = dataset_ref.table(table.table_id)\n",
    "    table = client.get_table(table_ref)\n",
    "    print(table.schema)\n",
    "\n",
    "# for each table get the row count\n",
    "for table in tables:\n",
    "    table_ref = dataset_ref.table(table.table_id)\n",
    "    table = client.get_table(table_ref)\n",
    "    print(table.table_id, table.num_rows)"
   ]
  },
  {
   "cell_type": "code",
   "execution_count": 14,
   "metadata": {},
   "outputs": [],
   "source": [
    "# define a run query function\n",
    "def run_query(sql):\n",
    "    query = client.query(sql)\n",
    "    return query.to_dataframe()\n",
    "    "
   ]
  },
  {
   "cell_type": "code",
   "execution_count": 15,
   "metadata": {},
   "outputs": [
    {
     "name": "stdout",
     "output_type": "stream",
     "text": [
      "                   max_date\n",
      "0 2023-09-29 23:59:24+00:00\n"
     ]
    }
   ],
   "source": [
    "# use sql to query the latest date in the fact_turnstile table and print the result using the client reference\n",
    "sql = \"\"\"\n",
    "SELECT max(created_dt) as max_date\n",
    "FROM `{}.{}.fact_turnstile`\n",
    "\"\"\".format(PROJECT, DATASET)\n",
    "# query the data using the client reference\n",
    "df = run_query(sql)\n",
    "print(df.head())"
   ]
  },
  {
   "cell_type": "code",
   "execution_count": 16,
   "metadata": {},
   "outputs": [
    {
     "name": "stdout",
     "output_type": "stream",
     "text": [
      "                             log_id                        station_id  \\\n",
      "0  4118f048daf2a2ae16418cb9613ea131  77792700f8184bbf78ed91567285bd1d   \n",
      "1  51197d55ebc532af58ea366cd60b1144  77792700f8184bbf78ed91567285bd1d   \n",
      "2  16c770822451f5e98f8c7900c244e0a9  77792700f8184bbf78ed91567285bd1d   \n",
      "3  59699893e6e65958fc08ac0b2487f9a3  77792700f8184bbf78ed91567285bd1d   \n",
      "4  2acc35df46379b9d0ff53f86bc7b6820  77792700f8184bbf78ed91567285bd1d   \n",
      "\n",
      "                           booth_id       scp line_name division  \\\n",
      "0  000b1145d66ea47ba7d80e381c0d22ba  00-00-00       NQW      BMT   \n",
      "1  000b1145d66ea47ba7d80e381c0d22ba  00-00-00       NQW      BMT   \n",
      "2  000b1145d66ea47ba7d80e381c0d22ba  00-00-00       NQW      BMT   \n",
      "3  000b1145d66ea47ba7d80e381c0d22ba  00-00-00       NQW      BMT   \n",
      "4  000b1145d66ea47ba7d80e381c0d22ba  00-00-00       NQW      BMT   \n",
      "\n",
      "                 created_dt  entries     exits  \n",
      "0 2023-09-27 04:00:00+00:00  7048805  12861305  \n",
      "1 2023-09-27 16:00:00+00:00  7049310  12861587  \n",
      "2 2023-09-27 12:00:00+00:00  7049194  12861412  \n",
      "3 2023-09-27 00:00:00+00:00  7048803  12861279  \n",
      "4 2023-09-27 08:00:00+00:00  7048959  12861343  \n"
     ]
    }
   ],
   "source": [
    "# define todays date using a datetime object\n",
    "from datetime import datetime, timedelta\n",
    "\n",
    "# set a variable to the current date - 1 month\n",
    "last_month = datetime.today() - timedelta(days=30)\n",
    "date_value = last_month.strftime('%Y-%m-%d')\n",
    "\n",
    "# select a limit of 100 rows with the latest date\n",
    "sql = \"\"\"\n",
    "SELECT *\n",
    "FROM `{}.{}.fact_turnstile`\n",
    "WHERE created_dt >= '{}'\n",
    "LIMIT 100\n",
    "\"\"\".format(PROJECT, DATASET, date_value)    \n",
    "df = run_query(sql)\n",
    "print(df.head())"
   ]
  },
  {
   "cell_type": "code",
   "execution_count": 17,
   "metadata": {},
   "outputs": [],
   "source": [
    "# print the dataframe in a grid format\n",
    "def print_df(df):\n",
    "    from IPython.display import display, HTML\n",
    "    display(HTML(df.head().to_html()))"
   ]
  },
  {
   "cell_type": "code",
   "execution_count": 18,
   "metadata": {},
   "outputs": [
    {
     "data": {
      "text/html": [
       "<table border=\"1\" class=\"dataframe\">\n",
       "  <thead>\n",
       "    <tr style=\"text-align: right;\">\n",
       "      <th></th>\n",
       "      <th>log_id</th>\n",
       "      <th>station_id</th>\n",
       "      <th>booth_id</th>\n",
       "      <th>scp</th>\n",
       "      <th>line_name</th>\n",
       "      <th>division</th>\n",
       "      <th>created_dt</th>\n",
       "      <th>entries</th>\n",
       "      <th>exits</th>\n",
       "    </tr>\n",
       "  </thead>\n",
       "  <tbody>\n",
       "    <tr>\n",
       "      <th>0</th>\n",
       "      <td>4118f048daf2a2ae16418cb9613ea131</td>\n",
       "      <td>77792700f8184bbf78ed91567285bd1d</td>\n",
       "      <td>000b1145d66ea47ba7d80e381c0d22ba</td>\n",
       "      <td>00-00-00</td>\n",
       "      <td>NQW</td>\n",
       "      <td>BMT</td>\n",
       "      <td>2023-09-27 04:00:00+00:00</td>\n",
       "      <td>7048805</td>\n",
       "      <td>12861305</td>\n",
       "    </tr>\n",
       "    <tr>\n",
       "      <th>1</th>\n",
       "      <td>51197d55ebc532af58ea366cd60b1144</td>\n",
       "      <td>77792700f8184bbf78ed91567285bd1d</td>\n",
       "      <td>000b1145d66ea47ba7d80e381c0d22ba</td>\n",
       "      <td>00-00-00</td>\n",
       "      <td>NQW</td>\n",
       "      <td>BMT</td>\n",
       "      <td>2023-09-27 16:00:00+00:00</td>\n",
       "      <td>7049310</td>\n",
       "      <td>12861587</td>\n",
       "    </tr>\n",
       "    <tr>\n",
       "      <th>2</th>\n",
       "      <td>16c770822451f5e98f8c7900c244e0a9</td>\n",
       "      <td>77792700f8184bbf78ed91567285bd1d</td>\n",
       "      <td>000b1145d66ea47ba7d80e381c0d22ba</td>\n",
       "      <td>00-00-00</td>\n",
       "      <td>NQW</td>\n",
       "      <td>BMT</td>\n",
       "      <td>2023-09-27 12:00:00+00:00</td>\n",
       "      <td>7049194</td>\n",
       "      <td>12861412</td>\n",
       "    </tr>\n",
       "    <tr>\n",
       "      <th>3</th>\n",
       "      <td>59699893e6e65958fc08ac0b2487f9a3</td>\n",
       "      <td>77792700f8184bbf78ed91567285bd1d</td>\n",
       "      <td>000b1145d66ea47ba7d80e381c0d22ba</td>\n",
       "      <td>00-00-00</td>\n",
       "      <td>NQW</td>\n",
       "      <td>BMT</td>\n",
       "      <td>2023-09-27 00:00:00+00:00</td>\n",
       "      <td>7048803</td>\n",
       "      <td>12861279</td>\n",
       "    </tr>\n",
       "    <tr>\n",
       "      <th>4</th>\n",
       "      <td>2acc35df46379b9d0ff53f86bc7b6820</td>\n",
       "      <td>77792700f8184bbf78ed91567285bd1d</td>\n",
       "      <td>000b1145d66ea47ba7d80e381c0d22ba</td>\n",
       "      <td>00-00-00</td>\n",
       "      <td>NQW</td>\n",
       "      <td>BMT</td>\n",
       "      <td>2023-09-27 08:00:00+00:00</td>\n",
       "      <td>7048959</td>\n",
       "      <td>12861343</td>\n",
       "    </tr>\n",
       "  </tbody>\n",
       "</table>"
      ],
      "text/plain": [
       "<IPython.core.display.HTML object>"
      ]
     },
     "metadata": {},
     "output_type": "display_data"
    }
   ],
   "source": [
    "print_df(df)"
   ]
  },
  {
   "cell_type": "code",
   "execution_count": 19,
   "metadata": {},
   "outputs": [
    {
     "data": {
      "text/html": [
       "<table border=\"1\" class=\"dataframe\">\n",
       "  <thead>\n",
       "    <tr style=\"text-align: right;\">\n",
       "      <th></th>\n",
       "      <th>station_name</th>\n",
       "      <th>booth_name</th>\n",
       "      <th>created_dt</th>\n",
       "      <th>entries</th>\n",
       "      <th>exits</th>\n",
       "    </tr>\n",
       "  </thead>\n",
       "  <tbody>\n",
       "    <tr>\n",
       "      <th>0</th>\n",
       "      <td>VERNON-JACKSON</td>\n",
       "      <td>R504</td>\n",
       "      <td>2023-09-29 08:00:00+00:00</td>\n",
       "      <td>6046937</td>\n",
       "      <td>5021121</td>\n",
       "    </tr>\n",
       "    <tr>\n",
       "      <th>1</th>\n",
       "      <td>VERNON-JACKSON</td>\n",
       "      <td>R504</td>\n",
       "      <td>2023-09-29 16:00:00+00:00</td>\n",
       "      <td>6047143</td>\n",
       "      <td>5021712</td>\n",
       "    </tr>\n",
       "    <tr>\n",
       "      <th>2</th>\n",
       "      <td>VERNON-JACKSON</td>\n",
       "      <td>R504</td>\n",
       "      <td>2023-09-29 04:00:00+00:00</td>\n",
       "      <td>6046875</td>\n",
       "      <td>5020881</td>\n",
       "    </tr>\n",
       "    <tr>\n",
       "      <th>3</th>\n",
       "      <td>VERNON-JACKSON</td>\n",
       "      <td>R504</td>\n",
       "      <td>2023-09-29 00:00:00+00:00</td>\n",
       "      <td>6046873</td>\n",
       "      <td>5020879</td>\n",
       "    </tr>\n",
       "    <tr>\n",
       "      <th>4</th>\n",
       "      <td>VERNON-JACKSON</td>\n",
       "      <td>R504</td>\n",
       "      <td>2023-09-29 12:00:00+00:00</td>\n",
       "      <td>6047072</td>\n",
       "      <td>5021465</td>\n",
       "    </tr>\n",
       "  </tbody>\n",
       "</table>"
      ],
      "text/plain": [
       "<IPython.core.display.HTML object>"
      ]
     },
     "metadata": {},
     "output_type": "display_data"
    }
   ],
   "source": [
    "# join the fact_turnstile table with the dim_station table and dim_booth table for the last three months\n",
    "\n",
    "sql = \"\"\"\n",
    "SELECT station_name, booth_name, created_dt, entries, exits\n",
    "FROM `{}.{}.fact_turnstile` as f\n",
    "JOIN `{}.{}.dim_station` as s\n",
    "ON f.station_id = s.station_id\n",
    "JOIN `{}.{}.dim_booth` as b\n",
    "ON f.booth_id = b.booth_id\n",
    "WHERE created_dt >= '{}'\n",
    "LIMIT 1000\n",
    "\"\"\".format(PROJECT, DATASET, PROJECT, DATASET, PROJECT, DATASET, date_value)\n",
    "df_station = run_query(sql)\n",
    "print_df(df_station)\n",
    "\n"
   ]
  },
  {
   "cell_type": "code",
   "execution_count": 20,
   "metadata": {},
   "outputs": [
    {
     "data": {
      "image/png": "[encoded data removed]",
      "text/plain": [
       "<Figure size 1000x500 with 1 Axes>"
      ]
     },
     "metadata": {},
     "output_type": "display_data"
    }
   ],
   "source": [
    "\n",
    "# get the top n stations with the most entries using the df_station dataframe\n",
    "df_top_entries = df_station.groupby('station_name')['entries'].sum().reset_index().sort_values(by='entries', ascending=False).head(5)\n",
    "\n",
    "# create a pie chart using the df_top_entries dataframe \n",
    "import matplotlib.pyplot as plt\n",
    "\n",
    "# set the size of the pie chart\n",
    "plt.figure(figsize=(10,5))\n",
    "\n",
    "plt.pie(df_top_entries['entries'], labels=df_top_entries['station_name'], autopct='%1.1f%%')\n",
    "plt.axis('equal')\n",
    "\n",
    "# add a donut hole to the pie chart\n",
    "my_circle=plt.Circle( (0,0), 0.35, color='white')\n",
    "p=plt.gcf()\n",
    "p.gca().add_artist(my_circle)\n",
    "\n",
    "\n",
    "# add a title and legend to the pie chart\n",
    "plt.title('Top 5 Stations by Entries')\n",
    "plt.legend(df_top_entries['station_name'], loc='upper right')\n",
    "\n",
    "plt.show()\n",
    "\n"
   ]
  }
 ],
 "metadata": {
  "kernelspec": {
   "display_name": "Python 3",
   "language": "python",
   "name": "python3"
  },
  "language_info": {
   "codemirror_mode": {
    "name": "ipython",
    "version": 3
   },
   "file_extension": ".py",
   "mimetype": "text/x-python",
   "name": "python",
   "nbconvert_exporter": "python",
   "pygments_lexer": "ipython3",
   "version": "3.8.10"
  }
 },
 "nbformat": 4,
 "nbformat_minor": 2
}
