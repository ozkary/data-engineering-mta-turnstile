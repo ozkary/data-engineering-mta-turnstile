{
 "cells": [
  {
   "cell_type": "markdown",
   "metadata": {},
   "source": [
    "# Jupyter Notebook with BigQuery"
   ]
  },
  {
   "cell_type": "code",
   "execution_count": null,
   "metadata": {},
   "outputs": [],
   "source": [
    "import google.cloud.bigquery\n",
    "import pandas as pd\n",
    "\n",
    "PROJECT = 'ozkary-de-101'\n",
    "DATASET = 'mta_data'"
   ]
  },
  {
   "cell_type": "markdown",
   "metadata": {},
   "source": [
    "## Query the current records"
   ]
  },
  {
   "cell_type": "code",
   "execution_count": null,
   "metadata": {},
   "outputs": [],
   "source": [
    "# using the bigquery client library read a list of tables \n",
    "# in the bigquery-public-data:samples dataset\n",
    "client = google.cloud.bigquery.Client()\n",
    "dataset_ref = client.dataset(DATASET, project=PROJECT)\n",
    "tables = list(client.list_tables(dataset_ref))\n",
    "for table in tables:\n",
    "    print(table.table_id)"
   ]
  },
  {
   "cell_type": "code",
   "execution_count": null,
   "metadata": {},
   "outputs": [],
   "source": [
    "# get the tables in the system and for each table get the schema\n",
    "# and print the table name and row count\n",
    "for table in tables:\n",
    "    table_ref = dataset_ref.table(table.table_id)\n",
    "    table = client.get_table(table_ref)\n",
    "    print(table.schema)\n",
    "\n",
    "# for each table get the row count\n",
    "for table in tables:\n",
    "    table_ref = dataset_ref.table(table.table_id)\n",
    "    table = client.get_table(table_ref)\n",
    "    print(table.table_id, table.num_rows)"
   ]
  },
  {
   "cell_type": "code",
   "execution_count": null,
   "metadata": {},
   "outputs": [],
   "source": [
    "# define a run query function\n",
    "def run_query(sql):\n",
    "    query = client.query(sql)\n",
    "    return query.to_dataframe()\n",
    "    "
   ]
  },
  {
   "cell_type": "code",
   "execution_count": null,
   "metadata": {},
   "outputs": [],
   "source": [
    "# use sql to query the latest date in the fact_turnstile table and print the result using the client reference\n",
    "sql = \"\"\"\n",
    "SELECT max(created_dt) as max_date\n",
    "FROM `{}.{}.fact_turnstile`\n",
    "\"\"\".format(PROJECT, DATASET)\n",
    "# query the data using the client reference\n",
    "df = run_query(sql)\n",
    "print(df.head())"
   ]
  },
  {
   "cell_type": "code",
   "execution_count": 59,
   "metadata": {},
   "outputs": [
    {
     "name": "stdout",
     "output_type": "stream",
     "text": [
      "                             log_id                        station_id  \\\n",
      "0  cef2888c8e411bde51529ae402807860  fd372c646a361911880edb471b9287e7   \n",
      "1  53bad7c50932c2ed2451f5ee586a639c  fd372c646a361911880edb471b9287e7   \n",
      "2  530a091905f41db0271424a98813d0e3  fd372c646a361911880edb471b9287e7   \n",
      "3  97c800d4ad7bbae7bbe7972cc51746d6  fd372c646a361911880edb471b9287e7   \n",
      "4  04bdf964098c1d1c49886bd7bf79189e  fd372c646a361911880edb471b9287e7   \n",
      "\n",
      "                           booth_id       scp line_name division  \\\n",
      "0  14ca865c7e9367b8c13b53d35ff58cb4  00-00-00         7      IRT   \n",
      "1  14ca865c7e9367b8c13b53d35ff58cb4  00-00-00         7      IRT   \n",
      "2  14ca865c7e9367b8c13b53d35ff58cb4  00-00-00         7      IRT   \n",
      "3  14ca865c7e9367b8c13b53d35ff58cb4  00-00-00         7      IRT   \n",
      "4  14ca865c7e9367b8c13b53d35ff58cb4  00-00-00         7      IRT   \n",
      "\n",
      "                 created_dt  entries    exits  \n",
      "0 2023-09-29 08:00:00+00:00  6046937  5021121  \n",
      "1 2023-09-29 16:00:00+00:00  6047143  5021712  \n",
      "2 2023-09-29 04:00:00+00:00  6046875  5020881  \n",
      "3 2023-09-29 00:00:00+00:00  6046873  5020879  \n",
      "4 2023-09-29 12:00:00+00:00  6047072  5021465  \n"
     ]
    }
   ],
   "source": [
    "# define todays date using a datetime object\n",
    "from datetime import datetime, timedelta\n",
    "\n",
    "# set a variable to the current date - 1 month\n",
    "last_month = datetime.today() - timedelta(days=30)\n",
    "date_value = last_month.strftime('%Y-%m-%d')\n",
    "\n",
    "# select a limit of 100 rows with the latest date\n",
    "sql = \"\"\"\n",
    "SELECT *\n",
    "FROM `{}.{}.fact_turnstile`\n",
    "WHERE created_dt >= '{}'\n",
    "LIMIT 100\n",
    "\"\"\".format(PROJECT, DATASET, date_value)    \n",
    "df = run_query(sql)\n",
    "print(df.head())"
   ]
  },
  {
   "cell_type": "code",
   "execution_count": 34,
   "metadata": {},
   "outputs": [],
   "source": [
    "# print the dataframe in a grid format\n",
    "def print_df(df):\n",
    "    from IPython.display import display, HTML\n",
    "    display(HTML(df.head().to_html()))"
   ]
  },
  {
   "cell_type": "code",
   "execution_count": 60,
   "metadata": {},
   "outputs": [
    {
     "data": {
      "text/html": [
       "<table border=\"1\" class=\"dataframe\">\n",
       "  <thead>\n",
       "    <tr style=\"text-align: right;\">\n",
       "      <th></th>\n",
       "      <th>log_id</th>\n",
       "      <th>station_id</th>\n",
       "      <th>booth_id</th>\n",
       "      <th>scp</th>\n",
       "      <th>line_name</th>\n",
       "      <th>division</th>\n",
       "      <th>created_dt</th>\n",
       "      <th>entries</th>\n",
       "      <th>exits</th>\n",
       "    </tr>\n",
       "  </thead>\n",
       "  <tbody>\n",
       "    <tr>\n",
       "      <th>0</th>\n",
       "      <td>cef2888c8e411bde51529ae402807860</td>\n",
       "      <td>fd372c646a361911880edb471b9287e7</td>\n",
       "      <td>14ca865c7e9367b8c13b53d35ff58cb4</td>\n",
       "      <td>00-00-00</td>\n",
       "      <td>7</td>\n",
       "      <td>IRT</td>\n",
       "      <td>2023-09-29 08:00:00+00:00</td>\n",
       "      <td>6046937</td>\n",
       "      <td>5021121</td>\n",
       "    </tr>\n",
       "    <tr>\n",
       "      <th>1</th>\n",
       "      <td>53bad7c50932c2ed2451f5ee586a639c</td>\n",
       "      <td>fd372c646a361911880edb471b9287e7</td>\n",
       "      <td>14ca865c7e9367b8c13b53d35ff58cb4</td>\n",
       "      <td>00-00-00</td>\n",
       "      <td>7</td>\n",
       "      <td>IRT</td>\n",
       "      <td>2023-09-29 16:00:00+00:00</td>\n",
       "      <td>6047143</td>\n",
       "      <td>5021712</td>\n",
       "    </tr>\n",
       "    <tr>\n",
       "      <th>2</th>\n",
       "      <td>530a091905f41db0271424a98813d0e3</td>\n",
       "      <td>fd372c646a361911880edb471b9287e7</td>\n",
       "      <td>14ca865c7e9367b8c13b53d35ff58cb4</td>\n",
       "      <td>00-00-00</td>\n",
       "      <td>7</td>\n",
       "      <td>IRT</td>\n",
       "      <td>2023-09-29 04:00:00+00:00</td>\n",
       "      <td>6046875</td>\n",
       "      <td>5020881</td>\n",
       "    </tr>\n",
       "    <tr>\n",
       "      <th>3</th>\n",
       "      <td>97c800d4ad7bbae7bbe7972cc51746d6</td>\n",
       "      <td>fd372c646a361911880edb471b9287e7</td>\n",
       "      <td>14ca865c7e9367b8c13b53d35ff58cb4</td>\n",
       "      <td>00-00-00</td>\n",
       "      <td>7</td>\n",
       "      <td>IRT</td>\n",
       "      <td>2023-09-29 00:00:00+00:00</td>\n",
       "      <td>6046873</td>\n",
       "      <td>5020879</td>\n",
       "    </tr>\n",
       "    <tr>\n",
       "      <th>4</th>\n",
       "      <td>04bdf964098c1d1c49886bd7bf79189e</td>\n",
       "      <td>fd372c646a361911880edb471b9287e7</td>\n",
       "      <td>14ca865c7e9367b8c13b53d35ff58cb4</td>\n",
       "      <td>00-00-00</td>\n",
       "      <td>7</td>\n",
       "      <td>IRT</td>\n",
       "      <td>2023-09-29 12:00:00+00:00</td>\n",
       "      <td>6047072</td>\n",
       "      <td>5021465</td>\n",
       "    </tr>\n",
       "  </tbody>\n",
       "</table>"
      ],
      "text/plain": [
       "<IPython.core.display.HTML object>"
      ]
     },
     "metadata": {},
     "output_type": "display_data"
    }
   ],
   "source": [
    "print_df(df)"
   ]
  },
  {
   "cell_type": "code",
   "execution_count": 61,
   "metadata": {},
   "outputs": [
    {
     "data": {
      "text/html": [
       "<table border=\"1\" class=\"dataframe\">\n",
       "  <thead>\n",
       "    <tr style=\"text-align: right;\">\n",
       "      <th></th>\n",
       "      <th>station_name</th>\n",
       "      <th>booth_name</th>\n",
       "      <th>created_dt</th>\n",
       "      <th>entries</th>\n",
       "      <th>exits</th>\n",
       "    </tr>\n",
       "  </thead>\n",
       "  <tbody>\n",
       "    <tr>\n",
       "      <th>0</th>\n",
       "      <td>VERNON-JACKSON</td>\n",
       "      <td>R504</td>\n",
       "      <td>2023-09-29 08:00:00+00:00</td>\n",
       "      <td>6046937</td>\n",
       "      <td>5021121</td>\n",
       "    </tr>\n",
       "    <tr>\n",
       "      <th>1</th>\n",
       "      <td>VERNON-JACKSON</td>\n",
       "      <td>R504</td>\n",
       "      <td>2023-09-29 16:00:00+00:00</td>\n",
       "      <td>6047143</td>\n",
       "      <td>5021712</td>\n",
       "    </tr>\n",
       "    <tr>\n",
       "      <th>2</th>\n",
       "      <td>VERNON-JACKSON</td>\n",
       "      <td>R504</td>\n",
       "      <td>2023-09-29 04:00:00+00:00</td>\n",
       "      <td>6046875</td>\n",
       "      <td>5020881</td>\n",
       "    </tr>\n",
       "    <tr>\n",
       "      <th>3</th>\n",
       "      <td>VERNON-JACKSON</td>\n",
       "      <td>R504</td>\n",
       "      <td>2023-09-29 00:00:00+00:00</td>\n",
       "      <td>6046873</td>\n",
       "      <td>5020879</td>\n",
       "    </tr>\n",
       "    <tr>\n",
       "      <th>4</th>\n",
       "      <td>VERNON-JACKSON</td>\n",
       "      <td>R504</td>\n",
       "      <td>2023-09-29 12:00:00+00:00</td>\n",
       "      <td>6047072</td>\n",
       "      <td>5021465</td>\n",
       "    </tr>\n",
       "  </tbody>\n",
       "</table>"
      ],
      "text/plain": [
       "<IPython.core.display.HTML object>"
      ]
     },
     "metadata": {},
     "output_type": "display_data"
    }
   ],
   "source": [
    "# join the fact_turnstile table with the dim_station table and dim_booth table for the last three months\n",
    "\n",
    "sql = \"\"\"\n",
    "SELECT station_name, booth_name, created_dt, entries, exits\n",
    "FROM `{}.{}.fact_turnstile` as f\n",
    "JOIN `{}.{}.dim_station` as s\n",
    "ON f.station_id = s.station_id\n",
    "JOIN `{}.{}.dim_booth` as b\n",
    "ON f.booth_id = b.booth_id\n",
    "WHERE created_dt >= '{}'\n",
    "LIMIT 1000\n",
    "\"\"\".format(PROJECT, DATASET, PROJECT, DATASET, PROJECT, DATASET, date_value)\n",
    "df_station = run_query(sql)\n",
    "print_df(df_station)\n",
    "\n"
   ]
  },
  {
   "cell_type": "code",
   "execution_count": 62,
   "metadata": {},
   "outputs": [
    {
     "data": {
      "image/png": "[encoded data removed]",
      "text/plain": [
       "<Figure size 640x480 with 1 Axes>"
      ]
     },
     "metadata": {},
     "output_type": "display_data"
    }
   ],
   "source": [
    "\n",
    "# get the top n stations with the most entries using the df_station dataframe\n",
    "df_top_entries = df_station.groupby('station_name')['entries'].sum().reset_index().sort_values(by='entries', ascending=False).head(5)\n",
    "\n",
    "# create a pie chart using the df_top_entries dataframe \n",
    "import matplotlib.pyplot as plt\n",
    "plt.pie(df_top_entries['entries'], labels=df_top_entries['station_name'], autopct='%1.1f%%')\n",
    "plt.axis('equal')\n",
    "plt.show()\n",
    "\n"
   ]
  }
 ],
 "metadata": {
  "kernelspec": {
   "display_name": "Python 3",
   "language": "python",
   "name": "python3"
  },
  "language_info": {
   "codemirror_mode": {
    "name": "ipython",
    "version": 3
   },
   "file_extension": ".py",
   "mimetype": "text/x-python",
   "name": "python",
   "nbconvert_exporter": "python",
   "pygments_lexer": "ipython3",
   "version": "3.8.10"
  }
 },
 "nbformat": 4,
 "nbformat_minor": 2
}
