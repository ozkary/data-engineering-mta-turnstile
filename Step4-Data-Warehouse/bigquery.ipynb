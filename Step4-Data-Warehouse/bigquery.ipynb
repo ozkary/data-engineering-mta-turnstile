{
 "cells": [
  {
   "cell_type": "markdown",
   "metadata": {},
   "source": [
    "# Jupyter Notebook for BigQuery"
   ]
  },
  {
   "cell_type": "code",
   "execution_count": 23,
   "metadata": {},
   "outputs": [],
   "source": [
    "import google.cloud.bigquery\n",
    "import pandas as pd\n",
    "\n",
    "# define the project and database\n",
    "PROJECT = 'ozkary-de-101'\n",
    "DATASET = 'mta_data'"
   ]
  },
  {
   "cell_type": "markdown",
   "metadata": {},
   "source": [
    "### Set the API client and project information"
   ]
  },
  {
   "cell_type": "code",
   "execution_count": 19,
   "metadata": {},
   "outputs": [],
   "source": [
    "# using the bigquery client library \n",
    "client = google.cloud.bigquery.Client()\n",
    "dataset_ref = client.dataset(DATASET, project=PROJECT)\n",
    "\n",
    "# define a run query function\n",
    "def run_query(sql):\n",
    "    query = client.query(sql)\n",
    "    return query.to_dataframe()\n",
    "    "
   ]
  },
  {
   "cell_type": "markdown",
   "metadata": {},
   "source": [
    "### View the data that is available on the datalake by querying the external table."
   ]
  },
  {
   "cell_type": "code",
   "execution_count": 22,
   "metadata": {},
   "outputs": [
    {
     "name": "stdout",
     "output_type": "stream",
     "text": [
      "\n",
      "SELECT * \n",
      "FROM `ozkary-de-101.mta_data.ext_turnstile`  \n",
      "limit 100\n",
      "\n"
     ]
    },
    {
     "data": {
      "text/html": [
       "<div>\n",
       "<style scoped>\n",
       "    .dataframe tbody tr th:only-of-type {\n",
       "        vertical-align: middle;\n",
       "    }\n",
       "\n",
       "    .dataframe tbody tr th {\n",
       "        vertical-align: top;\n",
       "    }\n",
       "\n",
       "    .dataframe thead th {\n",
       "        text-align: right;\n",
       "    }\n",
       "</style>\n",
       "<table border=\"1\" class=\"dataframe\">\n",
       "  <thead>\n",
       "    <tr style=\"text-align: right;\">\n",
       "      <th></th>\n",
       "      <th>int64_field_0</th>\n",
       "      <th>CA</th>\n",
       "      <th>UNIT</th>\n",
       "      <th>SCP</th>\n",
       "      <th>STATION</th>\n",
       "      <th>LINENAME</th>\n",
       "      <th>DIVISION</th>\n",
       "      <th>DATE</th>\n",
       "      <th>TIME</th>\n",
       "      <th>DESC</th>\n",
       "      <th>ENTRIES</th>\n",
       "      <th>EXITS</th>\n",
       "    </tr>\n",
       "  </thead>\n",
       "  <tbody>\n",
       "    <tr>\n",
       "      <th>0</th>\n",
       "      <td>0</td>\n",
       "      <td>A002</td>\n",
       "      <td>R001</td>\n",
       "      <td>02-00-00</td>\n",
       "      <td>Test-Station1</td>\n",
       "      <td>456NQR</td>\n",
       "      <td>BMT</td>\n",
       "      <td>2024-01-30</td>\n",
       "      <td>15:55:00</td>\n",
       "      <td>REGULAR</td>\n",
       "      <td>14</td>\n",
       "      <td>12</td>\n",
       "    </tr>\n",
       "    <tr>\n",
       "      <th>1</th>\n",
       "      <td>1</td>\n",
       "      <td>A001</td>\n",
       "      <td>R001</td>\n",
       "      <td>02-00-00</td>\n",
       "      <td>Test-Station1</td>\n",
       "      <td>456NQR</td>\n",
       "      <td>BMT</td>\n",
       "      <td>2024-01-30</td>\n",
       "      <td>15:55:00</td>\n",
       "      <td>REGULAR</td>\n",
       "      <td>42</td>\n",
       "      <td>35</td>\n",
       "    </tr>\n",
       "    <tr>\n",
       "      <th>2</th>\n",
       "      <td>2</td>\n",
       "      <td>A001</td>\n",
       "      <td>R002</td>\n",
       "      <td>02-00-00</td>\n",
       "      <td>Test-Station2</td>\n",
       "      <td>456NQR</td>\n",
       "      <td>BMT</td>\n",
       "      <td>2024-01-30</td>\n",
       "      <td>15:55:00</td>\n",
       "      <td>REGULAR</td>\n",
       "      <td>9</td>\n",
       "      <td>10</td>\n",
       "    </tr>\n",
       "    <tr>\n",
       "      <th>3</th>\n",
       "      <td>3</td>\n",
       "      <td>A002</td>\n",
       "      <td>R002</td>\n",
       "      <td>02-00-00</td>\n",
       "      <td>Test-Station1</td>\n",
       "      <td>456NQR</td>\n",
       "      <td>BMT</td>\n",
       "      <td>2024-01-30</td>\n",
       "      <td>15:55:00</td>\n",
       "      <td>REGULAR</td>\n",
       "      <td>14</td>\n",
       "      <td>17</td>\n",
       "    </tr>\n",
       "    <tr>\n",
       "      <th>4</th>\n",
       "      <td>4</td>\n",
       "      <td>A002</td>\n",
       "      <td>R002</td>\n",
       "      <td>02-00-00</td>\n",
       "      <td>Test-Station2</td>\n",
       "      <td>456NQR</td>\n",
       "      <td>BMT</td>\n",
       "      <td>2024-01-30</td>\n",
       "      <td>15:55:00</td>\n",
       "      <td>REGULAR</td>\n",
       "      <td>37</td>\n",
       "      <td>41</td>\n",
       "    </tr>\n",
       "  </tbody>\n",
       "</table>\n",
       "</div>"
      ],
      "text/plain": [
       "   int64_field_0    CA  UNIT       SCP        STATION LINENAME DIVISION  \\\n",
       "0              0  A002  R001  02-00-00  Test-Station1   456NQR      BMT   \n",
       "1              1  A001  R001  02-00-00  Test-Station1   456NQR      BMT   \n",
       "2              2  A001  R002  02-00-00  Test-Station2   456NQR      BMT   \n",
       "3              3  A002  R002  02-00-00  Test-Station1   456NQR      BMT   \n",
       "4              4  A002  R002  02-00-00  Test-Station2   456NQR      BMT   \n",
       "\n",
       "         DATE      TIME     DESC  ENTRIES  EXITS  \n",
       "0  2024-01-30  15:55:00  REGULAR       14     12  \n",
       "1  2024-01-30  15:55:00  REGULAR       42     35  \n",
       "2  2024-01-30  15:55:00  REGULAR        9     10  \n",
       "3  2024-01-30  15:55:00  REGULAR       14     17  \n",
       "4  2024-01-30  15:55:00  REGULAR       37     41  "
      ]
     },
     "execution_count": 22,
     "metadata": {},
     "output_type": "execute_result"
    }
   ],
   "source": [
    "# list the records from the external table\n",
    "sql = \"\"\"\n",
    "SELECT * \n",
    "FROM `{}.{}.ext_turnstile`  \n",
    "limit 100\n",
    "\"\"\".format(PROJECT, DATASET)\n",
    "# query the data using the client reference\n",
    "df = run_query(sql)\n",
    "print(sql)\n",
    "df.head(5)\n"
   ]
  },
  {
   "cell_type": "markdown",
   "metadata": {},
   "source": [
    "### List the database objects"
   ]
  },
  {
   "cell_type": "code",
   "execution_count": 2,
   "metadata": {},
   "outputs": [
    {
     "name": "stdout",
     "output_type": "stream",
     "text": [
      "dim_booth\n",
      "dim_station\n",
      "ext_batch_turnstile\n",
      "ext_streaming_turnstile\n",
      "ext_turnstile\n",
      "fact_stats\n",
      "fact_turnstile\n",
      "remote_booth_station\n",
      "rpt_turnstile\n",
      "stg_booth\n",
      "stg_station\n",
      "stg_turnstile\n"
     ]
    }
   ],
   "source": [
    "# using the bigquery client library read a list of tables \n",
    "tables = list(client.list_tables(dataset_ref))\n",
    "for table in tables:\n",
    "    print(table.table_id)"
   ]
  },
  {
   "cell_type": "code",
   "execution_count": 3,
   "metadata": {},
   "outputs": [
    {
     "name": "stdout",
     "output_type": "stream",
     "text": [
      "[SchemaField('booth_id', 'STRING', 'NULLABLE', None, None, (), None), SchemaField('remote', 'STRING', 'NULLABLE', None, None, (), None), SchemaField('booth_name', 'STRING', 'NULLABLE', None, None, (), None), SchemaField('station_id', 'STRING', 'NULLABLE', None, None, (), None)]\n",
      "[SchemaField('station_id', 'STRING', 'NULLABLE', None, None, (), None), SchemaField('station_name', 'STRING', 'NULLABLE', None, None, (), None)]\n",
      "[SchemaField('int64_field_0', 'INTEGER', 'NULLABLE', None, None, (), None), SchemaField('CA', 'STRING', 'NULLABLE', None, None, (), None), SchemaField('UNIT', 'STRING', 'NULLABLE', None, None, (), None), SchemaField('SCP', 'STRING', 'NULLABLE', None, None, (), None), SchemaField('STATION', 'STRING', 'NULLABLE', None, None, (), None), SchemaField('LINENAME', 'STRING', 'NULLABLE', None, None, (), None), SchemaField('DIVISION', 'STRING', 'NULLABLE', None, None, (), None), SchemaField('DATE', 'DATE', 'NULLABLE', None, None, (), None), SchemaField('TIME', 'TIME', 'NULLABLE', None, None, (), None), SchemaField('DESC', 'STRING', 'NULLABLE', None, None, (), None), SchemaField('ENTRIES', 'INTEGER', 'NULLABLE', None, None, (), None), SchemaField('EXITS', 'INTEGER', 'NULLABLE', None, None, (), None)]\n",
      "[SchemaField('int64_field_0', 'INTEGER', 'NULLABLE', None, None, (), None), SchemaField('CA', 'STRING', 'NULLABLE', None, None, (), None), SchemaField('UNIT', 'STRING', 'NULLABLE', None, None, (), None), SchemaField('SCP', 'STRING', 'NULLABLE', None, None, (), None), SchemaField('STATION', 'STRING', 'NULLABLE', None, None, (), None), SchemaField('LINENAME', 'STRING', 'NULLABLE', None, None, (), None), SchemaField('DIVISION', 'STRING', 'NULLABLE', None, None, (), None), SchemaField('DATE', 'DATE', 'NULLABLE', None, None, (), None), SchemaField('TIME', 'TIME', 'NULLABLE', None, None, (), None), SchemaField('DESC', 'STRING', 'NULLABLE', None, None, (), None), SchemaField('ENTRIES', 'INTEGER', 'NULLABLE', None, None, (), None), SchemaField('EXITS', 'INTEGER', 'NULLABLE', None, None, (), None)]\n",
      "[SchemaField('int64_field_0', 'INTEGER', 'NULLABLE', None, None, (), None), SchemaField('CA', 'STRING', 'NULLABLE', None, None, (), None), SchemaField('UNIT', 'STRING', 'NULLABLE', None, None, (), None), SchemaField('SCP', 'STRING', 'NULLABLE', None, None, (), None), SchemaField('STATION', 'STRING', 'NULLABLE', None, None, (), None), SchemaField('LINENAME', 'STRING', 'NULLABLE', None, None, (), None), SchemaField('DIVISION', 'STRING', 'NULLABLE', None, None, (), None), SchemaField('DATE', 'DATE', 'NULLABLE', None, None, (), None), SchemaField('TIME', 'TIME', 'NULLABLE', None, None, (), None), SchemaField('DESC', 'STRING', 'NULLABLE', None, None, (), None), SchemaField('ENTRIES', 'INTEGER', 'NULLABLE', None, None, (), None), SchemaField('EXITS', 'INTEGER', 'NULLABLE', None, None, (), None)]\n",
      "[SchemaField('name', 'STRING', 'NULLABLE', None, None, (), None), SchemaField('total', 'INTEGER', 'NULLABLE', None, None, (), None), SchemaField('created', 'DATETIME', 'NULLABLE', 'CURRENT_DATETIME()', None, (), None)]\n",
      "[SchemaField('log_id', 'STRING', 'NULLABLE', None, None, (), None), SchemaField('station_id', 'STRING', 'NULLABLE', None, None, (), None), SchemaField('booth_id', 'STRING', 'NULLABLE', None, None, (), None), SchemaField('scp', 'STRING', 'NULLABLE', None, None, (), None), SchemaField('line_name', 'STRING', 'NULLABLE', None, None, (), None), SchemaField('division', 'STRING', 'NULLABLE', None, None, (), None), SchemaField('created_dt', 'TIMESTAMP', 'NULLABLE', None, None, (), None), SchemaField('entries', 'INTEGER', 'NULLABLE', None, None, (), None), SchemaField('exits', 'INTEGER', 'NULLABLE', None, None, (), None)]\n",
      "[SchemaField('Remote', 'STRING', 'NULLABLE', None, None, (), None), SchemaField('Booth', 'STRING', 'NULLABLE', None, None, (), None), SchemaField('Station', 'STRING', 'NULLABLE', None, None, (), None), SchemaField('Line Name', 'STRING', 'NULLABLE', None, None, (), None), SchemaField('Division', 'STRING', 'NULLABLE', None, None, (), None)]\n",
      "[SchemaField('log_id', 'STRING', 'NULLABLE', None, None, (), None), SchemaField('station_name', 'STRING', 'NULLABLE', None, None, (), None), SchemaField('booth_name', 'STRING', 'NULLABLE', None, None, (), None), SchemaField('scp', 'STRING', 'NULLABLE', None, None, (), None), SchemaField('line_name', 'STRING', 'NULLABLE', None, None, (), None), SchemaField('division', 'STRING', 'NULLABLE', None, None, (), None), SchemaField('created_dt', 'TIMESTAMP', 'NULLABLE', None, None, (), None), SchemaField('entries', 'INTEGER', 'NULLABLE', None, None, (), None), SchemaField('exits', 'INTEGER', 'NULLABLE', None, None, (), None), SchemaField('reported_dt', 'DATE', 'NULLABLE', None, None, (), None)]\n",
      "[SchemaField('booth_id', 'STRING', 'NULLABLE', None, None, (), None), SchemaField('remote', 'STRING', 'NULLABLE', None, None, (), None), SchemaField('booth_name', 'STRING', 'NULLABLE', None, None, (), None), SchemaField('station_name', 'STRING', 'NULLABLE', None, None, (), None)]\n",
      "[SchemaField('station_id', 'STRING', 'NULLABLE', None, None, (), None), SchemaField('station_name', 'STRING', 'NULLABLE', None, None, (), None)]\n",
      "[SchemaField('log_id', 'STRING', 'NULLABLE', None, None, (), None), SchemaField('booth', 'STRING', 'NULLABLE', None, None, (), None), SchemaField('remote', 'STRING', 'NULLABLE', None, None, (), None), SchemaField('station', 'STRING', 'NULLABLE', None, None, (), None), SchemaField('scp', 'STRING', 'NULLABLE', None, None, (), None), SchemaField('line_name', 'STRING', 'NULLABLE', None, None, (), None), SchemaField('division', 'STRING', 'NULLABLE', None, None, (), None), SchemaField('created_dt', 'TIMESTAMP', 'NULLABLE', None, None, (), None), SchemaField('entries', 'INTEGER', 'NULLABLE', None, None, (), None), SchemaField('exits', 'INTEGER', 'NULLABLE', None, None, (), None)]\n",
      "dim_booth 796\n",
      "dim_station 584\n",
      "ext_batch_turnstile 0\n",
      "ext_streaming_turnstile 0\n",
      "ext_turnstile 0\n",
      "fact_stats 3\n",
      "fact_turnstile 2770827\n",
      "remote_booth_station 768\n",
      "rpt_turnstile 0\n",
      "stg_booth 0\n",
      "stg_station 0\n",
      "stg_turnstile 0\n"
     ]
    }
   ],
   "source": [
    "# get the tables in the system and for each table get the schema\n",
    "# and print the table name and row count\n",
    "for table in tables:\n",
    "    table_ref = dataset_ref.table(table.table_id)\n",
    "    table = client.get_table(table_ref)\n",
    "    print(table.schema)\n",
    "\n",
    "# for each table get the row count\n",
    "for table in tables:\n",
    "    table_ref = dataset_ref.table(table.table_id)\n",
    "    table = client.get_table(table_ref)\n",
    "    print(table.table_id, table.num_rows)"
   ]
  },
  {
   "cell_type": "markdown",
   "metadata": {},
   "source": [
    "### Look at the station information\n"
   ]
  },
  {
   "cell_type": "code",
   "execution_count": 24,
   "metadata": {},
   "outputs": [
    {
     "name": "stdout",
     "output_type": "stream",
     "text": [
      "\n",
      "SELECT station_id, station_name\n",
      "FROM `ozkary-de-101.mta_data.dim_station`\n",
      "limit 100\n",
      "\n"
     ]
    },
    {
     "data": {
      "text/html": [
       "<div>\n",
       "<style scoped>\n",
       "    .dataframe tbody tr th:only-of-type {\n",
       "        vertical-align: middle;\n",
       "    }\n",
       "\n",
       "    .dataframe tbody tr th {\n",
       "        vertical-align: top;\n",
       "    }\n",
       "\n",
       "    .dataframe thead th {\n",
       "        text-align: right;\n",
       "    }\n",
       "</style>\n",
       "<table border=\"1\" class=\"dataframe\">\n",
       "  <thead>\n",
       "    <tr style=\"text-align: right;\">\n",
       "      <th></th>\n",
       "      <th>station_id</th>\n",
       "      <th>station_name</th>\n",
       "    </tr>\n",
       "  </thead>\n",
       "  <tbody>\n",
       "    <tr>\n",
       "      <th>0</th>\n",
       "      <td>9440f03bc95426dfed0df95d0768ebd2</td>\n",
       "      <td>BEACH 36 ST</td>\n",
       "    </tr>\n",
       "    <tr>\n",
       "      <th>1</th>\n",
       "      <td>2e022c4b53de34527d1a8eb5ec5f234b</td>\n",
       "      <td>MYRTLE-WILLOUGH</td>\n",
       "    </tr>\n",
       "    <tr>\n",
       "      <th>2</th>\n",
       "      <td>1637671c86de22714149d58244698394</td>\n",
       "      <td>LACKAWANNA</td>\n",
       "    </tr>\n",
       "    <tr>\n",
       "      <th>3</th>\n",
       "      <td>46d6cde2d4010f5a20dd0b3dcd8d86d7</td>\n",
       "      <td>W 4 ST-WASH SQ</td>\n",
       "    </tr>\n",
       "    <tr>\n",
       "      <th>4</th>\n",
       "      <td>821cb20abd9ee7e5a1358100794c0878</td>\n",
       "      <td>CLINTON-WASH AV</td>\n",
       "    </tr>\n",
       "  </tbody>\n",
       "</table>\n",
       "</div>"
      ],
      "text/plain": [
       "                         station_id     station_name\n",
       "0  9440f03bc95426dfed0df95d0768ebd2      BEACH 36 ST\n",
       "1  2e022c4b53de34527d1a8eb5ec5f234b  MYRTLE-WILLOUGH\n",
       "2  1637671c86de22714149d58244698394       LACKAWANNA\n",
       "3  46d6cde2d4010f5a20dd0b3dcd8d86d7   W 4 ST-WASH SQ\n",
       "4  821cb20abd9ee7e5a1358100794c0878  CLINTON-WASH AV"
      ]
     },
     "execution_count": 24,
     "metadata": {},
     "output_type": "execute_result"
    }
   ],
   "source": [
    "# read the station information\n",
    "sql = \"\"\"\n",
    "SELECT station_id, station_name\n",
    "FROM `{}.{}.dim_station`\n",
    "limit 100\n",
    "\"\"\".format(PROJECT, DATASET)\n",
    "# query the data using the client reference\n",
    "df = run_query(sql)\n",
    "print(sql)\n",
    "df.head()"
   ]
  },
  {
   "cell_type": "code",
   "execution_count": 25,
   "metadata": {},
   "outputs": [
    {
     "name": "stdout",
     "output_type": "stream",
     "text": [
      "\n",
      "SELECT max(created_dt) as max_date\n",
      "FROM `ozkary-de-101.mta_data.fact_turnstile`\n",
      "\n"
     ]
    },
    {
     "data": {
      "text/html": [
       "<div>\n",
       "<style scoped>\n",
       "    .dataframe tbody tr th:only-of-type {\n",
       "        vertical-align: middle;\n",
       "    }\n",
       "\n",
       "    .dataframe tbody tr th {\n",
       "        vertical-align: top;\n",
       "    }\n",
       "\n",
       "    .dataframe thead th {\n",
       "        text-align: right;\n",
       "    }\n",
       "</style>\n",
       "<table border=\"1\" class=\"dataframe\">\n",
       "  <thead>\n",
       "    <tr style=\"text-align: right;\">\n",
       "      <th></th>\n",
       "      <th>max_date</th>\n",
       "    </tr>\n",
       "  </thead>\n",
       "  <tbody>\n",
       "    <tr>\n",
       "      <th>0</th>\n",
       "      <td>2024-02-02 23:59:32+00:00</td>\n",
       "    </tr>\n",
       "  </tbody>\n",
       "</table>\n",
       "</div>"
      ],
      "text/plain": [
       "                   max_date\n",
       "0 2024-02-02 23:59:32+00:00"
      ]
     },
     "execution_count": 25,
     "metadata": {},
     "output_type": "execute_result"
    }
   ],
   "source": [
    "# use sql to query the latest date in the fact_turnstile table and print the result using the client reference\n",
    "sql = \"\"\"\n",
    "SELECT max(created_dt) as max_date\n",
    "FROM `{}.{}.fact_turnstile`\n",
    "\"\"\".format(PROJECT, DATASET)\n",
    "# query the data using the client reference\n",
    "df = run_query(sql)\n",
    "print(sql)\n",
    "df.head()"
   ]
  },
  {
   "cell_type": "code",
   "execution_count": 8,
   "metadata": {},
   "outputs": [
    {
     "name": "stdout",
     "output_type": "stream",
     "text": [
      "\n",
      "SELECT *\n",
      "FROM `ozkary-de-101.mta_data.fact_turnstile`\n",
      "WHERE created_dt >= '2024-03-03'\n",
      "LIMIT 100\n",
      "\n"
     ]
    },
    {
     "data": {
      "text/html": [
       "<div>\n",
       "<style scoped>\n",
       "    .dataframe tbody tr th:only-of-type {\n",
       "        vertical-align: middle;\n",
       "    }\n",
       "\n",
       "    .dataframe tbody tr th {\n",
       "        vertical-align: top;\n",
       "    }\n",
       "\n",
       "    .dataframe thead th {\n",
       "        text-align: right;\n",
       "    }\n",
       "</style>\n",
       "<table border=\"1\" class=\"dataframe\">\n",
       "  <thead>\n",
       "    <tr style=\"text-align: right;\">\n",
       "      <th></th>\n",
       "      <th>log_id</th>\n",
       "      <th>station_id</th>\n",
       "      <th>booth_id</th>\n",
       "      <th>scp</th>\n",
       "      <th>line_name</th>\n",
       "      <th>division</th>\n",
       "      <th>created_dt</th>\n",
       "      <th>entries</th>\n",
       "      <th>exits</th>\n",
       "    </tr>\n",
       "  </thead>\n",
       "  <tbody>\n",
       "  </tbody>\n",
       "</table>\n",
       "</div>"
      ],
      "text/plain": [
       "Empty DataFrame\n",
       "Columns: [log_id, station_id, booth_id, scp, line_name, division, created_dt, entries, exits]\n",
       "Index: []"
      ]
     },
     "execution_count": 8,
     "metadata": {},
     "output_type": "execute_result"
    }
   ],
   "source": [
    "# define todays date using a datetime object\n",
    "from datetime import datetime, timedelta\n",
    "\n",
    "# set a variable to the current date - 1 month\n",
    "last_month = datetime.today() - timedelta(days=30)\n",
    "date_value = last_month.strftime('%Y-%m-%d')\n",
    "\n",
    "# select a limit of 100 rows with the latest date\n",
    "sql = \"\"\"\n",
    "SELECT *\n",
    "FROM `{}.{}.fact_turnstile`\n",
    "WHERE created_dt >= '{}'\n",
    "LIMIT 100\n",
    "\"\"\".format(PROJECT, DATASET, date_value)    \n",
    "print(sql)\n",
    "df = run_query(sql)\n",
    "df.head()"
   ]
  },
  {
   "cell_type": "code",
   "execution_count": 11,
   "metadata": {},
   "outputs": [],
   "source": [
    "# print the dataframe in a grid format\n",
    "def print_df(df):\n",
    "    from IPython.display import display, HTML\n",
    "    display(HTML(df.head().to_html()))"
   ]
  },
  {
   "cell_type": "code",
   "execution_count": 18,
   "metadata": {},
   "outputs": [
    {
     "data": {
      "text/html": [
       "<table border=\"1\" class=\"dataframe\">\n",
       "  <thead>\n",
       "    <tr style=\"text-align: right;\">\n",
       "      <th></th>\n",
       "      <th>log_id</th>\n",
       "      <th>station_id</th>\n",
       "      <th>booth_id</th>\n",
       "      <th>scp</th>\n",
       "      <th>line_name</th>\n",
       "      <th>division</th>\n",
       "      <th>created_dt</th>\n",
       "      <th>entries</th>\n",
       "      <th>exits</th>\n",
       "    </tr>\n",
       "  </thead>\n",
       "  <tbody>\n",
       "    <tr>\n",
       "      <th>0</th>\n",
       "      <td>4118f048daf2a2ae16418cb9613ea131</td>\n",
       "      <td>77792700f8184bbf78ed91567285bd1d</td>\n",
       "      <td>000b1145d66ea47ba7d80e381c0d22ba</td>\n",
       "      <td>00-00-00</td>\n",
       "      <td>NQW</td>\n",
       "      <td>BMT</td>\n",
       "      <td>2023-09-27 04:00:00+00:00</td>\n",
       "      <td>7048805</td>\n",
       "      <td>12861305</td>\n",
       "    </tr>\n",
       "    <tr>\n",
       "      <th>1</th>\n",
       "      <td>51197d55ebc532af58ea366cd60b1144</td>\n",
       "      <td>77792700f8184bbf78ed91567285bd1d</td>\n",
       "      <td>000b1145d66ea47ba7d80e381c0d22ba</td>\n",
       "      <td>00-00-00</td>\n",
       "      <td>NQW</td>\n",
       "      <td>BMT</td>\n",
       "      <td>2023-09-27 16:00:00+00:00</td>\n",
       "      <td>7049310</td>\n",
       "      <td>12861587</td>\n",
       "    </tr>\n",
       "    <tr>\n",
       "      <th>2</th>\n",
       "      <td>16c770822451f5e98f8c7900c244e0a9</td>\n",
       "      <td>77792700f8184bbf78ed91567285bd1d</td>\n",
       "      <td>000b1145d66ea47ba7d80e381c0d22ba</td>\n",
       "      <td>00-00-00</td>\n",
       "      <td>NQW</td>\n",
       "      <td>BMT</td>\n",
       "      <td>2023-09-27 12:00:00+00:00</td>\n",
       "      <td>7049194</td>\n",
       "      <td>12861412</td>\n",
       "    </tr>\n",
       "    <tr>\n",
       "      <th>3</th>\n",
       "      <td>59699893e6e65958fc08ac0b2487f9a3</td>\n",
       "      <td>77792700f8184bbf78ed91567285bd1d</td>\n",
       "      <td>000b1145d66ea47ba7d80e381c0d22ba</td>\n",
       "      <td>00-00-00</td>\n",
       "      <td>NQW</td>\n",
       "      <td>BMT</td>\n",
       "      <td>2023-09-27 00:00:00+00:00</td>\n",
       "      <td>7048803</td>\n",
       "      <td>12861279</td>\n",
       "    </tr>\n",
       "    <tr>\n",
       "      <th>4</th>\n",
       "      <td>2acc35df46379b9d0ff53f86bc7b6820</td>\n",
       "      <td>77792700f8184bbf78ed91567285bd1d</td>\n",
       "      <td>000b1145d66ea47ba7d80e381c0d22ba</td>\n",
       "      <td>00-00-00</td>\n",
       "      <td>NQW</td>\n",
       "      <td>BMT</td>\n",
       "      <td>2023-09-27 08:00:00+00:00</td>\n",
       "      <td>7048959</td>\n",
       "      <td>12861343</td>\n",
       "    </tr>\n",
       "  </tbody>\n",
       "</table>"
      ],
      "text/plain": [
       "<IPython.core.display.HTML object>"
      ]
     },
     "metadata": {},
     "output_type": "display_data"
    }
   ],
   "source": [
    "print_df(df)"
   ]
  },
  {
   "cell_type": "code",
   "execution_count": 13,
   "metadata": {},
   "outputs": [
    {
     "name": "stdout",
     "output_type": "stream",
     "text": [
      "\n",
      "SELECT station_name, booth_name, created_dt, entries, exits\n",
      "FROM `ozkary-de-101.mta_data.fact_turnstile` as f\n",
      "JOIN `ozkary-de-101.mta_data.dim_station` as s\n",
      "ON f.station_id = s.station_id\n",
      "JOIN `ozkary-de-101.mta_data.dim_booth` as b\n",
      "ON f.booth_id = b.booth_id\n",
      "WHERE created_dt >= '2024-03-03'\n",
      "LIMIT 1000\n",
      "\n"
     ]
    },
    {
     "data": {
      "text/html": [
       "<table border=\"1\" class=\"dataframe\">\n",
       "  <thead>\n",
       "    <tr style=\"text-align: right;\">\n",
       "      <th></th>\n",
       "      <th>station_name</th>\n",
       "      <th>booth_name</th>\n",
       "      <th>created_dt</th>\n",
       "      <th>entries</th>\n",
       "      <th>exits</th>\n",
       "    </tr>\n",
       "  </thead>\n",
       "  <tbody>\n",
       "  </tbody>\n",
       "</table>"
      ],
      "text/plain": [
       "<IPython.core.display.HTML object>"
      ]
     },
     "metadata": {},
     "output_type": "display_data"
    }
   ],
   "source": [
    "# join the fact_turnstile table with the dim_station table and dim_booth table for the last three months\n",
    "\n",
    "sql = \"\"\"\n",
    "SELECT station_name, booth_name, created_dt, entries, exits\n",
    "FROM `{}.{}.fact_turnstile` as f\n",
    "JOIN `{}.{}.dim_station` as s\n",
    "ON f.station_id = s.station_id\n",
    "JOIN `{}.{}.dim_booth` as b\n",
    "ON f.booth_id = b.booth_id\n",
    "WHERE created_dt >= '{}'\n",
    "LIMIT 1000\n",
    "\"\"\".format(PROJECT, DATASET, PROJECT, DATASET, PROJECT, DATASET, date_value)\n",
    "df_station = run_query(sql)\n",
    "print(sql)\n",
    "print_df(df_station)\n",
    "\n"
   ]
  },
  {
   "cell_type": "markdown",
   "metadata": {},
   "source": [
    "## Get the top n stations with the most entries using the df_station dataframe"
   ]
  },
  {
   "cell_type": "code",
   "execution_count": 14,
   "metadata": {},
   "outputs": [
    {
     "data": {
      "image/png": "[encoded data removed]",
      "text/plain": [
       "<Figure size 1000x500 with 1 Axes>"
      ]
     },
     "metadata": {},
     "output_type": "display_data"
    }
   ],
   "source": [
    "\n",
    "# get the top n stations with the most entries using the df_station dataframe\n",
    "df_top_entries = df_station.groupby('station_name')['entries'].sum().reset_index().sort_values(by='entries', ascending=False).head(5)\n",
    "\n",
    "# create a pie chart using the df_top_entries dataframe \n",
    "import matplotlib.pyplot as plt\n",
    "\n",
    "# set the size of the pie chart\n",
    "plt.figure(figsize=(10,5))\n",
    "\n",
    "plt.pie(df_top_entries['entries'], labels=df_top_entries['station_name'], autopct='%1.1f%%')\n",
    "plt.axis('equal')\n",
    "\n",
    "# add a donut hole to the pie chart\n",
    "my_circle=plt.Circle( (0,0), 0.35, color='white')\n",
    "p=plt.gcf()\n",
    "p.gca().add_artist(my_circle)\n",
    "\n",
    "\n",
    "# add a title and legend to the pie chart\n",
    "plt.title('Top 5 Stations by Entries')\n",
    "plt.legend(df_top_entries['station_name'], loc='upper right')\n",
    "\n",
    "plt.show()\n",
    "\n"
   ]
  }
 ],
 "metadata": {
  "kernelspec": {
   "display_name": "Python 3",
   "language": "python",
   "name": "python3"
  },
  "language_info": {
   "codemirror_mode": {
    "name": "ipython",
    "version": 3
   },
   "file_extension": ".py",
   "mimetype": "text/x-python",
   "name": "python",
   "nbconvert_exporter": "python",
   "pygments_lexer": "ipython3",
   "version": "3.8.10"
  }
 },
 "nbformat": 4,
 "nbformat_minor": 2
}
