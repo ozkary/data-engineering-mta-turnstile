{
 "cells": [
  {
   "cell_type": "markdown",
   "metadata": {},
   "source": [
    "# Jupyter Notebook for BigQuery"
   ]
  },
  {
   "cell_type": "code",
   "execution_count": 1,
   "metadata": {},
   "outputs": [],
   "source": [
    "import os\n",
    "import google.cloud.bigquery\n",
    "import pandas as pd\n",
    "\n",
    "# define the project and database\n",
    "PROJECT = os.getenv('GOOGLE_PROJECT_NAME')\n",
    "DATASET = 'mta_data'"
   ]
  },
  {
   "cell_type": "markdown",
   "metadata": {},
   "source": [
    "### Set the API client and project information"
   ]
  },
  {
   "cell_type": "code",
   "execution_count": 4,
   "metadata": {},
   "outputs": [],
   "source": [
    "# using the bigquery client library \n",
    "client = google.cloud.bigquery.Client()\n",
    "\n",
    "# set a reference to the database\n",
    "dataset_ref = client.dataset(DATASET, project=PROJECT)\n",
    "\n",
    "# define a run query function\n",
    "def run_query(sql):\n",
    "    query = client.query(sql)\n",
    "    return query.to_dataframe()\n",
    "    "
   ]
  },
  {
   "cell_type": "markdown",
   "metadata": {},
   "source": [
    "### View the data that is available on the datalake by querying the external table."
   ]
  },
  {
   "cell_type": "code",
   "execution_count": 11,
   "metadata": {},
   "outputs": [
    {
     "name": "stdout",
     "output_type": "stream",
     "text": [
      "\n",
      "SELECT CA,UNIT,STATION,LINENAME,DIVISION,DATE,TIME,`DESC`,ENTRIES,EXITS \n",
      "FROM `ozkary-de-101.mta_data.ext_turnstile`  \n",
      "limit 100\n",
      "\n"
     ]
    },
    {
     "data": {
      "text/html": [
       "<div>\n",
       "<style scoped>\n",
       "    .dataframe tbody tr th:only-of-type {\n",
       "        vertical-align: middle;\n",
       "    }\n",
       "\n",
       "    .dataframe tbody tr th {\n",
       "        vertical-align: top;\n",
       "    }\n",
       "\n",
       "    .dataframe thead th {\n",
       "        text-align: right;\n",
       "    }\n",
       "</style>\n",
       "<table border=\"1\" class=\"dataframe\">\n",
       "  <thead>\n",
       "    <tr style=\"text-align: right;\">\n",
       "      <th></th>\n",
       "      <th>CA</th>\n",
       "      <th>UNIT</th>\n",
       "      <th>STATION</th>\n",
       "      <th>LINENAME</th>\n",
       "      <th>DIVISION</th>\n",
       "      <th>DATE</th>\n",
       "      <th>TIME</th>\n",
       "      <th>DESC</th>\n",
       "      <th>ENTRIES</th>\n",
       "      <th>EXITS</th>\n",
       "    </tr>\n",
       "  </thead>\n",
       "  <tbody>\n",
       "    <tr>\n",
       "      <th>0</th>\n",
       "      <td>A002</td>\n",
       "      <td>R051</td>\n",
       "      <td>59 ST</td>\n",
       "      <td>NQR456W</td>\n",
       "      <td>BMT</td>\n",
       "      <td>2023-12-30</td>\n",
       "      <td>03:00:00</td>\n",
       "      <td>REGULAR</td>\n",
       "      <td>102019</td>\n",
       "      <td>73801</td>\n",
       "    </tr>\n",
       "    <tr>\n",
       "      <th>1</th>\n",
       "      <td>A002</td>\n",
       "      <td>R051</td>\n",
       "      <td>59 ST</td>\n",
       "      <td>NQR456W</td>\n",
       "      <td>BMT</td>\n",
       "      <td>2023-12-30</td>\n",
       "      <td>07:00:00</td>\n",
       "      <td>REGULAR</td>\n",
       "      <td>102024</td>\n",
       "      <td>73815</td>\n",
       "    </tr>\n",
       "    <tr>\n",
       "      <th>2</th>\n",
       "      <td>A002</td>\n",
       "      <td>R051</td>\n",
       "      <td>59 ST</td>\n",
       "      <td>NQR456W</td>\n",
       "      <td>BMT</td>\n",
       "      <td>2023-12-30</td>\n",
       "      <td>11:00:00</td>\n",
       "      <td>REGULAR</td>\n",
       "      <td>102060</td>\n",
       "      <td>73838</td>\n",
       "    </tr>\n",
       "    <tr>\n",
       "      <th>3</th>\n",
       "      <td>A002</td>\n",
       "      <td>R051</td>\n",
       "      <td>59 ST</td>\n",
       "      <td>NQR456W</td>\n",
       "      <td>BMT</td>\n",
       "      <td>2023-12-30</td>\n",
       "      <td>15:00:00</td>\n",
       "      <td>REGULAR</td>\n",
       "      <td>102125</td>\n",
       "      <td>73888</td>\n",
       "    </tr>\n",
       "    <tr>\n",
       "      <th>4</th>\n",
       "      <td>A002</td>\n",
       "      <td>R051</td>\n",
       "      <td>59 ST</td>\n",
       "      <td>NQR456W</td>\n",
       "      <td>BMT</td>\n",
       "      <td>2023-12-30</td>\n",
       "      <td>19:00:00</td>\n",
       "      <td>REGULAR</td>\n",
       "      <td>102243</td>\n",
       "      <td>73955</td>\n",
       "    </tr>\n",
       "  </tbody>\n",
       "</table>\n",
       "</div>"
      ],
      "text/plain": [
       "     CA  UNIT STATION LINENAME DIVISION        DATE      TIME     DESC  \\\n",
       "0  A002  R051   59 ST  NQR456W      BMT  2023-12-30  03:00:00  REGULAR   \n",
       "1  A002  R051   59 ST  NQR456W      BMT  2023-12-30  07:00:00  REGULAR   \n",
       "2  A002  R051   59 ST  NQR456W      BMT  2023-12-30  11:00:00  REGULAR   \n",
       "3  A002  R051   59 ST  NQR456W      BMT  2023-12-30  15:00:00  REGULAR   \n",
       "4  A002  R051   59 ST  NQR456W      BMT  2023-12-30  19:00:00  REGULAR   \n",
       "\n",
       "   ENTRIES  EXITS  \n",
       "0   102019  73801  \n",
       "1   102024  73815  \n",
       "2   102060  73838  \n",
       "3   102125  73888  \n",
       "4   102243  73955  "
      ]
     },
     "execution_count": 11,
     "metadata": {},
     "output_type": "execute_result"
    }
   ],
   "source": [
    "# list the records from the external table (from the data lake)\n",
    "sql = \"\"\"\n",
    "SELECT CA,UNIT,STATION,LINENAME,DIVISION,DATE,TIME,`DESC`,ENTRIES,EXITS \n",
    "FROM `{}.{}.ext_turnstile`  \n",
    "limit 100\n",
    "\"\"\".format(PROJECT, DATASET)\n",
    "# query the data using the client reference\n",
    "df = run_query(sql)\n",
    "print(sql)\n",
    "df.head(5)\n"
   ]
  },
  {
   "cell_type": "markdown",
   "metadata": {},
   "source": [
    "### List the database objects"
   ]
  },
  {
   "cell_type": "code",
   "execution_count": 12,
   "metadata": {},
   "outputs": [
    {
     "name": "stdout",
     "output_type": "stream",
     "text": [
      "dim_booth\n",
      "dim_station\n",
      "ext_batch_turnstile\n",
      "ext_streaming_turnstile\n",
      "ext_turnstile\n",
      "fact_stats\n",
      "fact_turnstile\n",
      "remote_booth_station\n",
      "rpt_turnstile\n",
      "stg_booth\n",
      "stg_station\n",
      "stg_turnstile\n"
     ]
    }
   ],
   "source": [
    "# using the bigquery client library read a list of tables \n",
    "tables = list(client.list_tables(dataset_ref))\n",
    "for table in tables:\n",
    "    print(table.table_id)"
   ]
  },
  {
   "cell_type": "code",
   "execution_count": 30,
   "metadata": {},
   "outputs": [
    {
     "name": "stdout",
     "output_type": "stream",
     "text": [
      "dim_booth 801\n",
      "dim_station 586\n",
      "ext_batch_turnstile 0\n",
      "ext_streaming_turnstile 0\n",
      "ext_turnstile 0\n",
      "fact_stats 3\n",
      "fact_turnstile 4035052\n",
      "remote_booth_station 768\n",
      "rpt_turnstile 0\n",
      "stg_booth 0\n",
      "stg_station 0\n",
      "stg_turnstile 0\n"
     ]
    }
   ],
   "source": [
    "# get the tables in the system and for each table get the schema\n",
    "# and print the table name and row count\n",
    "# for table in tables:\n",
    "#     table_ref = dataset_ref.table(table.table_id)\n",
    "#     table = client.get_table(table_ref)\n",
    "#     print(table.schema)\n",
    "\n",
    "# for each table get the row count\n",
    "for table in tables:\n",
    "    table_ref = dataset_ref.table(table.table_id)\n",
    "    table = client.get_table(table_ref)\n",
    "    print(table.table_id, table.num_rows)"
   ]
  },
  {
   "cell_type": "markdown",
   "metadata": {},
   "source": [
    "### Look at the station information\n"
   ]
  },
  {
   "cell_type": "code",
   "execution_count": 14,
   "metadata": {},
   "outputs": [
    {
     "name": "stdout",
     "output_type": "stream",
     "text": [
      "\n",
      "SELECT station_id, station_name\n",
      "FROM `ozkary-de-101.mta_data.dim_station`\n",
      "limit 100\n",
      "\n"
     ]
    },
    {
     "data": {
      "text/html": [
       "<div>\n",
       "<style scoped>\n",
       "    .dataframe tbody tr th:only-of-type {\n",
       "        vertical-align: middle;\n",
       "    }\n",
       "\n",
       "    .dataframe tbody tr th {\n",
       "        vertical-align: top;\n",
       "    }\n",
       "\n",
       "    .dataframe thead th {\n",
       "        text-align: right;\n",
       "    }\n",
       "</style>\n",
       "<table border=\"1\" class=\"dataframe\">\n",
       "  <thead>\n",
       "    <tr style=\"text-align: right;\">\n",
       "      <th></th>\n",
       "      <th>station_id</th>\n",
       "      <th>station_name</th>\n",
       "    </tr>\n",
       "  </thead>\n",
       "  <tbody>\n",
       "    <tr>\n",
       "      <th>0</th>\n",
       "      <td>9440f03bc95426dfed0df95d0768ebd2</td>\n",
       "      <td>BEACH 36 ST</td>\n",
       "    </tr>\n",
       "    <tr>\n",
       "      <th>1</th>\n",
       "      <td>2e022c4b53de34527d1a8eb5ec5f234b</td>\n",
       "      <td>MYRTLE-WILLOUGH</td>\n",
       "    </tr>\n",
       "    <tr>\n",
       "      <th>2</th>\n",
       "      <td>1637671c86de22714149d58244698394</td>\n",
       "      <td>LACKAWANNA</td>\n",
       "    </tr>\n",
       "    <tr>\n",
       "      <th>3</th>\n",
       "      <td>46d6cde2d4010f5a20dd0b3dcd8d86d7</td>\n",
       "      <td>W 4 ST-WASH SQ</td>\n",
       "    </tr>\n",
       "    <tr>\n",
       "      <th>4</th>\n",
       "      <td>821cb20abd9ee7e5a1358100794c0878</td>\n",
       "      <td>CLINTON-WASH AV</td>\n",
       "    </tr>\n",
       "  </tbody>\n",
       "</table>\n",
       "</div>"
      ],
      "text/plain": [
       "                         station_id     station_name\n",
       "0  9440f03bc95426dfed0df95d0768ebd2      BEACH 36 ST\n",
       "1  2e022c4b53de34527d1a8eb5ec5f234b  MYRTLE-WILLOUGH\n",
       "2  1637671c86de22714149d58244698394       LACKAWANNA\n",
       "3  46d6cde2d4010f5a20dd0b3dcd8d86d7   W 4 ST-WASH SQ\n",
       "4  821cb20abd9ee7e5a1358100794c0878  CLINTON-WASH AV"
      ]
     },
     "execution_count": 14,
     "metadata": {},
     "output_type": "execute_result"
    }
   ],
   "source": [
    "# read the station information\n",
    "sql = \"\"\"\n",
    "SELECT station_id, station_name\n",
    "FROM `{}.{}.dim_station`\n",
    "limit 100\n",
    "\"\"\".format(PROJECT, DATASET)\n",
    "# query the data using the client reference\n",
    "df = run_query(sql)\n",
    "print(sql)\n",
    "df.head()"
   ]
  },
  {
   "cell_type": "code",
   "execution_count": 23,
   "metadata": {},
   "outputs": [
    {
     "name": "stdout",
     "output_type": "stream",
     "text": [
      "\n",
      "SELECT max(created_dt) as max_date\n",
      "FROM `ozkary-de-101.mta_data.fact_turnstile`\n",
      "\n"
     ]
    },
    {
     "data": {
      "text/html": [
       "<div>\n",
       "<style scoped>\n",
       "    .dataframe tbody tr th:only-of-type {\n",
       "        vertical-align: middle;\n",
       "    }\n",
       "\n",
       "    .dataframe tbody tr th {\n",
       "        vertical-align: top;\n",
       "    }\n",
       "\n",
       "    .dataframe thead th {\n",
       "        text-align: right;\n",
       "    }\n",
       "</style>\n",
       "<table border=\"1\" class=\"dataframe\">\n",
       "  <thead>\n",
       "    <tr style=\"text-align: right;\">\n",
       "      <th></th>\n",
       "      <th>max_date</th>\n",
       "    </tr>\n",
       "  </thead>\n",
       "  <tbody>\n",
       "    <tr>\n",
       "      <th>0</th>\n",
       "      <td>2024-02-16 23:59:54+00:00</td>\n",
       "    </tr>\n",
       "  </tbody>\n",
       "</table>\n",
       "</div>"
      ],
      "text/plain": [
       "                   max_date\n",
       "0 2024-02-16 23:59:54+00:00"
      ]
     },
     "execution_count": 23,
     "metadata": {},
     "output_type": "execute_result"
    }
   ],
   "source": [
    "# use sql to query the latest date in the fact_turnstile table and print the result using the client reference\n",
    "sql = \"\"\"\n",
    "SELECT max(created_dt) as max_date\n",
    "FROM `{}.{}.fact_turnstile`\n",
    "\"\"\".format(PROJECT, DATASET)\n",
    "# query the data using the client reference\n",
    "df = run_query(sql)\n",
    "print(sql)\n",
    "df.head()"
   ]
  },
  {
   "cell_type": "code",
   "execution_count": 26,
   "metadata": {},
   "outputs": [
    {
     "name": "stdout",
     "output_type": "stream",
     "text": [
      "\n",
      "SELECT *\n",
      "FROM `ozkary-de-101.mta_data.fact_turnstile`\n",
      "WHERE created_dt >= '2024-02-02'\n",
      "LIMIT 100\n",
      "\n"
     ]
    },
    {
     "data": {
      "text/html": [
       "<div>\n",
       "<style scoped>\n",
       "    .dataframe tbody tr th:only-of-type {\n",
       "        vertical-align: middle;\n",
       "    }\n",
       "\n",
       "    .dataframe tbody tr th {\n",
       "        vertical-align: top;\n",
       "    }\n",
       "\n",
       "    .dataframe thead th {\n",
       "        text-align: right;\n",
       "    }\n",
       "</style>\n",
       "<table border=\"1\" class=\"dataframe\">\n",
       "  <thead>\n",
       "    <tr style=\"text-align: right;\">\n",
       "      <th></th>\n",
       "      <th>log_id</th>\n",
       "      <th>station_id</th>\n",
       "      <th>booth_id</th>\n",
       "      <th>scp</th>\n",
       "      <th>line_name</th>\n",
       "      <th>division</th>\n",
       "      <th>created_dt</th>\n",
       "      <th>entries</th>\n",
       "      <th>exits</th>\n",
       "    </tr>\n",
       "  </thead>\n",
       "  <tbody>\n",
       "    <tr>\n",
       "      <th>0</th>\n",
       "      <td>6de3079f7d0d456457f7957120d66803</td>\n",
       "      <td>fdff6c9ba684c003cb99e285863b222e</td>\n",
       "      <td>54c7c0128a105bfb8a3bcc68bc76fd5e</td>\n",
       "      <td>00-00-00</td>\n",
       "      <td>N</td>\n",
       "      <td>BMT</td>\n",
       "      <td>2024-02-16 16:00:00+00:00</td>\n",
       "      <td>888197</td>\n",
       "      <td>937138</td>\n",
       "    </tr>\n",
       "    <tr>\n",
       "      <th>1</th>\n",
       "      <td>4729d07af13a94339a602adb859de41c</td>\n",
       "      <td>fdff6c9ba684c003cb99e285863b222e</td>\n",
       "      <td>54c7c0128a105bfb8a3bcc68bc76fd5e</td>\n",
       "      <td>00-00-00</td>\n",
       "      <td>N</td>\n",
       "      <td>BMT</td>\n",
       "      <td>2024-02-16 12:00:00+00:00</td>\n",
       "      <td>888197</td>\n",
       "      <td>936989</td>\n",
       "    </tr>\n",
       "    <tr>\n",
       "      <th>2</th>\n",
       "      <td>3ec67e6ba1f2e09a38746fa36372f5ed</td>\n",
       "      <td>fdff6c9ba684c003cb99e285863b222e</td>\n",
       "      <td>54c7c0128a105bfb8a3bcc68bc76fd5e</td>\n",
       "      <td>00-00-00</td>\n",
       "      <td>N</td>\n",
       "      <td>BMT</td>\n",
       "      <td>2024-02-16 08:00:00+00:00</td>\n",
       "      <td>888197</td>\n",
       "      <td>936617</td>\n",
       "    </tr>\n",
       "    <tr>\n",
       "      <th>3</th>\n",
       "      <td>e1b459696480866a41b79bc37da3e2a3</td>\n",
       "      <td>fdff6c9ba684c003cb99e285863b222e</td>\n",
       "      <td>54c7c0128a105bfb8a3bcc68bc76fd5e</td>\n",
       "      <td>00-00-00</td>\n",
       "      <td>N</td>\n",
       "      <td>BMT</td>\n",
       "      <td>2024-02-16 04:00:00+00:00</td>\n",
       "      <td>888197</td>\n",
       "      <td>936363</td>\n",
       "    </tr>\n",
       "    <tr>\n",
       "      <th>4</th>\n",
       "      <td>224f7c246e87ed02d885be5922168ffd</td>\n",
       "      <td>fdff6c9ba684c003cb99e285863b222e</td>\n",
       "      <td>54c7c0128a105bfb8a3bcc68bc76fd5e</td>\n",
       "      <td>00-00-00</td>\n",
       "      <td>N</td>\n",
       "      <td>BMT</td>\n",
       "      <td>2024-02-16 20:00:00+00:00</td>\n",
       "      <td>888197</td>\n",
       "      <td>937406</td>\n",
       "    </tr>\n",
       "  </tbody>\n",
       "</table>\n",
       "</div>"
      ],
      "text/plain": [
       "                             log_id                        station_id  \\\n",
       "0  6de3079f7d0d456457f7957120d66803  fdff6c9ba684c003cb99e285863b222e   \n",
       "1  4729d07af13a94339a602adb859de41c  fdff6c9ba684c003cb99e285863b222e   \n",
       "2  3ec67e6ba1f2e09a38746fa36372f5ed  fdff6c9ba684c003cb99e285863b222e   \n",
       "3  e1b459696480866a41b79bc37da3e2a3  fdff6c9ba684c003cb99e285863b222e   \n",
       "4  224f7c246e87ed02d885be5922168ffd  fdff6c9ba684c003cb99e285863b222e   \n",
       "\n",
       "                           booth_id       scp line_name division  \\\n",
       "0  54c7c0128a105bfb8a3bcc68bc76fd5e  00-00-00         N      BMT   \n",
       "1  54c7c0128a105bfb8a3bcc68bc76fd5e  00-00-00         N      BMT   \n",
       "2  54c7c0128a105bfb8a3bcc68bc76fd5e  00-00-00         N      BMT   \n",
       "3  54c7c0128a105bfb8a3bcc68bc76fd5e  00-00-00         N      BMT   \n",
       "4  54c7c0128a105bfb8a3bcc68bc76fd5e  00-00-00         N      BMT   \n",
       "\n",
       "                 created_dt  entries   exits  \n",
       "0 2024-02-16 16:00:00+00:00   888197  937138  \n",
       "1 2024-02-16 12:00:00+00:00   888197  936989  \n",
       "2 2024-02-16 08:00:00+00:00   888197  936617  \n",
       "3 2024-02-16 04:00:00+00:00   888197  936363  \n",
       "4 2024-02-16 20:00:00+00:00   888197  937406  "
      ]
     },
     "execution_count": 26,
     "metadata": {},
     "output_type": "execute_result"
    }
   ],
   "source": [
    "# read records from n days ago\n",
    "from datetime import datetime, timedelta\n",
    "\n",
    "# set a variable to the current date - n days\n",
    "last_month = datetime.today() - timedelta(days=90)\n",
    "date_value = last_month.strftime('%Y-%m-%d')\n",
    "\n",
    "# select a limit of 100 rows with the latest date\n",
    "sql = \"\"\"\n",
    "SELECT *\n",
    "FROM `{}.{}.fact_turnstile`\n",
    "WHERE created_dt >= '{}'\n",
    "LIMIT 100\n",
    "\"\"\".format(PROJECT, DATASET, date_value)    \n",
    "print(sql)\n",
    "df = run_query(sql)\n",
    "df.head()"
   ]
  },
  {
   "cell_type": "code",
   "execution_count": 20,
   "metadata": {},
   "outputs": [],
   "source": [
    "# print the dataframe in a grid format\n",
    "def print_df(df):\n",
    "    from IPython.display import display, HTML\n",
    "    display(HTML(df.head().to_html()))"
   ]
  },
  {
   "cell_type": "code",
   "execution_count": 27,
   "metadata": {},
   "outputs": [
    {
     "data": {
      "text/html": [
       "<table border=\"1\" class=\"dataframe\">\n",
       "  <thead>\n",
       "    <tr style=\"text-align: right;\">\n",
       "      <th></th>\n",
       "      <th>log_id</th>\n",
       "      <th>station_id</th>\n",
       "      <th>booth_id</th>\n",
       "      <th>scp</th>\n",
       "      <th>line_name</th>\n",
       "      <th>division</th>\n",
       "      <th>created_dt</th>\n",
       "      <th>entries</th>\n",
       "      <th>exits</th>\n",
       "    </tr>\n",
       "  </thead>\n",
       "  <tbody>\n",
       "    <tr>\n",
       "      <th>0</th>\n",
       "      <td>6de3079f7d0d456457f7957120d66803</td>\n",
       "      <td>fdff6c9ba684c003cb99e285863b222e</td>\n",
       "      <td>54c7c0128a105bfb8a3bcc68bc76fd5e</td>\n",
       "      <td>00-00-00</td>\n",
       "      <td>N</td>\n",
       "      <td>BMT</td>\n",
       "      <td>2024-02-16 16:00:00+00:00</td>\n",
       "      <td>888197</td>\n",
       "      <td>937138</td>\n",
       "    </tr>\n",
       "    <tr>\n",
       "      <th>1</th>\n",
       "      <td>4729d07af13a94339a602adb859de41c</td>\n",
       "      <td>fdff6c9ba684c003cb99e285863b222e</td>\n",
       "      <td>54c7c0128a105bfb8a3bcc68bc76fd5e</td>\n",
       "      <td>00-00-00</td>\n",
       "      <td>N</td>\n",
       "      <td>BMT</td>\n",
       "      <td>2024-02-16 12:00:00+00:00</td>\n",
       "      <td>888197</td>\n",
       "      <td>936989</td>\n",
       "    </tr>\n",
       "    <tr>\n",
       "      <th>2</th>\n",
       "      <td>3ec67e6ba1f2e09a38746fa36372f5ed</td>\n",
       "      <td>fdff6c9ba684c003cb99e285863b222e</td>\n",
       "      <td>54c7c0128a105bfb8a3bcc68bc76fd5e</td>\n",
       "      <td>00-00-00</td>\n",
       "      <td>N</td>\n",
       "      <td>BMT</td>\n",
       "      <td>2024-02-16 08:00:00+00:00</td>\n",
       "      <td>888197</td>\n",
       "      <td>936617</td>\n",
       "    </tr>\n",
       "    <tr>\n",
       "      <th>3</th>\n",
       "      <td>e1b459696480866a41b79bc37da3e2a3</td>\n",
       "      <td>fdff6c9ba684c003cb99e285863b222e</td>\n",
       "      <td>54c7c0128a105bfb8a3bcc68bc76fd5e</td>\n",
       "      <td>00-00-00</td>\n",
       "      <td>N</td>\n",
       "      <td>BMT</td>\n",
       "      <td>2024-02-16 04:00:00+00:00</td>\n",
       "      <td>888197</td>\n",
       "      <td>936363</td>\n",
       "    </tr>\n",
       "    <tr>\n",
       "      <th>4</th>\n",
       "      <td>224f7c246e87ed02d885be5922168ffd</td>\n",
       "      <td>fdff6c9ba684c003cb99e285863b222e</td>\n",
       "      <td>54c7c0128a105bfb8a3bcc68bc76fd5e</td>\n",
       "      <td>00-00-00</td>\n",
       "      <td>N</td>\n",
       "      <td>BMT</td>\n",
       "      <td>2024-02-16 20:00:00+00:00</td>\n",
       "      <td>888197</td>\n",
       "      <td>937406</td>\n",
       "    </tr>\n",
       "  </tbody>\n",
       "</table>"
      ],
      "text/plain": [
       "<IPython.core.display.HTML object>"
      ]
     },
     "metadata": {},
     "output_type": "display_data"
    }
   ],
   "source": [
    "print_df(df)"
   ]
  },
  {
   "cell_type": "code",
   "execution_count": 28,
   "metadata": {},
   "outputs": [
    {
     "name": "stdout",
     "output_type": "stream",
     "text": [
      "\n",
      "SELECT station_name, booth_name, created_dt, entries, exits\n",
      "FROM `ozkary-de-101.mta_data.fact_turnstile` as f\n",
      "JOIN `ozkary-de-101.mta_data.dim_station` as s\n",
      "ON f.station_id = s.station_id\n",
      "JOIN `ozkary-de-101.mta_data.dim_booth` as b\n",
      "ON f.booth_id = b.booth_id\n",
      "WHERE created_dt >= '2024-02-02'\n",
      "LIMIT 1000\n",
      "\n"
     ]
    },
    {
     "data": {
      "text/html": [
       "<table border=\"1\" class=\"dataframe\">\n",
       "  <thead>\n",
       "    <tr style=\"text-align: right;\">\n",
       "      <th></th>\n",
       "      <th>station_name</th>\n",
       "      <th>booth_name</th>\n",
       "      <th>created_dt</th>\n",
       "      <th>entries</th>\n",
       "      <th>exits</th>\n",
       "    </tr>\n",
       "  </thead>\n",
       "  <tbody>\n",
       "    <tr>\n",
       "      <th>0</th>\n",
       "      <td>25 AV</td>\n",
       "      <td>E015</td>\n",
       "      <td>2024-02-02 20:00:00+00:00</td>\n",
       "      <td>4649456</td>\n",
       "      <td>1037964</td>\n",
       "    </tr>\n",
       "    <tr>\n",
       "      <th>1</th>\n",
       "      <td>25 AV</td>\n",
       "      <td>E015</td>\n",
       "      <td>2024-02-02 00:00:00+00:00</td>\n",
       "      <td>4648778</td>\n",
       "      <td>1037731</td>\n",
       "    </tr>\n",
       "    <tr>\n",
       "      <th>2</th>\n",
       "      <td>25 AV</td>\n",
       "      <td>E015</td>\n",
       "      <td>2024-02-02 12:00:00+00:00</td>\n",
       "      <td>4649244</td>\n",
       "      <td>1037805</td>\n",
       "    </tr>\n",
       "    <tr>\n",
       "      <th>3</th>\n",
       "      <td>25 AV</td>\n",
       "      <td>E015</td>\n",
       "      <td>2024-02-02 04:00:00+00:00</td>\n",
       "      <td>4648783</td>\n",
       "      <td>1037736</td>\n",
       "    </tr>\n",
       "    <tr>\n",
       "      <th>4</th>\n",
       "      <td>25 AV</td>\n",
       "      <td>E015</td>\n",
       "      <td>2024-02-02 08:00:00+00:00</td>\n",
       "      <td>4649057</td>\n",
       "      <td>1037755</td>\n",
       "    </tr>\n",
       "  </tbody>\n",
       "</table>"
      ],
      "text/plain": [
       "<IPython.core.display.HTML object>"
      ]
     },
     "metadata": {},
     "output_type": "display_data"
    }
   ],
   "source": [
    "# join the fact_turnstile table with the dim_station table and dim_booth table for the last three months\n",
    "\n",
    "sql = \"\"\"\n",
    "SELECT station_name, booth_name, created_dt, entries, exits\n",
    "FROM `{}.{}.fact_turnstile` as f\n",
    "JOIN `{}.{}.dim_station` as s\n",
    "ON f.station_id = s.station_id\n",
    "JOIN `{}.{}.dim_booth` as b\n",
    "ON f.booth_id = b.booth_id\n",
    "WHERE created_dt >= '{}'\n",
    "LIMIT 1000\n",
    "\"\"\".format(PROJECT, DATASET, PROJECT, DATASET, PROJECT, DATASET, date_value)\n",
    "df_station = run_query(sql)\n",
    "print(sql)\n",
    "print_df(df_station)\n",
    "\n"
   ]
  },
  {
   "cell_type": "markdown",
   "metadata": {},
   "source": [
    "## Get the top n stations with the most entries using the df_station dataframe"
   ]
  },
  {
   "cell_type": "code",
   "execution_count": 29,
   "metadata": {},
   "outputs": [
    {
     "data": {
      "image/png": "[encoded data removed]",
      "text/plain": [
       "<Figure size 1000x500 with 1 Axes>"
      ]
     },
     "metadata": {},
     "output_type": "display_data"
    }
   ],
   "source": [
    "\n",
    "# get the top n stations with the most entries using the df_station dataframe\n",
    "df_top_entries = df_station.groupby('station_name')['entries'].sum().reset_index().sort_values(by='entries', ascending=False).head(5)\n",
    "\n",
    "# create a pie chart using the df_top_entries dataframe \n",
    "import matplotlib.pyplot as plt\n",
    "\n",
    "# set the size of the pie chart\n",
    "plt.figure(figsize=(10,5))\n",
    "\n",
    "plt.pie(df_top_entries['entries'], labels=df_top_entries['station_name'], autopct='%1.1f%%')\n",
    "plt.axis('equal')\n",
    "\n",
    "# add a donut hole to the pie chart\n",
    "my_circle=plt.Circle( (0,0), 0.35, color='white')\n",
    "p=plt.gcf()\n",
    "p.gca().add_artist(my_circle)\n",
    "\n",
    "\n",
    "# add a title and legend to the pie chart\n",
    "plt.title('Top 5 Stations by Entries')\n",
    "plt.legend(df_top_entries['station_name'], loc='upper right')\n",
    "\n",
    "plt.show()\n",
    "\n"
   ]
  }
 ],
 "metadata": {
  "kernelspec": {
   "display_name": "Python 3",
   "language": "python",
   "name": "python3"
  },
  "language_info": {
   "codemirror_mode": {
    "name": "ipython",
    "version": 3
   },
   "file_extension": ".py",
   "mimetype": "text/x-python",
   "name": "python",
   "nbconvert_exporter": "python",
   "pygments_lexer": "ipython3",
   "version": "3.8.10"
  }
 },
 "nbformat": 4,
 "nbformat_minor": 2
}
