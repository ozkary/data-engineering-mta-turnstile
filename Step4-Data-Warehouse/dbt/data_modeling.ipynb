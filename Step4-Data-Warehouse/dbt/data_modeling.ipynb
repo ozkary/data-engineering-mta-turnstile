{
 "cells": [
  {
   "cell_type": "markdown",
   "metadata": {},
   "source": [
    "## Data Modeling\n",
    "\n",
    "Use this notebook to run the dbt commands to build, test and publish the data warehouse models\n",
    "\n",
    "### What is dbt?\n",
    "\n",
    "dbt (data build tool) is tool that simplifies data transformation within your data warehouse, allowing you to build, test, and document data models using SQL.  It ensures data quality and consistency through a modular approach and facilitates collaboration between data engineers and analysts.\n",
    "\n",
    "![Data modeling lineage](../../images/ozkary-data-engineering-process-data-warehouse-lineage.png)\n"
   ]
  },
  {
   "cell_type": "code",
   "execution_count": 3,
   "metadata": {},
   "outputs": [
    {
     "name": "stdout",
     "output_type": "stream",
     "text": [
      "\u001b[0m02:30:27  Running with dbt=1.8.2\n",
      "\u001b[0m02:30:28  Updating lock file in file path: /home/ozkary/workspace/de-mta/Step4-Data-Warehouse/dbt/package-lock.yml\n",
      "\u001b[0m02:30:28  Installing dbt-labs/dbt_utils\n",
      "\u001b[0m02:30:29  Installed from version 1.0.0\n",
      "\u001b[0m02:30:29  Updated version available: 1.3.1\n",
      "\u001b[0m02:30:29  \n",
      "\u001b[0m02:30:29  Updates available for packages: ['dbt-labs/dbt_utils']                 \n",
      "Update your versions in packages.yml, then run dbt deps\n"
     ]
    }
   ],
   "source": [
    "# Make sure the dependencies are in the version you need\n",
    "!dbt deps"
   ]
  },
  {
   "cell_type": "markdown",
   "metadata": {},
   "source": [
    "- Builds and tests the model and uses variables to allow for the full dataset to be created (false allows for the entire dataset to be materialized)\n",
    "\n",
    "```bash\n",
    "$ dbt build --select stg_station --var 'is_test_run: false'\n",
    "$ dbt build --select dim_station \n",
    "```  \n",
    "\n",
    "> 👉 **stg_station** to build the view, **dim_station** to build the table\n",
    "\n",
    "**Understanding --model vs. --select**\n",
    "- --model: Specifies a single model to run.\n",
    "- --select: Specifies a pattern to match multiple models."
   ]
  },
  {
   "cell_type": "code",
   "execution_count": 5,
   "metadata": {},
   "outputs": [
    {
     "name": "stdout",
     "output_type": "stream",
     "text": [
      "\u001b[0m02:36:33  Running with dbt=1.8.2\n",
      "An error occurred: module 'importlib.metadata' has no attribute 'packages_distributions'\n",
      "\u001b[0m02:36:35  Registered adapter: bigquery=1.8.2\n",
      "\u001b[0m02:36:35  Unable to do partial parsing because of a version mismatch\n",
      "\u001b[0m02:36:37  [\u001b[33mWARNING\u001b[0m]: Deprecated functionality\n",
      "The `tests` config has been renamed to `data_tests`. Please see\n",
      "https://docs.getdbt.com/docs/build/data-tests#new-data_tests-syntax for more\n",
      "information.\n",
      "\u001b[0m02:36:38  Found 10 models, 1 seed, 30 data tests, 1 source, 596 macros\n",
      "\u001b[0m02:36:38  \n",
      "\u001b[0m02:36:40  Concurrency: 2 threads (target='dev')\n",
      "\u001b[0m02:36:40  \n",
      "\u001b[0m02:36:40  1 of 1 START sql incremental model mta_data.dim_station ........................ [RUN]\n",
      "\u001b[0m02:36:44  1 of 1 OK created sql incremental model mta_data.dim_station ................... [\u001b[32mMERGE (0.0 rows, 85.6 MiB processed)\u001b[0m in 4.35s]\n",
      "\u001b[0m02:36:44  \n",
      "\u001b[0m02:36:44  Finished running 1 incremental model in 0 hours 0 minutes and 5.96 seconds (5.96s).\n",
      "\u001b[0m02:36:44  \n",
      "\u001b[0m02:36:44  \u001b[32mCompleted successfully\u001b[0m\n",
      "\u001b[0m02:36:44  \n",
      "\u001b[0m02:36:44  Done. PASS=1 WARN=0 ERROR=0 SKIP=0 TOTAL=1\n"
     ]
    }
   ],
   "source": [
    "!dbt run --select dim_station.sql"
   ]
  },
  {
   "cell_type": "markdown",
   "metadata": {},
   "source": [
    "- Materialized the data for dim_booth"
   ]
  },
  {
   "cell_type": "code",
   "execution_count": 6,
   "metadata": {},
   "outputs": [
    {
     "name": "stdout",
     "output_type": "stream",
     "text": [
      "\u001b[0m02:36:58  Running with dbt=1.8.2\n",
      "An error occurred: module 'importlib.metadata' has no attribute 'packages_distributions'\n",
      "\u001b[0m02:37:00  Registered adapter: bigquery=1.8.2\n",
      "\u001b[0m02:37:00  Found 10 models, 1 seed, 30 data tests, 1 source, 596 macros\n",
      "\u001b[0m02:37:00  \n",
      "\u001b[0m02:37:02  Concurrency: 2 threads (target='dev')\n",
      "\u001b[0m02:37:02  \n",
      "\u001b[0m02:37:02  1 of 1 START sql incremental model mta_data.dim_booth .......................... [RUN]\n",
      "\u001b[0m02:37:07  1 of 1 OK created sql incremental model mta_data.dim_booth ..................... [\u001b[32mMERGE (0.0 rows, 85.7 MiB processed)\u001b[0m in 4.59s]\n",
      "\u001b[0m02:37:07  \n",
      "\u001b[0m02:37:07  Finished running 1 incremental model in 0 hours 0 minutes and 6.15 seconds (6.15s).\n",
      "\u001b[0m02:37:07  \n",
      "\u001b[0m02:37:07  \u001b[32mCompleted successfully\u001b[0m\n",
      "\u001b[0m02:37:07  \n",
      "\u001b[0m02:37:07  Done. PASS=1 WARN=0 ERROR=0 SKIP=0 TOTAL=1\n"
     ]
    }
   ],
   "source": [
    "!dbt run --select dim_booth.sql"
   ]
  },
  {
   "cell_type": "markdown",
   "metadata": {},
   "source": [
    "- Run all the tests in the project"
   ]
  },
  {
   "cell_type": "code",
   "execution_count": 7,
   "metadata": {},
   "outputs": [
    {
     "name": "stdout",
     "output_type": "stream",
     "text": [
      "\u001b[0m02:37:16  Running with dbt=1.8.2\n",
      "An error occurred: module 'importlib.metadata' has no attribute 'packages_distributions'\n",
      "\u001b[0m02:37:18  Registered adapter: bigquery=1.8.2\n",
      "\u001b[0m02:37:18  Found 10 models, 1 seed, 30 data tests, 1 source, 596 macros\n",
      "\u001b[0m02:37:18  \n",
      "\u001b[0m02:37:19  Concurrency: 2 threads (target='dev')\n",
      "\u001b[0m02:37:19  \n",
      "\u001b[0m02:37:19  1 of 30 START test not_null_dim_booth_booth_id ................................. [RUN]\n",
      "\u001b[0m02:37:19  2 of 30 START test not_null_dim_booth_booth_name ............................... [RUN]\n",
      "\u001b[0m02:37:20  2 of 30 PASS not_null_dim_booth_booth_name ..................................... [\u001b[32mPASS\u001b[0m in 1.48s]\n",
      "\u001b[0m02:37:20  3 of 30 START test not_null_dim_booth_remote ................................... [RUN]\n",
      "\u001b[0m02:37:20  1 of 30 PASS not_null_dim_booth_booth_id ....................................... [\u001b[32mPASS\u001b[0m in 1.58s]\n",
      "\u001b[0m02:37:20  4 of 30 START test not_null_dim_date_date_id ................................... [RUN]\n",
      "\u001b[0m02:37:23  3 of 30 PASS not_null_dim_booth_remote ......................................... [\u001b[32mPASS\u001b[0m in 2.19s]\n",
      "\u001b[0m02:37:23  5 of 30 START test not_null_dim_date_day ....................................... [RUN]\n",
      "\u001b[0m02:37:23  4 of 30 PASS not_null_dim_date_date_id ......................................... [\u001b[32mPASS\u001b[0m in 2.23s]\n",
      "\u001b[0m02:37:23  6 of 30 START test not_null_dim_date_day_of_week ............................... [RUN]\n",
      "\u001b[0m02:37:24  6 of 30 PASS not_null_dim_date_day_of_week ..................................... [\u001b[32mPASS\u001b[0m in 1.17s]\n",
      "\u001b[0m02:37:24  7 of 30 START test not_null_dim_date_full_date ................................. [RUN]\n",
      "\u001b[0m02:37:24  5 of 30 PASS not_null_dim_date_day ............................................. [\u001b[32mPASS\u001b[0m in 1.38s]\n",
      "\u001b[0m02:37:24  8 of 30 START test not_null_dim_date_is_weekend ................................ [RUN]\n",
      "\u001b[0m02:37:25  7 of 30 PASS not_null_dim_date_full_date ....................................... [\u001b[32mPASS\u001b[0m in 1.32s]\n",
      "\u001b[0m02:37:25  9 of 30 START test not_null_dim_date_month ..................................... [RUN]\n",
      "\u001b[0m02:37:25  8 of 30 PASS not_null_dim_date_is_weekend ...................................... [\u001b[32mPASS\u001b[0m in 1.43s]\n",
      "\u001b[0m02:37:25  10 of 30 START test not_null_dim_date_quarter .................................. [RUN]\n",
      "\u001b[0m02:37:27  9 of 30 PASS not_null_dim_date_month ........................................... [\u001b[32mPASS\u001b[0m in 1.63s]\n",
      "\u001b[0m02:37:27  11 of 30 START test not_null_dim_date_year ..................................... [RUN]\n",
      "\u001b[0m02:37:27  10 of 30 PASS not_null_dim_date_quarter ........................................ [\u001b[32mPASS\u001b[0m in 1.52s]\n",
      "\u001b[0m02:37:27  12 of 30 START test not_null_dim_station_station_id ............................ [RUN]\n",
      "\u001b[0m02:37:28  11 of 30 PASS not_null_dim_date_year ........................................... [\u001b[32mPASS\u001b[0m in 1.42s]\n",
      "\u001b[0m02:37:28  13 of 30 START test not_null_dim_station_station_name .......................... [RUN]\n",
      "\u001b[0m02:37:28  12 of 30 PASS not_null_dim_station_station_id .................................. [\u001b[32mPASS\u001b[0m in 1.43s]\n",
      "\u001b[0m02:37:28  14 of 30 START test not_null_fact_turnstile_created_dt ......................... [RUN]\n",
      "\u001b[0m02:37:29  13 of 30 PASS not_null_dim_station_station_name ................................ [\u001b[32mPASS\u001b[0m in 1.21s]\n",
      "\u001b[0m02:37:29  15 of 30 START test not_null_fact_turnstile_entries ............................ [RUN]\n",
      "\u001b[0m02:37:30  14 of 30 PASS not_null_fact_turnstile_created_dt ............................... [\u001b[32mPASS\u001b[0m in 1.24s]\n",
      "\u001b[0m02:37:30  16 of 30 START test not_null_fact_turnstile_exits .............................. [RUN]\n",
      "\u001b[0m02:37:31  16 of 30 PASS not_null_fact_turnstile_exits .................................... [\u001b[32mPASS\u001b[0m in 1.58s]\n",
      "\u001b[0m02:37:31  17 of 30 START test not_null_fact_turnstile_log_id ............................. [RUN]\n",
      "\u001b[0m02:37:31  15 of 30 PASS not_null_fact_turnstile_entries .................................. [\u001b[32mPASS\u001b[0m in 1.77s]\n",
      "\u001b[0m02:37:31  18 of 30 START test not_null_stg_booth_booth_id ................................ [RUN]\n",
      "\u001b[0m02:37:33  17 of 30 PASS not_null_fact_turnstile_log_id ................................... [\u001b[32mPASS\u001b[0m in 1.76s]\n",
      "\u001b[0m02:37:33  19 of 30 START test not_null_stg_station_station_id ............................ [RUN]\n",
      "\u001b[0m02:37:35  18 of 30 PASS not_null_stg_booth_booth_id ...................................... [\u001b[32mPASS\u001b[0m in 3.59s]\n",
      "\u001b[0m02:37:35  20 of 30 START test not_null_stg_turnstile_log_id .............................. [RUN]\n",
      "\u001b[0m02:37:36  19 of 30 PASS not_null_stg_station_station_id .................................. [\u001b[32mPASS\u001b[0m in 2.85s]\n",
      "\u001b[0m02:37:36  21 of 30 START test relationships_dim_booth_station_id__station_id__ref_dim_station_  [RUN]\n",
      "\u001b[0m02:37:37  21 of 30 PASS relationships_dim_booth_station_id__station_id__ref_dim_station_ . [\u001b[32mPASS\u001b[0m in 1.59s]\n",
      "\u001b[0m02:37:37  22 of 30 START test relationships_fact_turnstile_booth_id__booth_id__ref_dim_booth_  [RUN]\n",
      "\u001b[0m02:37:38  20 of 30 PASS not_null_stg_turnstile_log_id .................................... [\u001b[32mPASS\u001b[0m in 3.51s]\n",
      "\u001b[0m02:37:38  23 of 30 START test relationships_fact_turnstile_station_id__station_id__ref_dim_station_  [RUN]\n",
      "\u001b[0m02:37:39  22 of 30 PASS relationships_fact_turnstile_booth_id__booth_id__ref_dim_booth_ .. [\u001b[32mPASS\u001b[0m in 1.80s]\n",
      "\u001b[0m02:37:39  24 of 30 START test unique_dim_booth_booth_id .................................. [RUN]\n",
      "\u001b[0m02:37:40  23 of 30 PASS relationships_fact_turnstile_station_id__station_id__ref_dim_station_  [\u001b[32mPASS\u001b[0m in 1.37s]\n",
      "\u001b[0m02:37:40  25 of 30 START test unique_dim_date_date_id .................................... [RUN]\n",
      "\u001b[0m02:37:41  24 of 30 PASS unique_dim_booth_booth_id ........................................ [\u001b[32mPASS\u001b[0m in 1.85s]\n",
      "\u001b[0m02:37:41  26 of 30 START test unique_dim_station_station_id .............................. [RUN]\n",
      "\u001b[0m02:37:41  25 of 30 PASS unique_dim_date_date_id .......................................... [\u001b[32mPASS\u001b[0m in 1.70s]\n",
      "\u001b[0m02:37:41  27 of 30 START test unique_fact_turnstile_log_id ............................... [RUN]\n",
      "\u001b[0m02:37:43  27 of 30 PASS unique_fact_turnstile_log_id ..................................... [\u001b[32mPASS\u001b[0m in 1.75s]\n",
      "\u001b[0m02:37:43  28 of 30 START test unique_stg_booth_booth_id .................................. [RUN]\n",
      "\u001b[0m02:37:43  26 of 30 PASS unique_dim_station_station_id .................................... [\u001b[32mPASS\u001b[0m in 2.21s]\n",
      "\u001b[0m02:37:43  29 of 30 START test unique_stg_station_station_id .............................. [RUN]\n",
      "\u001b[0m02:37:46  29 of 30 PASS unique_stg_station_station_id .................................... [\u001b[32mPASS\u001b[0m in 2.68s]\n",
      "\u001b[0m02:37:46  30 of 30 START test unique_stg_turnstile_log_id ................................ [RUN]\n",
      "\u001b[0m02:37:47  28 of 30 PASS unique_stg_booth_booth_id ........................................ [\u001b[32mPASS\u001b[0m in 3.48s]\n",
      "\u001b[0m02:37:49  30 of 30 PASS unique_stg_turnstile_log_id ...................................... [\u001b[32mPASS\u001b[0m in 3.44s]\n",
      "\u001b[0m02:37:49  \n",
      "\u001b[0m02:37:49  Finished running 30 data tests in 0 hours 0 minutes and 31.09 seconds (31.09s).\n",
      "\u001b[0m02:37:49  \n",
      "\u001b[0m02:37:49  \u001b[32mCompleted successfully\u001b[0m\n",
      "\u001b[0m02:37:49  \n",
      "\u001b[0m02:37:49  Done. PASS=30 WARN=0 ERROR=0 SKIP=0 TOTAL=30\n"
     ]
    }
   ],
   "source": [
    "!dbt test"
   ]
  },
  {
   "cell_type": "markdown",
   "metadata": {},
   "source": [
    "- Run all the models using this pattern. \n",
    "  \n",
    "> 👉 The run command materializes the data only. It does not run any test cases\n",
    "\n",
    "```bash\n",
    "$ dbt run --model <model.sql>\n",
    "```"
   ]
  },
  {
   "cell_type": "code",
   "execution_count": 8,
   "metadata": {},
   "outputs": [
    {
     "name": "stdout",
     "output_type": "stream",
     "text": [
      "\u001b[0m02:37:59  Running with dbt=1.8.2\n",
      "An error occurred: module 'importlib.metadata' has no attribute 'packages_distributions'\n",
      "\u001b[0m02:38:00  Registered adapter: bigquery=1.8.2\n",
      "\u001b[0m02:38:01  Found 10 models, 1 seed, 30 data tests, 1 source, 596 macros\n",
      "\u001b[0m02:38:01  \n",
      "\u001b[0m02:38:02  Concurrency: 2 threads (target='dev')\n",
      "\u001b[0m02:38:02  \n",
      "\u001b[0m02:38:02  1 of 1 START sql incremental model mta_data.fact_turnstile ..................... [RUN]\n",
      "\u001b[0m02:38:08  1 of 1 OK created sql incremental model mta_data.fact_turnstile ................ [\u001b[32mMERGE (0.0 rows, 297.6 MiB processed)\u001b[0m in 6.23s]\n",
      "\u001b[0m02:38:08  \n",
      "\u001b[0m02:38:08  Finished running 1 incremental model in 0 hours 0 minutes and 7.52 seconds (7.52s).\n",
      "\u001b[0m02:38:08  \n",
      "\u001b[0m02:38:08  \u001b[32mCompleted successfully\u001b[0m\n",
      "\u001b[0m02:38:08  \n",
      "\u001b[0m02:38:08  Done. PASS=1 WARN=0 ERROR=0 SKIP=0 TOTAL=1\n"
     ]
    }
   ],
   "source": [
    "!dbt run --model fact_turnstile.sql"
   ]
  },
  {
   "cell_type": "markdown",
   "metadata": {},
   "source": [
    "## show the documentation from the CLI\n",
    "> Make sure to run this command in the same folder where the dbt_project.yml file is located\n",
    "\n",
    "```bash\n",
    "cd ./Step4-Data-Warehouse/dbt\n",
    "dbt docs serve\n",
    "```"
   ]
  }
 ],
 "metadata": {
  "kernelspec": {
   "display_name": "de-mta-8Vm7nBsw",
   "language": "python",
   "name": "python3"
  },
  "language_info": {
   "codemirror_mode": {
    "name": "ipython",
    "version": 3
   },
   "file_extension": ".py",
   "mimetype": "text/x-python",
   "name": "python",
   "nbconvert_exporter": "python",
   "pygments_lexer": "ipython3",
   "version": "3.9.5"
  }
 },
 "nbformat": 4,
 "nbformat_minor": 2
}
