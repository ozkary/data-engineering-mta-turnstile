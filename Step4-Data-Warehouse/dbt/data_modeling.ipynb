{
 "cells": [
  {
   "cell_type": "markdown",
   "metadata": {},
   "source": [
    "## Data Modeling\n",
    "\n",
    "Use this notebook to run the dbt commands to build, test and publish the data warehouse models\n",
    "\n",
    "### What is dbt?\n",
    "\n",
    "dbt (data build tool) is tool that simplifies data transformation within your data warehouse, allowing you to build, test, and document data models using SQL.  It ensures data quality and consistency through a modular approach and facilitates collaboration between data engineers and analysts.\n",
    "\n",
    "![Data modeling lineage](../../images/ozkary-data-engineering-process-data-warehouse-lineage.png)\n"
   ]
  },
  {
   "cell_type": "code",
   "execution_count": 1,
   "metadata": {},
   "outputs": [
    {
     "name": "stdout",
     "output_type": "stream",
     "text": [
      "\u001b[0m20:20:04  Running with dbt=1.4.5\n",
      "\u001b[0m20:20:05  Installing dbt-labs/dbt_utils\n",
      "\u001b[0m20:20:06    Installed from version 1.0.0\n",
      "\u001b[0m20:20:06    Updated version available: 1.1.1\n",
      "\u001b[0m20:20:06  \n",
      "\u001b[0m20:20:06  Updates available for packages: ['dbt-labs/dbt_utils']                 \n",
      "Update your versions in packages.yml, then run dbt deps\n"
     ]
    }
   ],
   "source": [
    "# Make sure the dependencies are in the version you need\n",
    "!dbt deps"
   ]
  },
  {
   "cell_type": "markdown",
   "metadata": {},
   "source": [
    "- Builds and tests the model and uses variables to allow for the full dataset to be created (false allows for the entire dataset to be materialized)\n",
    "\n",
    "```bash\n",
    "$ dbt build --select stg_station --var 'is_test_run: false'\n",
    "$ dbt build --select dim_station \n",
    "```  \n",
    "\n",
    "> 👉 **stg_station** to build the view, **dim_station** to build the table"
   ]
  },
  {
   "cell_type": "code",
   "execution_count": 5,
   "metadata": {},
   "outputs": [
    {
     "name": "stdout",
     "output_type": "stream",
     "text": [
      "\u001b[0m20:55:43  Running with dbt=1.4.5\n",
      "\u001b[0m20:55:43  Found 8 models, 21 tests, 0 snapshots, 0 analyses, 449 macros, 0 operations, 1 seed file, 2 sources, 0 exposures, 0 metrics\n",
      "\u001b[0m20:55:43  \n",
      "\u001b[0m20:55:45  Concurrency: 2 threads (target='dev')\n",
      "\u001b[0m20:55:45  \n",
      "\u001b[0m20:55:45  1 of 6 START sql incremental model mta_data.dim_station ........................ [RUN]\n",
      "\u001b[0m20:55:50  1 of 6 OK created sql incremental model mta_data.dim_station ................... [\u001b[32mMERGE (2.0 rows, 234.7 MB processed)\u001b[0m in 4.68s]\n",
      "\u001b[0m20:55:50  2 of 6 START test not_null_dim_station_station_id .............................. [RUN]\n",
      "\u001b[0m20:55:50  3 of 6 START test not_null_dim_station_station_name ............................ [RUN]\n",
      "\u001b[0m20:55:51  3 of 6 PASS not_null_dim_station_station_name .................................. [\u001b[32mPASS\u001b[0m in 1.31s]\n",
      "\u001b[0m20:55:51  4 of 6 START test unique_dim_station_station_id ................................ [RUN]\n",
      "\u001b[0m20:55:51  2 of 6 PASS not_null_dim_station_station_id .................................... [\u001b[32mPASS\u001b[0m in 1.52s]\n",
      "\u001b[0m20:55:53  4 of 6 PASS unique_dim_station_station_id ...................................... [\u001b[32mPASS\u001b[0m in 1.88s]\n",
      "\u001b[0m20:55:53  5 of 6 START test relationships_dim_booth_station_id__station_id__ref_dim_station_  [RUN]\n",
      "\u001b[0m20:55:54  5 of 6 PASS relationships_dim_booth_station_id__station_id__ref_dim_station_ ... [\u001b[32mPASS\u001b[0m in 1.68s]\n",
      "\u001b[0m20:55:54  6 of 6 START test relationships_fact_turnstile_station_id__station_id__ref_dim_station_  [RUN]\n",
      "\u001b[0m20:55:56  6 of 6 PASS relationships_fact_turnstile_station_id__station_id__ref_dim_station_  [\u001b[32mPASS\u001b[0m in 1.47s]\n",
      "\u001b[0m20:55:56  \n",
      "\u001b[0m20:55:56  Finished running 1 incremental model, 5 tests in 0 hours 0 minutes and 12.56 seconds (12.56s).\n",
      "\u001b[0m20:55:56  \n",
      "\u001b[0m20:55:56  \u001b[32mCompleted successfully\u001b[0m\n",
      "\u001b[0m20:55:56  \n",
      "\u001b[0m20:55:56  Done. PASS=6 WARN=0 ERROR=0 SKIP=0 TOTAL=6\n"
     ]
    }
   ],
   "source": [
    "!dbt build --select dim_station.sql"
   ]
  },
  {
   "cell_type": "markdown",
   "metadata": {},
   "source": [
    "- Materialized the data for dim_booth"
   ]
  },
  {
   "cell_type": "code",
   "execution_count": 9,
   "metadata": {},
   "outputs": [
    {
     "name": "stdout",
     "output_type": "stream",
     "text": [
      "\u001b[0m21:39:09  Running with dbt=1.4.5\n",
      "\u001b[0m21:39:09  Found 8 models, 21 tests, 0 snapshots, 0 analyses, 449 macros, 0 operations, 1 seed file, 2 sources, 0 exposures, 0 metrics\n",
      "\u001b[0m21:39:09  \n",
      "\u001b[0m21:39:10  Concurrency: 2 threads (target='dev')\n",
      "\u001b[0m21:39:10  \n",
      "\u001b[0m21:39:10  1 of 7 START sql incremental model mta_data.dim_booth .......................... [RUN]\n",
      "\u001b[0m21:39:15  1 of 7 OK created sql incremental model mta_data.dim_booth ..................... [\u001b[32mMERGE (0.0 rows, 299.1 MB processed)\u001b[0m in 4.62s]\n",
      "\u001b[0m21:39:15  2 of 7 START test not_null_dim_booth_booth_id .................................. [RUN]\n",
      "\u001b[0m21:39:15  3 of 7 START test not_null_dim_booth_booth_name ................................ [RUN]\n",
      "\u001b[0m21:39:16  3 of 7 PASS not_null_dim_booth_booth_name ...................................... [\u001b[32mPASS\u001b[0m in 1.44s]\n",
      "\u001b[0m21:39:16  4 of 7 START test not_null_dim_booth_remote .................................... [RUN]\n",
      "\u001b[0m21:39:16  2 of 7 PASS not_null_dim_booth_booth_id ........................................ [\u001b[32mPASS\u001b[0m in 1.52s]\n",
      "\u001b[0m21:39:16  5 of 7 START test relationships_dim_booth_station_id__station_id__ref_dim_station_  [RUN]\n",
      "\u001b[0m21:39:18  4 of 7 PASS not_null_dim_booth_remote .......................................... [\u001b[32mPASS\u001b[0m in 1.37s]\n",
      "\u001b[0m21:39:18  6 of 7 START test unique_dim_booth_booth_id .................................... [RUN]\n",
      "\u001b[0m21:39:18  5 of 7 PASS relationships_dim_booth_station_id__station_id__ref_dim_station_ ... [\u001b[32mPASS\u001b[0m in 1.37s]\n",
      "\u001b[0m21:39:20  6 of 7 PASS unique_dim_booth_booth_id .......................................... [\u001b[32mPASS\u001b[0m in 1.75s]\n",
      "\u001b[0m21:39:20  7 of 7 START test relationships_fact_turnstile_booth_id__booth_id__ref_dim_booth_  [RUN]\n",
      "\u001b[0m21:39:21  7 of 7 PASS relationships_fact_turnstile_booth_id__booth_id__ref_dim_booth_ .... [\u001b[32mPASS\u001b[0m in 1.64s]\n",
      "\u001b[0m21:39:21  \n",
      "\u001b[0m21:39:21  Finished running 1 incremental model, 6 tests in 0 hours 0 minutes and 12.12 seconds (12.12s).\n",
      "\u001b[0m21:39:21  \n",
      "\u001b[0m21:39:21  \u001b[32mCompleted successfully\u001b[0m\n",
      "\u001b[0m21:39:21  \n",
      "\u001b[0m21:39:21  Done. PASS=7 WARN=0 ERROR=0 SKIP=0 TOTAL=7\n"
     ]
    }
   ],
   "source": [
    "!dbt build --select dim_booth.sql"
   ]
  },
  {
   "cell_type": "markdown",
   "metadata": {},
   "source": [
    "- Run all the tests in the project"
   ]
  },
  {
   "cell_type": "code",
   "execution_count": 2,
   "metadata": {},
   "outputs": [
    {
     "name": "stdout",
     "output_type": "stream",
     "text": [
      "\u001b[0m20:46:15  Running with dbt=1.4.5\n",
      "\u001b[0m20:46:15  Found 8 models, 21 tests, 0 snapshots, 0 analyses, 449 macros, 0 operations, 1 seed file, 2 sources, 0 exposures, 0 metrics\n",
      "\u001b[0m20:46:15  \n",
      "\u001b[0m20:46:16  Concurrency: 2 threads (target='dev')\n",
      "\u001b[0m20:46:16  \n",
      "\u001b[0m20:46:16  1 of 21 START test not_null_dim_booth_booth_id ................................. [RUN]\n",
      "\u001b[0m20:46:16  2 of 21 START test not_null_dim_booth_booth_name ............................... [RUN]\n",
      "\u001b[0m20:46:17  2 of 21 PASS not_null_dim_booth_booth_name ..................................... [\u001b[32mPASS\u001b[0m in 1.61s]\n",
      "\u001b[0m20:46:17  3 of 21 START test not_null_dim_booth_remote ................................... [RUN]\n",
      "\u001b[0m20:46:18  1 of 21 PASS not_null_dim_booth_booth_id ....................................... [\u001b[32mPASS\u001b[0m in 1.74s]\n",
      "\u001b[0m20:46:18  4 of 21 START test not_null_dim_station_station_id ............................. [RUN]\n",
      "\u001b[0m20:46:19  4 of 21 PASS not_null_dim_station_station_id ................................... [\u001b[32mPASS\u001b[0m in 1.28s]\n",
      "\u001b[0m20:46:19  5 of 21 START test not_null_dim_station_station_name ........................... [RUN]\n",
      "\u001b[0m20:46:19  3 of 21 PASS not_null_dim_booth_remote ......................................... [\u001b[32mPASS\u001b[0m in 1.46s]\n",
      "\u001b[0m20:46:19  6 of 21 START test not_null_fact_turnstile_created_dt .......................... [RUN]\n",
      "\u001b[0m20:46:20  5 of 21 PASS not_null_dim_station_station_name ................................. [\u001b[32mPASS\u001b[0m in 1.31s]\n",
      "\u001b[0m20:46:20  7 of 21 START test not_null_fact_turnstile_entries ............................. [RUN]\n",
      "\u001b[0m20:46:21  6 of 21 PASS not_null_fact_turnstile_created_dt ................................ [\u001b[32mPASS\u001b[0m in 1.59s]\n",
      "\u001b[0m20:46:21  8 of 21 START test not_null_fact_turnstile_exits ............................... [RUN]\n",
      "\u001b[0m20:46:22  7 of 21 PASS not_null_fact_turnstile_entries ................................... [\u001b[32mPASS\u001b[0m in 1.40s]\n",
      "\u001b[0m20:46:22  9 of 21 START test not_null_fact_turnstile_log_id .............................. [RUN]\n",
      "\u001b[0m20:46:22  8 of 21 PASS not_null_fact_turnstile_exits ..................................... [\u001b[32mPASS\u001b[0m in 1.63s]\n",
      "\u001b[0m20:46:22  10 of 21 START test not_null_stg_booth_booth_id ................................ [RUN]\n",
      "\u001b[0m20:46:23  9 of 21 PASS not_null_fact_turnstile_log_id .................................... [\u001b[32mPASS\u001b[0m in 1.24s]\n",
      "\u001b[0m20:46:23  11 of 21 START test not_null_stg_station_station_id ............................ [RUN]\n",
      "\u001b[0m20:46:24  10 of 21 PASS not_null_stg_booth_booth_id ...................................... [\u001b[32mPASS\u001b[0m in 1.59s]\n",
      "\u001b[0m20:46:24  12 of 21 START test not_null_stg_turnstile_log_id .............................. [RUN]\n",
      "\u001b[0m20:46:25  11 of 21 PASS not_null_stg_station_station_id .................................. [\u001b[32mPASS\u001b[0m in 2.29s]\n",
      "\u001b[0m20:46:25  13 of 21 START test relationships_dim_booth_station_id__station_id__ref_dim_station_  [RUN]\n",
      "\u001b[0m20:46:25  12 of 21 PASS not_null_stg_turnstile_log_id .................................... [\u001b[32mPASS\u001b[0m in 1.58s]\n",
      "\u001b[0m20:46:25  14 of 21 START test relationships_fact_turnstile_booth_id__booth_id__ref_dim_booth_  [RUN]\n",
      "\u001b[0m20:46:27  14 of 21 PASS relationships_fact_turnstile_booth_id__booth_id__ref_dim_booth_ .. [\u001b[32mPASS\u001b[0m in 1.21s]\n",
      "\u001b[0m20:46:27  15 of 21 START test relationships_fact_turnstile_station_id__station_id__ref_dim_station_  [RUN]\n",
      "\u001b[0m20:46:27  13 of 21 PASS relationships_dim_booth_station_id__station_id__ref_dim_station_ . [\u001b[32mPASS\u001b[0m in 1.73s]\n",
      "\u001b[0m20:46:27  16 of 21 START test unique_dim_booth_booth_id .................................. [RUN]\n",
      "\u001b[0m20:46:28  15 of 21 PASS relationships_fact_turnstile_station_id__station_id__ref_dim_station_  [\u001b[32mPASS\u001b[0m in 1.30s]\n",
      "\u001b[0m20:46:28  17 of 21 START test unique_dim_station_station_id .............................. [RUN]\n",
      "\u001b[0m20:46:28  16 of 21 PASS unique_dim_booth_booth_id ........................................ [\u001b[32mPASS\u001b[0m in 1.08s]\n",
      "\u001b[0m20:46:28  18 of 21 START test unique_fact_turnstile_log_id ............................... [RUN]\n",
      "\u001b[0m20:46:29  17 of 21 PASS unique_dim_station_station_id .................................... [\u001b[32mPASS\u001b[0m in 1.48s]\n",
      "\u001b[0m20:46:29  19 of 21 START test unique_stg_booth_booth_id .................................. [RUN]\n",
      "\u001b[0m20:46:30  18 of 21 PASS unique_fact_turnstile_log_id ..................................... [\u001b[32mPASS\u001b[0m in 1.54s]\n",
      "\u001b[0m20:46:30  20 of 21 START test unique_stg_station_station_id .............................. [RUN]\n",
      "\u001b[0m20:46:31  19 of 21 PASS unique_stg_booth_booth_id ........................................ [\u001b[32mPASS\u001b[0m in 1.92s]\n",
      "\u001b[0m20:46:31  21 of 21 START test unique_stg_turnstile_log_id ................................ [RUN]\n",
      "\u001b[0m20:46:32  20 of 21 PASS unique_stg_station_station_id .................................... [\u001b[32mPASS\u001b[0m in 2.20s]\n",
      "\u001b[0m20:46:33  21 of 21 PASS unique_stg_turnstile_log_id ...................................... [\u001b[32mPASS\u001b[0m in 2.09s]\n",
      "\u001b[0m20:46:33  \n",
      "\u001b[0m20:46:33  Finished running 21 tests in 0 hours 0 minutes and 18.51 seconds (18.51s).\n",
      "\u001b[0m20:46:33  \n",
      "\u001b[0m20:46:33  \u001b[32mCompleted successfully\u001b[0m\n",
      "\u001b[0m20:46:33  \n",
      "\u001b[0m20:46:33  Done. PASS=21 WARN=0 ERROR=0 SKIP=0 TOTAL=21\n"
     ]
    }
   ],
   "source": [
    "!dbt test"
   ]
  },
  {
   "cell_type": "markdown",
   "metadata": {},
   "source": [
    "- Run all the models using this pattern. \n",
    "  \n",
    "> 👉 The run command materializes the data only. It does not run any test cases\n",
    "\n",
    "```bash\n",
    "$ dbt run --model <model.sql>\n",
    "```"
   ]
  },
  {
   "cell_type": "code",
   "execution_count": 1,
   "metadata": {},
   "outputs": [
    {
     "name": "stdout",
     "output_type": "stream",
     "text": [
      "\u001b[0m16:44:34  Running with dbt=1.4.5\n",
      "\u001b[0m16:44:36  Found 8 models, 21 tests, 0 snapshots, 0 analyses, 449 macros, 0 operations, 1 seed file, 2 sources, 0 exposures, 0 metrics\n",
      "\u001b[0m16:44:36  \n",
      "\u001b[0m16:44:39  Concurrency: 2 threads (target='dev')\n",
      "\u001b[0m16:44:39  \n",
      "\u001b[0m16:44:39  1 of 1 START sql incremental model mta_data.fact_turnstile ..................... [RUN]\n",
      "\u001b[0m16:44:47  1 of 1 OK created sql incremental model mta_data.fact_turnstile ................ [\u001b[32mMERGE (250.8k rows, 434.8 MB processed)\u001b[0m in 7.82s]\n",
      "\u001b[0m16:44:47  \n",
      "\u001b[0m16:44:47  Finished running 1 incremental model in 0 hours 0 minutes and 11.20 seconds (11.20s).\n",
      "\u001b[0m16:44:47  \n",
      "\u001b[0m16:44:47  \u001b[32mCompleted successfully\u001b[0m\n",
      "\u001b[0m16:44:47  \n",
      "\u001b[0m16:44:47  Done. PASS=1 WARN=0 ERROR=0 SKIP=0 TOTAL=1\n"
     ]
    }
   ],
   "source": [
    "!dbt run --model fact_turnstile.sql"
   ]
  }
 ],
 "metadata": {
  "kernelspec": {
   "display_name": "Python 3",
   "language": "python",
   "name": "python3"
  },
  "language_info": {
   "codemirror_mode": {
    "name": "ipython",
    "version": 3
   },
   "file_extension": ".py",
   "mimetype": "text/x-python",
   "name": "python",
   "nbconvert_exporter": "python",
   "pygments_lexer": "ipython3",
   "version": "3.8.10"
  }
 },
 "nbformat": 4,
 "nbformat_minor": 2
}
