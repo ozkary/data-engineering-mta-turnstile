{
 "cells": [
  {
   "cell_type": "markdown",
   "metadata": {},
   "source": [
    "## Data Modeling\n",
    "\n",
    "Use this notebook to run the dbt commands to build, test and publish the data warehouse models\n",
    "\n",
    "### What is dbt?\n",
    "\n",
    "dbt (data build tool) is tool that simplifies data transformation within your data warehouse, allowing you to build, test, and document data models using SQL.  It ensures data quality and consistency through a modular approach and facilitates collaboration between data engineers and analysts.\n",
    "\n",
    "![Data modeling lineage](../../images/ozkary-data-engineering-process-data-warehouse-lineage.png)\n"
   ]
  },
  {
   "cell_type": "code",
   "execution_count": 1,
   "metadata": {},
   "outputs": [
    {
     "name": "stdout",
     "output_type": "stream",
     "text": [
      "\u001b[0m20:20:04  Running with dbt=1.4.5\n",
      "\u001b[0m20:20:05  Installing dbt-labs/dbt_utils\n",
      "\u001b[0m20:20:06    Installed from version 1.0.0\n",
      "\u001b[0m20:20:06    Updated version available: 1.1.1\n",
      "\u001b[0m20:20:06  \n",
      "\u001b[0m20:20:06  Updates available for packages: ['dbt-labs/dbt_utils']                 \n",
      "Update your versions in packages.yml, then run dbt deps\n"
     ]
    }
   ],
   "source": [
    "# Make sure the dependencies are in the version you need\n",
    "!dbt deps"
   ]
  },
  {
   "cell_type": "markdown",
   "metadata": {},
   "source": [
    "- Builds and tests the model and uses variables to allow for the full dataset to be created (false allows for the entire dataset to be materialized)\n",
    "\n",
    "```bash\n",
    "$ dbt build --select stg_station --var 'is_test_run: false'\n",
    "$ dbt build --select dim_station \n",
    "```  \n",
    "\n",
    "> 👉 **stg_station** to build the view, **dim_station** to build the table\n",
    "\n",
    "**Understanding --model vs. --select**\n",
    "- --model: Specifies a single model to run.\n",
    "- --select: Specifies a pattern to match multiple models."
   ]
  },
  {
   "cell_type": "code",
   "execution_count": 1,
   "metadata": {},
   "outputs": [
    {
     "name": "stdout",
     "output_type": "stream",
     "text": [
      "\u001b[0m20:43:56  Running with dbt=1.8.4\n",
      "\u001b[0m20:43:57  Registered adapter: bigquery=1.8.2\n",
      "\u001b[0m20:43:58  Found 10 models, 1 seed, 30 data tests, 1 source, 585 macros\n",
      "\u001b[0m20:43:58  \n",
      "\u001b[0m20:43:59  Concurrency: 2 threads (target='dev')\n",
      "\u001b[0m20:43:59  \n",
      "\u001b[0m20:43:59  1 of 1 START sql incremental model mta_data.dim_station ........................ [RUN]\n",
      "\u001b[0m20:44:04  1 of 1 OK created sql incremental model mta_data.dim_station ................... [\u001b[32mMERGE (0.0 rows, 64.4 MiB processed)\u001b[0m in 5.24s]\n",
      "\u001b[0m20:44:04  \n",
      "\u001b[0m20:44:04  Finished running 1 incremental model in 0 hours 0 minutes and 6.11 seconds (6.11s).\n",
      "\u001b[0m20:44:04  \n",
      "\u001b[0m20:44:04  \u001b[32mCompleted successfully\u001b[0m\n",
      "\u001b[0m20:44:04  \n",
      "\u001b[0m20:44:04  Done. PASS=1 WARN=0 ERROR=0 SKIP=0 TOTAL=1\n"
     ]
    }
   ],
   "source": [
    "!dbt run --select dim_station.sql"
   ]
  },
  {
   "cell_type": "markdown",
   "metadata": {},
   "source": [
    "- Materialized the data for dim_booth"
   ]
  },
  {
   "cell_type": "code",
   "execution_count": 2,
   "metadata": {},
   "outputs": [
    {
     "name": "stdout",
     "output_type": "stream",
     "text": [
      "\u001b[0m20:44:16  Running with dbt=1.8.4\n",
      "\u001b[0m20:44:17  Registered adapter: bigquery=1.8.2\n",
      "\u001b[0m20:44:18  Found 10 models, 1 seed, 30 data tests, 1 source, 585 macros\n",
      "\u001b[0m20:44:18  \n",
      "\u001b[0m20:44:19  Concurrency: 2 threads (target='dev')\n",
      "\u001b[0m20:44:19  \n",
      "\u001b[0m20:44:19  1 of 1 START sql incremental model mta_data.dim_booth .......................... [RUN]\n",
      "\u001b[0m20:44:24  1 of 1 OK created sql incremental model mta_data.dim_booth ..................... [\u001b[32mMERGE (0.0 rows, 64.4 MiB processed)\u001b[0m in 5.15s]\n",
      "\u001b[0m20:44:24  \n",
      "\u001b[0m20:44:24  Finished running 1 incremental model in 0 hours 0 minutes and 6.01 seconds (6.01s).\n",
      "\u001b[0m20:44:24  \n",
      "\u001b[0m20:44:24  \u001b[32mCompleted successfully\u001b[0m\n",
      "\u001b[0m20:44:24  \n",
      "\u001b[0m20:44:24  Done. PASS=1 WARN=0 ERROR=0 SKIP=0 TOTAL=1\n"
     ]
    }
   ],
   "source": [
    "!dbt run --select dim_booth.sql"
   ]
  },
  {
   "cell_type": "markdown",
   "metadata": {},
   "source": [
    "- Run all the tests in the project"
   ]
  },
  {
   "cell_type": "code",
   "execution_count": 4,
   "metadata": {},
   "outputs": [
    {
     "name": "stdout",
     "output_type": "stream",
     "text": [
      "\u001b[0m23:56:15  Running with dbt=1.4.5\n",
      "\u001b[0m23:56:15  Found 8 models, 21 tests, 0 snapshots, 0 analyses, 449 macros, 0 operations, 1 seed file, 1 source, 0 exposures, 0 metrics\n",
      "\u001b[0m23:56:15  \n",
      "\u001b[0m23:56:15  Concurrency: 2 threads (target='dev')\n",
      "\u001b[0m23:56:15  \n",
      "\u001b[0m23:56:15  1 of 21 START test not_null_dim_booth_booth_id ................................. [RUN]\n",
      "\u001b[0m23:56:15  2 of 21 START test not_null_dim_booth_booth_name ............................... [RUN]\n",
      "\u001b[0m23:56:16  1 of 21 PASS not_null_dim_booth_booth_id ....................................... [\u001b[32mPASS\u001b[0m in 0.88s]\n",
      "\u001b[0m23:56:16  3 of 21 START test not_null_dim_booth_remote ................................... [RUN]\n",
      "\u001b[0m23:56:16  2 of 21 PASS not_null_dim_booth_booth_name ..................................... [\u001b[32mPASS\u001b[0m in 0.98s]\n",
      "\u001b[0m23:56:16  4 of 21 START test not_null_dim_station_station_id ............................. [RUN]\n",
      "\u001b[0m23:56:17  3 of 21 PASS not_null_dim_booth_remote ......................................... [\u001b[32mPASS\u001b[0m in 0.88s]\n",
      "\u001b[0m23:56:17  5 of 21 START test not_null_dim_station_station_name ........................... [RUN]\n",
      "\u001b[0m23:56:17  4 of 21 PASS not_null_dim_station_station_id ................................... [\u001b[32mPASS\u001b[0m in 0.88s]\n",
      "\u001b[0m23:56:17  6 of 21 START test not_null_fact_turnstile_created_dt .......................... [RUN]\n",
      "\u001b[0m23:56:18  5 of 21 PASS not_null_dim_station_station_name ................................. [\u001b[32mPASS\u001b[0m in 0.87s]\n",
      "\u001b[0m23:56:18  7 of 21 START test not_null_fact_turnstile_entries ............................. [RUN]\n",
      "\u001b[0m23:56:18  6 of 21 PASS not_null_fact_turnstile_created_dt ................................ [\u001b[32mPASS\u001b[0m in 1.02s]\n",
      "\u001b[0m23:56:18  8 of 21 START test not_null_fact_turnstile_exits ............................... [RUN]\n",
      "\u001b[0m23:56:19  7 of 21 PASS not_null_fact_turnstile_entries ................................... [\u001b[32mPASS\u001b[0m in 1.18s]\n",
      "\u001b[0m23:56:19  9 of 21 START test not_null_fact_turnstile_log_id .............................. [RUN]\n",
      "\u001b[0m23:56:19  8 of 21 PASS not_null_fact_turnstile_exits ..................................... [\u001b[32mPASS\u001b[0m in 1.16s]\n",
      "\u001b[0m23:56:19  10 of 21 START test not_null_stg_booth_booth_id ................................ [RUN]\n",
      "\u001b[0m23:56:20  9 of 21 PASS not_null_fact_turnstile_log_id .................................... [\u001b[32mPASS\u001b[0m in 1.05s]\n",
      "\u001b[0m23:56:20  11 of 21 START test not_null_stg_station_station_id ............................ [RUN]\n",
      "\u001b[0m23:56:22  10 of 21 PASS not_null_stg_booth_booth_id ...................................... [\u001b[32mPASS\u001b[0m in 3.00s]\n",
      "\u001b[0m23:56:22  12 of 21 START test not_null_stg_turnstile_log_id .............................. [RUN]\n",
      "\u001b[0m23:56:22  11 of 21 PASS not_null_stg_station_station_id .................................. [\u001b[32mPASS\u001b[0m in 2.31s]\n",
      "\u001b[0m23:56:22  13 of 21 START test relationships_dim_booth_station_id__station_id__ref_dim_station_  [RUN]\n",
      "\u001b[0m23:56:24  13 of 21 PASS relationships_dim_booth_station_id__station_id__ref_dim_station_ . [\u001b[32mPASS\u001b[0m in 1.16s]\n",
      "\u001b[0m23:56:24  14 of 21 START test relationships_fact_turnstile_booth_id__booth_id__ref_dim_booth_  [RUN]\n",
      "\u001b[0m23:56:24  14 of 21 PASS relationships_fact_turnstile_booth_id__booth_id__ref_dim_booth_ .. [\u001b[32mPASS\u001b[0m in 0.87s]\n",
      "\u001b[0m23:56:24  15 of 21 START test relationships_fact_turnstile_station_id__station_id__ref_dim_station_  [RUN]\n",
      "\u001b[0m23:56:25  15 of 21 PASS relationships_fact_turnstile_station_id__station_id__ref_dim_station_  [\u001b[32mPASS\u001b[0m in 0.98s]\n",
      "\u001b[0m23:56:25  16 of 21 START test unique_dim_booth_booth_id .................................. [RUN]\n",
      "\u001b[0m23:56:26  12 of 21 PASS not_null_stg_turnstile_log_id .................................... [\u001b[32mPASS\u001b[0m in 3.59s]\n",
      "\u001b[0m23:56:26  17 of 21 START test unique_dim_station_station_id .............................. [RUN]\n",
      "\u001b[0m23:56:26  16 of 21 PASS unique_dim_booth_booth_id ........................................ [\u001b[32mPASS\u001b[0m in 0.90s]\n",
      "\u001b[0m23:56:26  18 of 21 START test unique_fact_turnstile_log_id ............................... [RUN]\n",
      "\u001b[0m23:56:27  17 of 21 PASS unique_dim_station_station_id .................................... [\u001b[32mPASS\u001b[0m in 0.83s]\n",
      "\u001b[0m23:56:27  19 of 21 START test unique_stg_booth_booth_id .................................. [RUN]\n",
      "\u001b[0m23:56:28  18 of 21 PASS unique_fact_turnstile_log_id ..................................... [\u001b[32mPASS\u001b[0m in 1.85s]\n",
      "\u001b[0m23:56:28  20 of 21 START test unique_stg_station_station_id .............................. [RUN]\n",
      "\u001b[0m23:56:30  19 of 21 PASS unique_stg_booth_booth_id ........................................ [\u001b[32mPASS\u001b[0m in 3.06s]\n",
      "\u001b[0m23:56:30  21 of 21 START test unique_stg_turnstile_log_id ................................ [RUN]\n",
      "\u001b[0m23:56:31  20 of 21 PASS unique_stg_station_station_id .................................... [\u001b[32mPASS\u001b[0m in 2.46s]\n",
      "\u001b[0m23:56:33  21 of 21 PASS unique_stg_turnstile_log_id ...................................... [\u001b[32mPASS\u001b[0m in 3.60s]\n",
      "\u001b[0m23:56:33  \n",
      "\u001b[0m23:56:33  Finished running 21 tests in 0 hours 0 minutes and 18.52 seconds (18.52s).\n",
      "\u001b[0m23:56:33  \n",
      "\u001b[0m23:56:33  \u001b[32mCompleted successfully\u001b[0m\n",
      "\u001b[0m23:56:33  \n",
      "\u001b[0m23:56:33  Done. PASS=21 WARN=0 ERROR=0 SKIP=0 TOTAL=21\n"
     ]
    }
   ],
   "source": [
    "!dbt test"
   ]
  },
  {
   "cell_type": "markdown",
   "metadata": {},
   "source": [
    "- Run all the models using this pattern. \n",
    "  \n",
    "> 👉 The run command materializes the data only. It does not run any test cases\n",
    "\n",
    "```bash\n",
    "$ dbt run --model <model.sql>\n",
    "```"
   ]
  },
  {
   "cell_type": "code",
   "execution_count": 3,
   "metadata": {},
   "outputs": [
    {
     "name": "stdout",
     "output_type": "stream",
     "text": [
      "\u001b[0m20:44:34  Running with dbt=1.8.4\n",
      "\u001b[0m20:44:36  Registered adapter: bigquery=1.8.2\n",
      "\u001b[0m20:44:37  Found 10 models, 1 seed, 30 data tests, 1 source, 585 macros\n",
      "\u001b[0m20:44:37  \n",
      "\u001b[0m20:44:37  Concurrency: 2 threads (target='dev')\n",
      "\u001b[0m20:44:37  \n",
      "\u001b[0m20:44:37  1 of 1 START sql incremental model mta_data.fact_turnstile ..................... [RUN]\n",
      "\u001b[0m20:44:45  1 of 1 OK created sql incremental model mta_data.fact_turnstile ................ [\u001b[32mMERGE (249.5k rows, 220.0 MiB processed)\u001b[0m in 7.69s]\n",
      "\u001b[0m20:44:45  \n",
      "\u001b[0m20:44:45  Finished running 1 incremental model in 0 hours 0 minutes and 8.49 seconds (8.49s).\n",
      "\u001b[0m20:44:45  \n",
      "\u001b[0m20:44:45  \u001b[32mCompleted successfully\u001b[0m\n",
      "\u001b[0m20:44:45  \n",
      "\u001b[0m20:44:45  Done. PASS=1 WARN=0 ERROR=0 SKIP=0 TOTAL=1\n"
     ]
    }
   ],
   "source": [
    "!dbt run --model fact_turnstile.sql"
   ]
  },
  {
   "cell_type": "markdown",
   "metadata": {},
   "source": [
    "## show the documentation from the CLI\n",
    "\n",
    "```bash\n",
    "cd ./Step4-Data-Warehouse\n",
    "dbt docs serve\n",
    "```"
   ]
  }
 ],
 "metadata": {
  "kernelspec": {
   "display_name": "Python 3",
   "language": "python",
   "name": "python3"
  },
  "language_info": {
   "codemirror_mode": {
    "name": "ipython",
    "version": 3
   },
   "file_extension": ".py",
   "mimetype": "text/x-python",
   "name": "python",
   "nbconvert_exporter": "python",
   "pygments_lexer": "ipython3",
   "version": "3.8.10"
  }
 },
 "nbformat": 4,
 "nbformat_minor": 2
}
