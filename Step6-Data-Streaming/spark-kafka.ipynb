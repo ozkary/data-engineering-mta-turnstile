{
 "cells": [
  {
   "cell_type": "markdown",
   "metadata": {},
   "source": [
    "# Spark Kafka Data Streaming"
   ]
  },
  {
   "cell_type": "code",
   "execution_count": null,
   "metadata": {},
   "outputs": [],
   "source": [
    "import os\n",
    "import pandas as pd\n",
    "import json\n",
    "from pyspark.sql.functions import udf, col, from_json, from_csv, sum as _sum\n",
    "from pyspark.sql.types import StructType, StructField, StringType, IntegerType, TimestampType, DateType\n",
    "\n",
    "os.environ['PYSPARK_SUBMIT_ARGS'] = '--packages org.apache.spark:spark-sql-kafka-0-10_2.12:3.3.1,org.apache.spark:spark-avro_2.12:3.3.1 pyspark-shell'\n"
   ]
  },
  {
   "cell_type": "code",
   "execution_count": null,
   "metadata": {},
   "outputs": [],
   "source": [
    "## Configuration file reader\n",
    "\n",
    "def read_config(config_file):\n",
    "    \"\"\"\n",
    "    Reads the kafka configuration information that is stored in the system    \n",
    "    \"\"\"\n",
    "    conf = {}    \n",
    "    with open(config_file) as fh:\n",
    "        for line in fh:\n",
    "            line = line.strip()\n",
    "            if len(line) != 0 and line[0] != \"#\":\n",
    "                parameter, value = line.strip().split('=', 1)\n",
    "                conf[parameter] = value.strip()          \n",
    "    return conf"
   ]
  },
  {
   "cell_type": "code",
   "execution_count": null,
   "metadata": {},
   "outputs": [],
   "source": [
    "# read the local configuration files\n",
    "\n",
    "config_path = os.path.join(os.path.dirname('/home/ozkary/.kafka/'),'localhost-nosasl.properties')\n",
    "config = read_config(config_path)\n",
    "print(config)"
   ]
  },
  {
   "cell_type": "code",
   "execution_count": null,
   "metadata": {},
   "outputs": [],
   "source": [
    "from pyspark.sql import SparkSession\n",
    "import pyspark.sql.types as T\n",
    "import pyspark.sql.functions as F\n",
    "\n",
    "spark = SparkSession \\\n",
    "    .builder \\\n",
    "    .appName(\"Spark-Notebook\") \\\n",
    "    .getOrCreate()"
   ]
  },
  {
   "cell_type": "markdown",
   "metadata": {},
   "source": [
    "## Read from Kafka Stream"
   ]
  },
  {
   "cell_type": "code",
   "execution_count": null,
   "metadata": {},
   "outputs": [],
   "source": [
    "\n",
    "topic = 'mta-turnstile'\n",
    "client_id = 'Spark-Notebook-Session'\n",
    "group_id = 'turnstile'\n",
    "\n",
    "use_sasl = \"sasl.mechanism\" in config and config[\"sasl.mechanism\"] is not None\n",
    "\n",
    "kafka_options = {\n",
    "            \"kafka.bootstrap.servers\": config[\"bootstrap.servers\"],\n",
    "            \"subscribe\": topic,\n",
    "            \"startingOffsets\": \"latest\",\n",
    "            \"failOnDataLoss\": \"false\",\n",
    "            \"client.id\": client_id,            \n",
    "            \"group.id\": group_id,            \n",
    "            \"auto.offset.reset\": \"latest\",\n",
    "            \"checkpointLocation\": \"checkpoint\",\n",
    "            \"minPartitions\": \"2\",\n",
    "            \"enable.auto.commit\": \"false\",\n",
    "            \"enable.partition.eof\": \"true\"                        \n",
    "        }          \n",
    "\n",
    "if use_sasl:\n",
    "    # set the JAAS configuration only when use_sasl is True\n",
    "    sasl_config = f'org.apache.kafka.common.security.plain.PlainLoginModule required serviceName=\"kafka\" username=\"{self.settings[\"sasl.username\"]}\" password=\"{self.settings[\"sasl.password\"]}\";'\n",
    "\n",
    "    login_options = {\n",
    "        \"kafka.sasl.mechanisms\": self.settings[\"sasl.mechanism\"],\n",
    "        \"kafka.security.protocol\": self.settings[\"security.protocol\"],\n",
    "        \"kafka.sasl.username\": self.settings[\"sasl.username\"],\n",
    "        \"kafka.sasl.password\": self.settings[\"sasl.password\"],  \n",
    "        \"kafka.sasl.jaas.config\": sasl_config          \n",
    "    }\n",
    "    # merge the login options with the kafka options\n",
    "    kafka_options = {**kafka_options, **login_options}  "
   ]
  },
  {
   "cell_type": "code",
   "execution_count": null,
   "metadata": {},
   "outputs": [],
   "source": [
    "# set the stream source\n",
    "# default for startingOffsets is \"latest\"\n",
    "stream = spark \\\n",
    "    .readStream \\\n",
    "    .format(\"kafka\") \\\n",
    "    .options(**kafka_options) \\\n",
    "    .load()\n",
    "\n",
    "# .option(\"key.deserializer\", value_deserializer) \\\n",
    "# .option(\"value.deserializer\", value_deserializer) \\\n",
    "\n",
    "stream.printSchema()"
   ]
  },
  {
   "cell_type": "code",
   "execution_count": null,
   "metadata": {},
   "outputs": [],
   "source": [
    "\n",
    "def write_to_console(df: pd.DataFrame, output_mode: str = 'append', processing_time: str = '15 seconds') -> None:\n",
    "    \"\"\"\n",
    "        Output stream values to the console\n",
    "    \"\"\"\n",
    "    \n",
    "    console_query = df.writeStream\\\n",
    "        .outputMode(output_mode) \\\n",
    "        .trigger(processingTime=processing_time) \\\n",
    "        .format(\"console\") \\\n",
    "        .option(\"truncate\", False) \\\n",
    "        .start()\n",
    "    \n",
    "    console_query.awaitTermination()   \n",
    "\n",
    "# write a streaming data frame to storage ./storage\n",
    "def write_to_storage(df: pd.DataFrame, output_mode: str = 'append', processing_time: str = '15 seconds') -> None:\n",
    "    \"\"\"\n",
    "        Output stream values to the console\n",
    "    \"\"\"\n",
    "\n",
    "    # flatten the timestamp structure to a START_DT and END_DT columns, so they can be written to storage\n",
    "    df_csv = df.select(\n",
    "        col(\"window.start\").alias(\"START_DT\"),\n",
    "        col(\"window.end\").alias(\"END_DT\"),\n",
    "        \"A/C\",\"UNIT\",\"SCP\",\"STATION\",\"LINENAME\",\"DIVISION\",\"DATE\",\"DESC\",\n",
    "        \"ENTRIES\",\"EXITS\"        \n",
    "    )\n",
    "        \n",
    "    storage_query = df_csv.writeStream\\\n",
    "        .outputMode(output_mode) \\\n",
    "        .trigger(processingTime=processing_time) \\\n",
    "        .format(\"csv\") \\\n",
    "        .option(\"header\", True) \\\n",
    "        .option(\"path\", \"./storage\") \\\n",
    "        .option(\"checkpointLocation\", \"./checkpoint\") \\\n",
    "        .option(\"truncate\", False) \\\n",
    "        .start()\n",
    "    \n",
    "    storage_query.awaitTermination()\n",
    "\n",
    "# Define the schema for the incoming data\n",
    "turnstiles_schema = StructType([\n",
    "    StructField(\"`A/C`\", StringType()),\n",
    "    StructField(\"UNIT\", StringType()),\n",
    "    StructField(\"SCP\", StringType()),\n",
    "    StructField(\"STATION\", StringType()),\n",
    "    StructField(\"LINENAME\", StringType()),\n",
    "    StructField(\"DIVISION\", StringType()),\n",
    "    StructField(\"DATE\", StringType()),\n",
    "    StructField(\"TIME\", StringType()),\n",
    "    StructField(\"DESC\", StringType()),\n",
    "    StructField(\"ENTRIES\", IntegerType()),\n",
    "    StructField(\"EXITS\", IntegerType()),\n",
    "    StructField(\"ID\", StringType()),\n",
    "    StructField(\"TIMESTAMP\", TimestampType())\n",
    "])"
   ]
  },
  {
   "cell_type": "code",
   "execution_count": null,
   "metadata": {},
   "outputs": [],
   "source": [
    "\n",
    "def parse_messages(stream, schema) -> pd.DataFrame:\n",
    "    \"\"\"\n",
    "    Parse the messages and use the provided schema to type cast the fields\n",
    "    \"\"\"\n",
    "    assert stream.isStreaming is True, \"DataFrame doesn't receive streaming data\"\n",
    "\n",
    "    options =  {'header': 'true', 'sep': ','}\n",
    "    df = stream.selectExpr(\"CAST(key AS STRING)\", \"CAST(value AS STRING)\")               \n",
    "                                \n",
    "    # print(\"df =====>\",df)\n",
    "    # split attributes to nested array in one Column\n",
    "    col = F.split(df['value'], ',')\n",
    "\n",
    "    # expand col to multiple top-level columns\n",
    "    for idx, field in enumerate(schema):\n",
    "        df = df.withColumn(field.name.replace('`',''), col.getItem(idx).cast(field.dataType))\n",
    "\n",
    "    result = df.select([field.name for field in schema])    \n",
    "    result.printSchema()\n",
    "    \n",
    "    return result\n",
    "    "
   ]
  },
  {
   "cell_type": "code",
   "execution_count": 59,
   "metadata": {},
   "outputs": [],
   "source": [
    "def agg_messages(df, window_duration: str, window_slide: str) -> pd.DataFrame:\n",
    "        \"\"\"\n",
    "            Window for n minutes aggregations group by A/C, UNIT, STATION, DATE, DESC\n",
    "        \"\"\"\n",
    "        df = df.na.fill(0)\n",
    "\n",
    "        # Filter out empty rows\n",
    "        # df = df.filter(col(\"A/C\").isNotNull() & col(\"UNIT\").isNotNull() & col(\"STATION\").isNotNull())\n",
    "\n",
    "        df_windowed = df \\\n",
    "            .withWatermark(\"TIMESTAMP\", window_duration) \\\n",
    "            .groupBy(F.window(\"TIMESTAMP\", window_duration, window_slide),\"A/C\", \"UNIT\",\"SCP\",\"LINENAME\",\"DIVISION\", \"STATION\", \"DATE\", \"DESC\") \\\n",
    "            .agg(\n",
    "                _sum(\"ENTRIES\").alias(\"ENTRIES\"),\n",
    "                _sum(\"EXITS\").alias(\"EXITS\")\n",
    "            )    \n",
    "        \n",
    "        df_windowed.printSchema()            \n",
    "\n",
    "        return df_windowed"
   ]
  },
  {
   "cell_type": "code",
   "execution_count": 58,
   "metadata": {},
   "outputs": [
    {
     "name": "stderr",
     "output_type": "stream",
     "text": [
      "                                                                                \r"
     ]
    },
    {
     "name": "stdout",
     "output_type": "stream",
     "text": [
      "-------------------------------------------\n",
      "Batch: 123\n",
      "-------------------------------------------\n",
      "+------+---+----+-------+-------+-----+----+\n",
      "|window|A/C|UNIT|STATION|ENTRIES|EXITS|type|\n",
      "+------+---+----+-------+-------+-----+----+\n",
      "+------+---+----+-------+-------+-----+----+\n",
      "\n",
      "23/11/15 16:03:39 WARN ProcessingTimeExecutor: Current batch is falling behind. The trigger interval is 5000 milliseconds, but spent 9313 milliseconds\n"
     ]
    },
    {
     "name": "stderr",
     "output_type": "stream",
     "text": [
      "                                                                                \r"
     ]
    },
    {
     "name": "stdout",
     "output_type": "stream",
     "text": [
      "-------------------------------------------\n",
      "Batch: 5\n",
      "-------------------------------------------\n",
      "+------+---+----+---+--------+--------+-------+----+----+-------+-----+\n",
      "|window|A/C|UNIT|SCP|LINENAME|DIVISION|STATION|DATE|DESC|ENTRIES|EXITS|\n",
      "+------+---+----+---+--------+--------+-------+----+----+-------+-----+\n",
      "+------+---+----+---+--------+--------+-------+----+----+-------+-----+\n",
      "\n"
     ]
    },
    {
     "name": "stderr",
     "output_type": "stream",
     "text": [
      "                                                                                \r"
     ]
    },
    {
     "name": "stdout",
     "output_type": "stream",
     "text": [
      "-------------------------------------------\n",
      "Batch: 27\n",
      "-------------------------------------------\n",
      "+------+---+----+---+--------+--------+-------+----+----+-------+-----+\n",
      "|window|A/C|UNIT|SCP|LINENAME|DIVISION|STATION|DATE|DESC|ENTRIES|EXITS|\n",
      "+------+---+----+---+--------+--------+-------+----+----+-------+-----+\n",
      "+------+---+----+---+--------+--------+-------+----+----+-------+-----+\n",
      "\n",
      "23/11/15 16:03:46 WARN ProcessingTimeExecutor: Current batch is falling behind. The trigger interval is 5000 milliseconds, but spent 14270 milliseconds\n"
     ]
    }
   ],
   "source": [
    "# convert the schema to string\n",
    "schema_string = turnstiles_schema.simpleString()\n",
    "df_messages = parse_messages(stream, schema=turnstiles_schema)\n",
    "\n",
    "window_duration = '2 minutes'\n",
    "window_slide = '2 minutes'\n",
    "\n",
    "df_windowed = agg_messages(df_messages,window_duration, window_slide)\n",
    "    \n",
    "# add a type column to both dataframes to be able to join them\n",
    "# df_messages_with_type = df_messages.withColumn(\"type\", F.lit(\"turnstile\"))\n",
    "# df_windowed_with_type = df_windowed.withColumn(\"type\", F.lit(\"windowed\"))\n",
    "\n",
    "# union the dataframes to produce a single console output\n",
    "# df_union = df_messages_with_type.union(df_windowed_with_type)\n",
    "\n",
    "# write_to_console(df_messages_with_type)\n",
    "\n",
    "write_to_console(df_windowed)\n",
    "\n",
    "write_to_storage(df_windowed)\n",
    "\n",
    "# wait 3 minutes and then stop the query\n",
    "# time.sleep(180)\n",
    "# console_query.stop()\n",
    "# storage_query.stop()\n"
   ]
  },
  {
   "cell_type": "code",
   "execution_count": null,
   "metadata": {},
   "outputs": [],
   "source": [
    "# read all the csv files from storage and show the data\n",
    "df = spark.read.csv('./storage/*.csv', header=True)\n",
    "df.show()\n"
   ]
  }
 ],
 "metadata": {
  "kernelspec": {
   "display_name": "Python 3",
   "language": "python",
   "name": "python3"
  },
  "language_info": {
   "codemirror_mode": {
    "name": "ipython",
    "version": 3
   },
   "file_extension": ".py",
   "mimetype": "text/x-python",
   "name": "python",
   "nbconvert_exporter": "python",
   "pygments_lexer": "ipython3",
   "version": "3.8.10"
  }
 },
 "nbformat": 4,
 "nbformat_minor": 2
}
