{
 "cells": [
  {
   "cell_type": "markdown",
   "metadata": {},
   "source": [
    "# Interacting with the Data Lake files\n",
    "\n",
    "### Install the cloud provider Python libraries\n",
    "\n",
    "```bash\n",
    "\n",
    "pip install gcsfs\n",
    "\n",
    "```"
   ]
  },
  {
   "cell_type": "code",
   "execution_count": 1,
   "metadata": {},
   "outputs": [],
   "source": [
    "import os\n",
    "import pandas as pd"
   ]
  },
  {
   "cell_type": "code",
   "execution_count": 2,
   "metadata": {},
   "outputs": [],
   "source": [
    "# Specify the GCS bucket and path\n",
    "PROJECT = os.getenv('GOOGLE_PROJECT_NAME')\n",
    "BUCKET = 'gs://ozkary_data_lake_ozkary-de-101'\n",
    "CONTAINER = 'turnstile'"
   ]
  },
  {
   "cell_type": "markdown",
   "metadata": {},
   "source": [
    "## Use the Google Cloud API"
   ]
  },
  {
   "cell_type": "code",
   "execution_count": 3,
   "metadata": {},
   "outputs": [
    {
     "name": "stdout",
     "output_type": "stream",
     "text": [
      "turnstile/240302.csv.gz 2717306\n",
      "turnstile/240309.csv.gz 2756893\n",
      "turnstile/batch_23_20240722_210838.csv.gz 372\n",
      "turnstile/batch_24_20240722_211013.csv.gz 1231\n"
     ]
    }
   ],
   "source": [
    "# query the bucket using GCS API and display the file names and sizes\n",
    "from google.cloud import storage\n",
    "def files_in_storage():\n",
    "    storage_client = storage.Client(project=PROJECT)\n",
    "    bucket = storage_client.get_bucket(BUCKET.split('/')[-1])\n",
    "    files = bucket.list_blobs()\n",
    "    for file in files:    \n",
    "        print(file.name, file.size)\n",
    "\n",
    "files_in_storage()"
   ]
  },
  {
   "cell_type": "markdown",
   "metadata": {},
   "source": [
    "## View a data sample"
   ]
  },
  {
   "cell_type": "code",
   "execution_count": 4,
   "metadata": {},
   "outputs": [
    {
     "name": "stdout",
     "output_type": "stream",
     "text": [
      "gs://ozkary_data_lake_ozkary-de-101/turnstile/batch_24_20240722_211013.csv.gz\n",
      "     CA  UNIT       SCP        STATION LINENAME DIVISION        DATE  \\\n",
      "0  A001  R002  02-00-00  Test-Station1   456NQR      BMT  07/22/2024   \n",
      "1  A002  R001  02-00-00  Test-Station2   456NQR      BMT  07/22/2024   \n",
      "2  A002  R002  02-00-00  Test-Station1   456NQR      BMT  07/22/2024   \n",
      "3  A001  R002  02-00-00  Test-Station1   456NQR      BMT  07/22/2024   \n",
      "4  A001  R001  02-00-00  Test-Station1   456NQR      BMT  01/30/2024   \n",
      "5  A002  R002  02-00-00  Test-Station1   456NQR      BMT  07/22/2024   \n",
      "6  A002  R002  02-00-00  Test-Station2   456NQR      BMT  07/22/2024   \n",
      "7  A001  R002  02-00-00  Test-Station1   456NQR      BMT  07/22/2024   \n",
      "8  A001  R002  02-00-00  Test-Station1   456NQR      BMT  07/22/2024   \n",
      "9  A001  R001  02-00-00  Test-Station1   456NQR      BMT  07/22/2024   \n",
      "\n",
      "       TIME     DESC  ENTRIES  EXITS  \n",
      "0  17:55:00  REGULAR       26     32  \n",
      "1  17:35:00  REGULAR       25     25  \n",
      "2  17:55:00  REGULAR        6      6  \n",
      "3  19:35:00  REGULAR       17     13  \n",
      "4  16:20:00  REGULAR        5      9  \n",
      "5  20:15:00  REGULAR        6      5  \n",
      "6  19:45:00  REGULAR       27     25  \n",
      "7  17:45:00  REGULAR        5      7  \n",
      "8  20:55:00  REGULAR        8      6  \n",
      "9  17:55:00  REGULAR       10      6  \n"
     ]
    }
   ],
   "source": [
    "def show_data(path: str):\n",
    "    # Specify the GCS URL with the path to your file in your GCS bucket\n",
    "    gcs_url = f'{BUCKET}/{path}'\n",
    "    print(gcs_url)\n",
    "\n",
    "    # Use Pandas to read data from the GCS URL\n",
    "    df = pd.read_csv(gcs_url, iterator=False,compression=\"gzip\", index_col=0)\n",
    "\n",
    "    # Now you can work with the DataFrame 'df' as usual\n",
    "    print(df.head(10))  # Example: Display the first few rows of the DataFrame\n",
    "\n",
    "PATH = f'{CONTAINER}/batch_24_20240722_211013.csv.gz'\n",
    "show_data(PATH)"
   ]
  },
  {
   "cell_type": "markdown",
   "metadata": {},
   "source": [
    "## Look at the data from the data warehouse\n"
   ]
  },
  {
   "cell_type": "code",
   "execution_count": 5,
   "metadata": {},
   "outputs": [],
   "source": [
    "import google.cloud.bigquery\n",
    "\n",
    "DATASET = 'mta_data'\n",
    "\n",
    "# using the bigquery client library \n",
    "client = google.cloud.bigquery.Client()\n",
    "\n",
    "# set a reference to the database\n",
    "dataset_ref = client.dataset(DATASET, project=PROJECT)\n",
    "\n",
    "# define a run query function\n",
    "def run_query(sql):\n",
    "    query = client.query(sql)\n",
    "    return query.to_dataframe()\n",
    "    "
   ]
  },
  {
   "cell_type": "markdown",
   "metadata": {},
   "source": [
    "### View the data that is available on the data lake by querying the external table."
   ]
  },
  {
   "cell_type": "code",
   "execution_count": 6,
   "metadata": {},
   "outputs": [
    {
     "name": "stdout",
     "output_type": "stream",
     "text": [
      "\n",
      "SELECT CA,UNIT,STATION,LINENAME,DIVISION,DATE,TIME,`DESC`,ENTRIES,EXITS \n",
      "FROM `ozkary-de-101.mta_data.ext_turnstile`  \n",
      "limit 100\n",
      "\n"
     ]
    },
    {
     "data": {
      "text/html": [
       "<div>\n",
       "<style scoped>\n",
       "    .dataframe tbody tr th:only-of-type {\n",
       "        vertical-align: middle;\n",
       "    }\n",
       "\n",
       "    .dataframe tbody tr th {\n",
       "        vertical-align: top;\n",
       "    }\n",
       "\n",
       "    .dataframe thead th {\n",
       "        text-align: right;\n",
       "    }\n",
       "</style>\n",
       "<table border=\"1\" class=\"dataframe\">\n",
       "  <thead>\n",
       "    <tr style=\"text-align: right;\">\n",
       "      <th></th>\n",
       "      <th>CA</th>\n",
       "      <th>UNIT</th>\n",
       "      <th>STATION</th>\n",
       "      <th>LINENAME</th>\n",
       "      <th>DIVISION</th>\n",
       "      <th>DATE</th>\n",
       "      <th>TIME</th>\n",
       "      <th>DESC</th>\n",
       "      <th>ENTRIES</th>\n",
       "      <th>EXITS</th>\n",
       "    </tr>\n",
       "  </thead>\n",
       "  <tbody>\n",
       "    <tr>\n",
       "      <th>0</th>\n",
       "      <td>A001</td>\n",
       "      <td>R002</td>\n",
       "      <td>Test-Station1</td>\n",
       "      <td>456NQR</td>\n",
       "      <td>BMT</td>\n",
       "      <td>2024-07-22</td>\n",
       "      <td>17:55:00</td>\n",
       "      <td>REGULAR</td>\n",
       "      <td>26</td>\n",
       "      <td>32</td>\n",
       "    </tr>\n",
       "    <tr>\n",
       "      <th>1</th>\n",
       "      <td>A002</td>\n",
       "      <td>R001</td>\n",
       "      <td>Test-Station2</td>\n",
       "      <td>456NQR</td>\n",
       "      <td>BMT</td>\n",
       "      <td>2024-07-22</td>\n",
       "      <td>17:35:00</td>\n",
       "      <td>REGULAR</td>\n",
       "      <td>25</td>\n",
       "      <td>25</td>\n",
       "    </tr>\n",
       "    <tr>\n",
       "      <th>2</th>\n",
       "      <td>A002</td>\n",
       "      <td>R002</td>\n",
       "      <td>Test-Station1</td>\n",
       "      <td>456NQR</td>\n",
       "      <td>BMT</td>\n",
       "      <td>2024-07-22</td>\n",
       "      <td>17:55:00</td>\n",
       "      <td>REGULAR</td>\n",
       "      <td>6</td>\n",
       "      <td>6</td>\n",
       "    </tr>\n",
       "    <tr>\n",
       "      <th>3</th>\n",
       "      <td>A001</td>\n",
       "      <td>R002</td>\n",
       "      <td>Test-Station1</td>\n",
       "      <td>456NQR</td>\n",
       "      <td>BMT</td>\n",
       "      <td>2024-07-22</td>\n",
       "      <td>19:35:00</td>\n",
       "      <td>REGULAR</td>\n",
       "      <td>17</td>\n",
       "      <td>13</td>\n",
       "    </tr>\n",
       "    <tr>\n",
       "      <th>4</th>\n",
       "      <td>A001</td>\n",
       "      <td>R001</td>\n",
       "      <td>Test-Station1</td>\n",
       "      <td>456NQR</td>\n",
       "      <td>BMT</td>\n",
       "      <td>2024-01-30</td>\n",
       "      <td>16:20:00</td>\n",
       "      <td>REGULAR</td>\n",
       "      <td>5</td>\n",
       "      <td>9</td>\n",
       "    </tr>\n",
       "  </tbody>\n",
       "</table>\n",
       "</div>"
      ],
      "text/plain": [
       "     CA  UNIT        STATION LINENAME DIVISION        DATE      TIME     DESC  \\\n",
       "0  A001  R002  Test-Station1   456NQR      BMT  2024-07-22  17:55:00  REGULAR   \n",
       "1  A002  R001  Test-Station2   456NQR      BMT  2024-07-22  17:35:00  REGULAR   \n",
       "2  A002  R002  Test-Station1   456NQR      BMT  2024-07-22  17:55:00  REGULAR   \n",
       "3  A001  R002  Test-Station1   456NQR      BMT  2024-07-22  19:35:00  REGULAR   \n",
       "4  A001  R001  Test-Station1   456NQR      BMT  2024-01-30  16:20:00  REGULAR   \n",
       "\n",
       "   ENTRIES  EXITS  \n",
       "0       26     32  \n",
       "1       25     25  \n",
       "2        6      6  \n",
       "3       17     13  \n",
       "4        5      9  "
      ]
     },
     "execution_count": 6,
     "metadata": {},
     "output_type": "execute_result"
    }
   ],
   "source": [
    "# list the records from the external table (from the data lake)\n",
    "sql = \"\"\"\n",
    "SELECT CA,UNIT,STATION,LINENAME,DIVISION,DATE,TIME,`DESC`,ENTRIES,EXITS \n",
    "FROM `{}.{}.ext_turnstile`  \n",
    "limit 100\n",
    "\"\"\".format(PROJECT, DATASET)\n",
    "# query the data using the client reference\n",
    "df = run_query(sql)\n",
    "print(sql)\n",
    "df.head(5)"
   ]
  }
 ],
 "metadata": {
  "kernelspec": {
   "display_name": "Python 3",
   "language": "python",
   "name": "python3"
  },
  "language_info": {
   "codemirror_mode": {
    "name": "ipython",
    "version": 3
   },
   "file_extension": ".py",
   "mimetype": "text/x-python",
   "name": "python",
   "nbconvert_exporter": "python",
   "pygments_lexer": "ipython3",
   "version": "3.8.10"
  }
 },
 "nbformat": 4,
 "nbformat_minor": 2
}
